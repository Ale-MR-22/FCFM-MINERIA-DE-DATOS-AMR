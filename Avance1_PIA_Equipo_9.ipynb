{
    "cells": [
        {
            "cell_type": "markdown",
            "source": [
                "# Primer avance PIA\r\n",
                "## Grupo 001 - Lunes 7-10 PM\r\n",
                "## Equipo 9\r\n",
                "+ 1842161 Torres Guerrero Saul Ángel\r\n",
                "+ 1844656 Maldonado Ramirez Alejandra\r\n",
                "+ 1857712 Morales Tovar Carlos de Jesús\r\n",
                "+ 1941500 Espinosa Orrante Jesús Alejandro\r\n",
                "+ 1857810 Rivera Castillo Saúl Andrés"
            ],
            "metadata": {}
        },
        {
            "cell_type": "markdown",
            "source": [
                "## **Stock Exchange Data** \r\n",
                "URL: https://www.kaggle.com/mattiuzc/stock-exchange-data\r\n",
                "\r\n",
                "### **Introducción**\r\n",
                "La bolsa de valores es un mercado este puede ser físico o virtual, donde existe un demandante y un ofertante, en este se ofrece un capital. Estas transacciones se hacen mediante un intermediario autorizado para ofrecer este capital. Las bolsas de valores permiten la negociación e intercambio entre las empresas que requieren financiamiento y,  los ahorradores pueden ser persona u organizaciones. Estos últimos buscan invertir su dinero para obtener una rentabilidad. En las bolsas se negocian acciones y deuda, las acciones son las más conocidas \r\n",
                "Al invertir en la bolsa de valores se sabe que tiene riesgos, por esta razón puede que muchas personas no se interesen en invertir, para  resolver este tipo de problemas, el análisis de datos será la mejor herramienta para pronosticar la tendencia o incluso el futuro, así la persona u organización puede disminuir el riesgo de su inversión\r\n",
                "\r\n",
                "### **Descripción de los datos**\r\n",
                "Los tipos de datos que nos presentan son en su mayoría números, enteros o decimales, también nos dan porcentajes, fechas, gráficas y símbolos.  \r\n",
                "\r\n",
                "**Descripción de columnas** \r\n",
                "\r\n",
                "*    Primera columna: Encontramos el símbolo de la cotización de cada acción. \r\n",
                "*    Segunda columna: Fecha de la acción consecutivamente  \r\n",
                "*    Tercera columna: Precio de apertura, es decir el precio con el que la acción empezó \r\n",
                "*    Cuarta columna: Precio más alto que tuvo la acción en todo el día \r\n",
                "*    Quinta Columna: Precio más bajo que tuvo la acción en todo el día \r\n",
                "*    Sexta columna: Precio de cierre, es decir el precio con el que la acción termino el día \r\n",
                "*    Séptima columna: Precio de cierre ajustado a dividendos y divisiones, prácticamente es igual al precio de cierre \r\n",
                "*    Octava columna: Numero de acciones que se negociaron en el día\r\n",
                "*    Novena columna: Precio de cierre en dólares\r\n",
                "\r\n",
                "### **Justificación del uso de datos**\r\n",
                "Al momento de analizar la base de datos nos dimos cuenta que hay ciertos puntos de interés respecto a los datos, las relaciones que tienen entre cada columna y los diferentes tipos de análisis que se puedes realizar son interesantes porque así podemos ver como se desenvuelve la bolsa de valores en el mercado y como se desarrolla para cada campo en la que se encuentra, de igual forma podemos analizar qué tipo de acciones e inversiones son las más frecuentes entre los distintos tipos de inversionistas y cuáles podrían ser sus preferencias. \r\n",
                "\r\n",
                "El beneficio que encontramos de realizar nuestro trabajo con esta base de datos es poder adquirir conocimientos de cómo se maneja una bolsa de valores y sus diferentes factores que implica llevar a cabo una inversión y ver tanto como los resultados positivos como los negativos y poder ir por el mejor camino para tener una buena efectividad.\r\n",
                "\r\n",
                "### **Objetivo final**\r\n",
                "\r\n",
                "\r\n",
                "### **Preguntas de interés**\r\n",
                "* A\r\n",
                "* A"
            ],
            "metadata": {
                "id": "Rmu3Urm64A2U"
            }
        },
        {
            "cell_type": "markdown",
            "source": [
                "## **Limpieza de datos**"
            ],
            "metadata": {}
        },
        {
            "cell_type": "code",
            "execution_count": 12,
            "source": [
                "import pandas as pd\r\n",
                "import numpy as np\r\n",
                "import json\r\n",
                "#Importando la base de datos bajo el nombre IP\r\n",
                "IP = pd.read_csv(\"indexProcessed.csv\", encoding='utf8')"
            ],
            "outputs": [],
            "metadata": {}
        },
        {
            "cell_type": "markdown",
            "source": [
                "#### **Visualización de datos**"
            ],
            "metadata": {}
        },
        {
            "cell_type": "code",
            "execution_count": 13,
            "source": [
                "IP.shape"
            ],
            "outputs": [
                {
                    "output_type": "execute_result",
                    "data": {
                        "text/plain": [
                            "(104224, 9)"
                        ]
                    },
                    "metadata": {},
                    "execution_count": 13
                }
            ],
            "metadata": {}
        },
        {
            "cell_type": "code",
            "execution_count": 14,
            "source": [
                "#Mostrando las primeras 6 filas de la base de datos IP\r\n",
                "IP.head(6)"
            ],
            "outputs": [
                {
                    "output_type": "execute_result",
                    "data": {
                        "text/plain": [
                            "  Index        Date         Open         High          Low        Close  \\\n",
                            "0   HSI  1986-12-31  2568.300049  2568.300049  2568.300049  2568.300049   \n",
                            "1   HSI  1987-01-02  2540.100098  2540.100098  2540.100098  2540.100098   \n",
                            "2   HSI  1987-01-05  2552.399902  2552.399902  2552.399902  2552.399902   \n",
                            "3   HSI  1987-01-06  2583.899902  2583.899902  2583.899902  2583.899902   \n",
                            "4   HSI  1987-01-07  2607.100098  2607.100098  2607.100098  2607.100098   \n",
                            "5   HSI  1987-01-08  2603.300049  2603.300049  2603.300049  2603.300049   \n",
                            "\n",
                            "     Adj Close  Volume    CloseUSD  \n",
                            "0  2568.300049     0.0  333.879006  \n",
                            "1  2540.100098     0.0  330.213013  \n",
                            "2  2552.399902     0.0  331.811987  \n",
                            "3  2583.899902     0.0  335.906987  \n",
                            "4  2607.100098     0.0  338.923013  \n",
                            "5  2603.300049     0.0  338.429006  "
                        ],
                        "text/html": [
                            "<div>\n",
                            "<style scoped>\n",
                            "    .dataframe tbody tr th:only-of-type {\n",
                            "        vertical-align: middle;\n",
                            "    }\n",
                            "\n",
                            "    .dataframe tbody tr th {\n",
                            "        vertical-align: top;\n",
                            "    }\n",
                            "\n",
                            "    .dataframe thead th {\n",
                            "        text-align: right;\n",
                            "    }\n",
                            "</style>\n",
                            "<table border=\"1\" class=\"dataframe\">\n",
                            "  <thead>\n",
                            "    <tr style=\"text-align: right;\">\n",
                            "      <th></th>\n",
                            "      <th>Index</th>\n",
                            "      <th>Date</th>\n",
                            "      <th>Open</th>\n",
                            "      <th>High</th>\n",
                            "      <th>Low</th>\n",
                            "      <th>Close</th>\n",
                            "      <th>Adj Close</th>\n",
                            "      <th>Volume</th>\n",
                            "      <th>CloseUSD</th>\n",
                            "    </tr>\n",
                            "  </thead>\n",
                            "  <tbody>\n",
                            "    <tr>\n",
                            "      <th>0</th>\n",
                            "      <td>HSI</td>\n",
                            "      <td>1986-12-31</td>\n",
                            "      <td>2568.300049</td>\n",
                            "      <td>2568.300049</td>\n",
                            "      <td>2568.300049</td>\n",
                            "      <td>2568.300049</td>\n",
                            "      <td>2568.300049</td>\n",
                            "      <td>0.0</td>\n",
                            "      <td>333.879006</td>\n",
                            "    </tr>\n",
                            "    <tr>\n",
                            "      <th>1</th>\n",
                            "      <td>HSI</td>\n",
                            "      <td>1987-01-02</td>\n",
                            "      <td>2540.100098</td>\n",
                            "      <td>2540.100098</td>\n",
                            "      <td>2540.100098</td>\n",
                            "      <td>2540.100098</td>\n",
                            "      <td>2540.100098</td>\n",
                            "      <td>0.0</td>\n",
                            "      <td>330.213013</td>\n",
                            "    </tr>\n",
                            "    <tr>\n",
                            "      <th>2</th>\n",
                            "      <td>HSI</td>\n",
                            "      <td>1987-01-05</td>\n",
                            "      <td>2552.399902</td>\n",
                            "      <td>2552.399902</td>\n",
                            "      <td>2552.399902</td>\n",
                            "      <td>2552.399902</td>\n",
                            "      <td>2552.399902</td>\n",
                            "      <td>0.0</td>\n",
                            "      <td>331.811987</td>\n",
                            "    </tr>\n",
                            "    <tr>\n",
                            "      <th>3</th>\n",
                            "      <td>HSI</td>\n",
                            "      <td>1987-01-06</td>\n",
                            "      <td>2583.899902</td>\n",
                            "      <td>2583.899902</td>\n",
                            "      <td>2583.899902</td>\n",
                            "      <td>2583.899902</td>\n",
                            "      <td>2583.899902</td>\n",
                            "      <td>0.0</td>\n",
                            "      <td>335.906987</td>\n",
                            "    </tr>\n",
                            "    <tr>\n",
                            "      <th>4</th>\n",
                            "      <td>HSI</td>\n",
                            "      <td>1987-01-07</td>\n",
                            "      <td>2607.100098</td>\n",
                            "      <td>2607.100098</td>\n",
                            "      <td>2607.100098</td>\n",
                            "      <td>2607.100098</td>\n",
                            "      <td>2607.100098</td>\n",
                            "      <td>0.0</td>\n",
                            "      <td>338.923013</td>\n",
                            "    </tr>\n",
                            "    <tr>\n",
                            "      <th>5</th>\n",
                            "      <td>HSI</td>\n",
                            "      <td>1987-01-08</td>\n",
                            "      <td>2603.300049</td>\n",
                            "      <td>2603.300049</td>\n",
                            "      <td>2603.300049</td>\n",
                            "      <td>2603.300049</td>\n",
                            "      <td>2603.300049</td>\n",
                            "      <td>0.0</td>\n",
                            "      <td>338.429006</td>\n",
                            "    </tr>\n",
                            "  </tbody>\n",
                            "</table>\n",
                            "</div>"
                        ]
                    },
                    "metadata": {},
                    "execution_count": 14
                }
            ],
            "metadata": {}
        },
        {
            "cell_type": "code",
            "execution_count": 15,
            "source": [
                "#Desplegando el nombre de todas las columans que conforman la base de datos IP\r\n",
                "IP.columns"
            ],
            "outputs": [
                {
                    "output_type": "execute_result",
                    "data": {
                        "text/plain": [
                            "Index(['Index', 'Date', 'Open', 'High', 'Low', 'Close', 'Adj Close', 'Volume',\n",
                            "       'CloseUSD'],\n",
                            "      dtype='object')"
                        ]
                    },
                    "metadata": {},
                    "execution_count": 15
                }
            ],
            "metadata": {}
        },
        {
            "cell_type": "markdown",
            "source": [
                "#### **Descripción básica de columnas**"
            ],
            "metadata": {}
        },
        {
            "cell_type": "code",
            "execution_count": 16,
            "source": [
                "#Indicando el tipo de dato que contiene cada columna de la base de datos IP\r\n",
                "#Verificando la presencia o no de datos nulos en cada columna de la base de datos IP\r\n",
                "for i in range(0,9):\r\n",
                "    print(\"La columna\",IP.columns[i],\"contiene datos de tipo\",IP[IP.columns[i]].dtype)\r\n",
                "    DN=IP.isnull().any()[IP.columns[i]]\r\n",
                "    if DN == False:\r\n",
                "      print(\"La columna\",IP.columns[i],\"no presenta datos nulos\")\r\n",
                "      print()\r\n",
                "    else:\r\n",
                "      print(\"La columna\",IP.columns[i],\"presenta\",IP.isnull().sum()[IP.columns[i]],\"datos nulos\")\r\n",
                "      print()\r\n",
                " \r\n",
                "#Eliminando columnas redudantes (presentan la misma información)\r\n",
                "NIP=IP.drop(columns=['Open','High','Low','Close','Adj Close'])\r\n",
                "NIP.head(6)"
            ],
            "outputs": [
                {
                    "output_type": "stream",
                    "name": "stdout",
                    "text": [
                        "La columna Index contiene datos de tipo object\n",
                        "La columna Index no presenta datos nulos\n",
                        "\n",
                        "La columna Date contiene datos de tipo object\n",
                        "La columna Date no presenta datos nulos\n",
                        "\n",
                        "La columna Open contiene datos de tipo float64\n",
                        "La columna Open no presenta datos nulos\n",
                        "\n",
                        "La columna High contiene datos de tipo float64\n",
                        "La columna High no presenta datos nulos\n",
                        "\n",
                        "La columna Low contiene datos de tipo float64\n",
                        "La columna Low no presenta datos nulos\n",
                        "\n",
                        "La columna Close contiene datos de tipo float64\n",
                        "La columna Close no presenta datos nulos\n",
                        "\n",
                        "La columna Adj Close contiene datos de tipo float64\n",
                        "La columna Adj Close no presenta datos nulos\n",
                        "\n",
                        "La columna Volume contiene datos de tipo float64\n",
                        "La columna Volume no presenta datos nulos\n",
                        "\n",
                        "La columna CloseUSD contiene datos de tipo float64\n",
                        "La columna CloseUSD no presenta datos nulos\n",
                        "\n"
                    ]
                },
                {
                    "output_type": "execute_result",
                    "data": {
                        "text/plain": [
                            "  Index        Date  Volume    CloseUSD\n",
                            "0   HSI  1986-12-31     0.0  333.879006\n",
                            "1   HSI  1987-01-02     0.0  330.213013\n",
                            "2   HSI  1987-01-05     0.0  331.811987\n",
                            "3   HSI  1987-01-06     0.0  335.906987\n",
                            "4   HSI  1987-01-07     0.0  338.923013\n",
                            "5   HSI  1987-01-08     0.0  338.429006"
                        ],
                        "text/html": [
                            "<div>\n",
                            "<style scoped>\n",
                            "    .dataframe tbody tr th:only-of-type {\n",
                            "        vertical-align: middle;\n",
                            "    }\n",
                            "\n",
                            "    .dataframe tbody tr th {\n",
                            "        vertical-align: top;\n",
                            "    }\n",
                            "\n",
                            "    .dataframe thead th {\n",
                            "        text-align: right;\n",
                            "    }\n",
                            "</style>\n",
                            "<table border=\"1\" class=\"dataframe\">\n",
                            "  <thead>\n",
                            "    <tr style=\"text-align: right;\">\n",
                            "      <th></th>\n",
                            "      <th>Index</th>\n",
                            "      <th>Date</th>\n",
                            "      <th>Volume</th>\n",
                            "      <th>CloseUSD</th>\n",
                            "    </tr>\n",
                            "  </thead>\n",
                            "  <tbody>\n",
                            "    <tr>\n",
                            "      <th>0</th>\n",
                            "      <td>HSI</td>\n",
                            "      <td>1986-12-31</td>\n",
                            "      <td>0.0</td>\n",
                            "      <td>333.879006</td>\n",
                            "    </tr>\n",
                            "    <tr>\n",
                            "      <th>1</th>\n",
                            "      <td>HSI</td>\n",
                            "      <td>1987-01-02</td>\n",
                            "      <td>0.0</td>\n",
                            "      <td>330.213013</td>\n",
                            "    </tr>\n",
                            "    <tr>\n",
                            "      <th>2</th>\n",
                            "      <td>HSI</td>\n",
                            "      <td>1987-01-05</td>\n",
                            "      <td>0.0</td>\n",
                            "      <td>331.811987</td>\n",
                            "    </tr>\n",
                            "    <tr>\n",
                            "      <th>3</th>\n",
                            "      <td>HSI</td>\n",
                            "      <td>1987-01-06</td>\n",
                            "      <td>0.0</td>\n",
                            "      <td>335.906987</td>\n",
                            "    </tr>\n",
                            "    <tr>\n",
                            "      <th>4</th>\n",
                            "      <td>HSI</td>\n",
                            "      <td>1987-01-07</td>\n",
                            "      <td>0.0</td>\n",
                            "      <td>338.923013</td>\n",
                            "    </tr>\n",
                            "    <tr>\n",
                            "      <th>5</th>\n",
                            "      <td>HSI</td>\n",
                            "      <td>1987-01-08</td>\n",
                            "      <td>0.0</td>\n",
                            "      <td>338.429006</td>\n",
                            "    </tr>\n",
                            "  </tbody>\n",
                            "</table>\n",
                            "</div>"
                        ]
                    },
                    "metadata": {},
                    "execution_count": 16
                }
            ],
            "metadata": {}
        },
        {
            "cell_type": "markdown",
            "source": [
                "#### **Clasificación de datos**"
            ],
            "metadata": {}
        },
        {
            "cell_type": "code",
            "execution_count": 17,
            "source": [
                "#Clasificando los índices por país (EUA, Japón, Hong Kong) (Las 3 bolsas más importantes del mundo)\r\n",
                "class EUA:\r\n",
                "  NYA=NIP[NIP.Index==\"NYA\"]\r\n",
                "  IXIC=NIP[NIP.Index==\"IXIC\"]\r\n",
                " \r\n",
                "class Japon:\r\n",
                "  N225=NIP[NIP.Index==\"N225\"]\r\n",
                " \r\n",
                "class HK: #Hong Kong\r\n",
                "  HSI=NIP[NIP.Index==\"HSI\"]\r\n",
                " \r\n",
                "#Ver lo que guardo cada clase (Solo quita el # para que funcione)\r\n",
                "#print(EUA.NYA)\r\n",
                "#print(EUA.IXIC)\r\n",
                "#print(Japon.N225)\r\n",
                "#print(HK.HSI)"
            ],
            "outputs": [],
            "metadata": {}
        },
        {
            "cell_type": "markdown",
            "source": [
                "#### **Guardado de archivos en agrupaciones**"
            ],
            "metadata": {}
        },
        {
            "cell_type": "code",
            "execution_count": 18,
            "source": [
                "#Guardando la información del índice NYA en un nuevo archivo.csv \r\n",
                "EUA.NYA.to_csv('NYA.csv',index=False)"
            ],
            "outputs": [],
            "metadata": {}
        },
        {
            "cell_type": "markdown",
            "source": [
                "### **Limpieza de datos (Base secundaria)** \r\n",
                "## **Countries Life Expectancy**\r\n",
                "\r\n",
                "URL: https://www.kaggle.com/brendan45774/countries-life-expectancy\r\n"
            ],
            "metadata": {
                "id": "ZiVhCrlDS97T"
            }
        },
        {
            "cell_type": "code",
            "execution_count": 1,
            "source": [
                "import pandas as pd\r\n",
                "import numpy as np\r\n",
                "import json\r\n",
                "#Importando la base de datos bajo el nombre LE\r\n",
                "LE = pd.read_csv(\"Life expectancy.csv\", encoding='utf8')"
            ],
            "outputs": [],
            "metadata": {}
        },
        {
            "cell_type": "markdown",
            "source": [
                "#### **Visualización de datos**"
            ],
            "metadata": {}
        },
        {
            "cell_type": "code",
            "execution_count": 2,
            "source": [
                "LE.shape"
            ],
            "outputs": [
                {
                    "output_type": "execute_result",
                    "data": {
                        "text/plain": [
                            "(3253, 3)"
                        ]
                    },
                    "metadata": {},
                    "execution_count": 2
                }
            ],
            "metadata": {}
        },
        {
            "cell_type": "code",
            "execution_count": 3,
            "source": [
                "#Mostrando las primeras 6 filas de la base de datos LE\r\n",
                "LE.head(6)"
            ],
            "outputs": [
                {
                    "output_type": "execute_result",
                    "data": {
                        "text/plain": [
                            "      Entity  Year  Life expectancy\n",
                            "0  Australia  1802        34.049999\n",
                            "1  Australia  1803        34.049999\n",
                            "2  Australia  1804        34.049999\n",
                            "3  Australia  1805        34.049999\n",
                            "4  Australia  1806        34.049999\n",
                            "5  Australia  1807        34.049999"
                        ],
                        "text/html": [
                            "<div>\n",
                            "<style scoped>\n",
                            "    .dataframe tbody tr th:only-of-type {\n",
                            "        vertical-align: middle;\n",
                            "    }\n",
                            "\n",
                            "    .dataframe tbody tr th {\n",
                            "        vertical-align: top;\n",
                            "    }\n",
                            "\n",
                            "    .dataframe thead th {\n",
                            "        text-align: right;\n",
                            "    }\n",
                            "</style>\n",
                            "<table border=\"1\" class=\"dataframe\">\n",
                            "  <thead>\n",
                            "    <tr style=\"text-align: right;\">\n",
                            "      <th></th>\n",
                            "      <th>Entity</th>\n",
                            "      <th>Year</th>\n",
                            "      <th>Life expectancy</th>\n",
                            "    </tr>\n",
                            "  </thead>\n",
                            "  <tbody>\n",
                            "    <tr>\n",
                            "      <th>0</th>\n",
                            "      <td>Australia</td>\n",
                            "      <td>1802</td>\n",
                            "      <td>34.049999</td>\n",
                            "    </tr>\n",
                            "    <tr>\n",
                            "      <th>1</th>\n",
                            "      <td>Australia</td>\n",
                            "      <td>1803</td>\n",
                            "      <td>34.049999</td>\n",
                            "    </tr>\n",
                            "    <tr>\n",
                            "      <th>2</th>\n",
                            "      <td>Australia</td>\n",
                            "      <td>1804</td>\n",
                            "      <td>34.049999</td>\n",
                            "    </tr>\n",
                            "    <tr>\n",
                            "      <th>3</th>\n",
                            "      <td>Australia</td>\n",
                            "      <td>1805</td>\n",
                            "      <td>34.049999</td>\n",
                            "    </tr>\n",
                            "    <tr>\n",
                            "      <th>4</th>\n",
                            "      <td>Australia</td>\n",
                            "      <td>1806</td>\n",
                            "      <td>34.049999</td>\n",
                            "    </tr>\n",
                            "    <tr>\n",
                            "      <th>5</th>\n",
                            "      <td>Australia</td>\n",
                            "      <td>1807</td>\n",
                            "      <td>34.049999</td>\n",
                            "    </tr>\n",
                            "  </tbody>\n",
                            "</table>\n",
                            "</div>"
                        ]
                    },
                    "metadata": {},
                    "execution_count": 3
                }
            ],
            "metadata": {}
        },
        {
            "cell_type": "code",
            "execution_count": 4,
            "source": [
                "#Desplegando el nombre de todas las columans que conforman la base de datos LE\r\n",
                "LE.columns"
            ],
            "outputs": [
                {
                    "output_type": "execute_result",
                    "data": {
                        "text/plain": [
                            "Index(['Entity', 'Year', 'Life expectancy'], dtype='object')"
                        ]
                    },
                    "metadata": {},
                    "execution_count": 4
                }
            ],
            "metadata": {}
        },
        {
            "cell_type": "markdown",
            "source": [
                "#### **Descripción básica de columnas**"
            ],
            "metadata": {}
        },
        {
            "cell_type": "code",
            "execution_count": 5,
            "source": [
                "#Indicando el tipo de dato que contiene cada columna de la base de datos LE\r\n",
                "#Verificando la presencia o no de datos nulos en cada columna de la base de datos LE\r\n",
                "for i in range(0,3):\r\n",
                "    print(\"La columna\",LE.columns[i],\"contiene datos de tipo\",LE[LE.columns[i]].dtype)\r\n",
                "    DN2=LE.isnull().any()[LE.columns[i]]\r\n",
                "    if DN2 == False:\r\n",
                "      print(\"La columna\",LE.columns[i],\"no presenta datos nulos\")\r\n",
                "      print()\r\n",
                "    else:\r\n",
                "      print(\"La columna\",LE.columns[i],\"presenta\",LE.isnull().sum()[LE.columns[i]],\"datos nulos\")\r\n",
                "      print()\r\n",
                " \r\n",
                "#Eliminando columnas redudantes (presentan la misma información)\r\n",
                "## Se omite en este caso debido a que la información de cada columna es diferente"
            ],
            "outputs": [
                {
                    "output_type": "stream",
                    "name": "stdout",
                    "text": [
                        "La columna Entity contiene datos de tipo object\n",
                        "La columna Entity no presenta datos nulos\n",
                        "\n",
                        "La columna Year contiene datos de tipo int64\n",
                        "La columna Year no presenta datos nulos\n",
                        "\n",
                        "La columna Life expectancy contiene datos de tipo float64\n",
                        "La columna Life expectancy no presenta datos nulos\n",
                        "\n"
                    ]
                }
            ],
            "metadata": {}
        },
        {
            "cell_type": "markdown",
            "source": [
                "#### **Cambios de nombre de columna**"
            ],
            "metadata": {}
        },
        {
            "cell_type": "code",
            "execution_count": 6,
            "source": [
                "#Cambiando nombre de columna para evitar confusiones de traducción\r\n",
                "LE.rename(columns={'Entity':'Country'},inplace=True)\r\n",
                "LE.head(6)"
            ],
            "outputs": [
                {
                    "output_type": "execute_result",
                    "data": {
                        "text/plain": [
                            "     Country  Year  Life expectancy\n",
                            "0  Australia  1802        34.049999\n",
                            "1  Australia  1803        34.049999\n",
                            "2  Australia  1804        34.049999\n",
                            "3  Australia  1805        34.049999\n",
                            "4  Australia  1806        34.049999\n",
                            "5  Australia  1807        34.049999"
                        ],
                        "text/html": [
                            "<div>\n",
                            "<style scoped>\n",
                            "    .dataframe tbody tr th:only-of-type {\n",
                            "        vertical-align: middle;\n",
                            "    }\n",
                            "\n",
                            "    .dataframe tbody tr th {\n",
                            "        vertical-align: top;\n",
                            "    }\n",
                            "\n",
                            "    .dataframe thead th {\n",
                            "        text-align: right;\n",
                            "    }\n",
                            "</style>\n",
                            "<table border=\"1\" class=\"dataframe\">\n",
                            "  <thead>\n",
                            "    <tr style=\"text-align: right;\">\n",
                            "      <th></th>\n",
                            "      <th>Country</th>\n",
                            "      <th>Year</th>\n",
                            "      <th>Life expectancy</th>\n",
                            "    </tr>\n",
                            "  </thead>\n",
                            "  <tbody>\n",
                            "    <tr>\n",
                            "      <th>0</th>\n",
                            "      <td>Australia</td>\n",
                            "      <td>1802</td>\n",
                            "      <td>34.049999</td>\n",
                            "    </tr>\n",
                            "    <tr>\n",
                            "      <th>1</th>\n",
                            "      <td>Australia</td>\n",
                            "      <td>1803</td>\n",
                            "      <td>34.049999</td>\n",
                            "    </tr>\n",
                            "    <tr>\n",
                            "      <th>2</th>\n",
                            "      <td>Australia</td>\n",
                            "      <td>1804</td>\n",
                            "      <td>34.049999</td>\n",
                            "    </tr>\n",
                            "    <tr>\n",
                            "      <th>3</th>\n",
                            "      <td>Australia</td>\n",
                            "      <td>1805</td>\n",
                            "      <td>34.049999</td>\n",
                            "    </tr>\n",
                            "    <tr>\n",
                            "      <th>4</th>\n",
                            "      <td>Australia</td>\n",
                            "      <td>1806</td>\n",
                            "      <td>34.049999</td>\n",
                            "    </tr>\n",
                            "    <tr>\n",
                            "      <th>5</th>\n",
                            "      <td>Australia</td>\n",
                            "      <td>1807</td>\n",
                            "      <td>34.049999</td>\n",
                            "    </tr>\n",
                            "  </tbody>\n",
                            "</table>\n",
                            "</div>"
                        ]
                    },
                    "metadata": {},
                    "execution_count": 6
                }
            ],
            "metadata": {}
        },
        {
            "cell_type": "markdown",
            "source": [
                "#### **Clasificación de datos**"
            ],
            "metadata": {}
        },
        {
            "cell_type": "code",
            "execution_count": 11,
            "source": [
                "#Clasificando la esperanza de vida a través del tiempo por país (EUA, Japón, México)\r\n",
                "class USA:\r\n",
                "  US=LE[LE.Country==\"United States\"]\r\n",
                "  \r\n",
                "class JPN:\r\n",
                "  JP=LE[LE.Country==\"Japan\"]\r\n",
                " \r\n",
                "class MEX:\r\n",
                "  MX=LE[LE.Country==\"Mexico\"]\r\n",
                " \r\n",
                "#Ver lo que guardo cada clase (Solo quita el # para que funcione)\r\n",
                "#print(USA.US)\r\n",
                "#print(JPN.JP)\r\n",
                "print(MEX.MX)"
            ],
            "outputs": [
                {
                    "output_type": "stream",
                    "name": "stdout",
                    "text": [
                        "     Country  Year  Life expectancy\n",
                        "1951  Mexico  1800        26.900000\n",
                        "1952  Mexico  1801        26.900000\n",
                        "1953  Mexico  1802        26.900000\n",
                        "1954  Mexico  1803        26.900000\n",
                        "1955  Mexico  1804        26.900000\n",
                        "...      ...   ...              ...\n",
                        "2163  Mexico  2012        75.879997\n",
                        "2164  Mexico  2013        75.790001\n",
                        "2165  Mexico  2014        75.900002\n",
                        "2166  Mexico  2015        76.190002\n",
                        "2167  Mexico  2016        76.379997\n",
                        "\n",
                        "[217 rows x 3 columns]\n"
                    ]
                }
            ],
            "metadata": {}
        },
        {
            "cell_type": "markdown",
            "source": [
                "#### **Guardado de archivos en agrupaciones**"
            ],
            "metadata": {}
        },
        {
            "cell_type": "code",
            "execution_count": 8,
            "source": [
                "#Guardando la información de la esperanza de vida de México en un nuevo archivo.csv \r\n",
                "MEX.MX.to_csv('MX.csv',index=False)"
            ],
            "outputs": [],
            "metadata": {}
        }
    ],
    "metadata": {
        "orig_nbformat": 4,
        "language_info": {
            "name": "python",
            "version": "3.9.6",
            "mimetype": "text/x-python",
            "codemirror_mode": {
                "name": "ipython",
                "version": 3
            },
            "pygments_lexer": "ipython3",
            "nbconvert_exporter": "python",
            "file_extension": ".py"
        },
        "kernelspec": {
            "name": "python3",
            "display_name": "Python 3.9.6 64-bit"
        },
        "interpreter": {
            "hash": "d0f1a46e1b8bb49f6fe66dfa14ba01e1c4ea6e7377c07a6040c9a42d856a631d"
        }
    },
    "nbformat": 4,
    "nbformat_minor": 2
}