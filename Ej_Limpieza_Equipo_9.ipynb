{
  "nbformat": 4,
  "nbformat_minor": 0,
  "metadata": {
    "orig_nbformat": 4,
    "language_info": {
      "name": "python",
      "version": "3.9.6",
      "mimetype": "text/x-python",
      "codemirror_mode": {
        "name": "ipython",
        "version": 3
      },
      "pygments_lexer": "ipython3",
      "nbconvert_exporter": "python",
      "file_extension": ".py"
    },
    "kernelspec": {
      "name": "python3",
      "display_name": "Python 3.9.6 64-bit"
    },
    "interpreter": {
      "hash": "d0f1a46e1b8bb49f6fe66dfa14ba01e1c4ea6e7377c07a6040c9a42d856a631d"
    },
    "colab": {
      "name": "Ej_Limpieza_Equipo_9.ipynb",
      "provenance": [],
      "collapsed_sections": []
    }
  },
  "cells": [
    {
      "cell_type": "markdown",
      "metadata": {
        "id": "iQTN1nYyAIuZ"
      },
      "source": [
        "# Practica 1 - Limpieza de datos\n",
        "## Grupo 001 - Lunes 7-10 PM\n",
        "## Equipo 9\n",
        "+ 1842161 Torres Guerrero Saul Ángel\n",
        "+ 1844656 Maldonado Ramirez Alejandra\n",
        "+ 1857712 Morales Tovar Carlos de Jesús\n",
        "+ 1941500 Espinosa Orrante Jesús Alejandro\n",
        "+ 1857810 Rivera Castillo Saúl Andrés"
      ]
    },
    {
      "cell_type": "markdown",
      "metadata": {
        "id": "zisUbRJXAIuc"
      },
      "source": [
        "## 1) Título de la base de datos: Wine Reviews\n",
        "\n",
        "a) Nombre con el que se encuentra en la página encontrada: Wine Reviews\n",
        "\n",
        "b) Url de la página: https://www.kaggle.com/zynicide/wine-reviews?select=winemag-data-130k-v2.csv \n"
      ]
    },
    {
      "cell_type": "markdown",
      "metadata": {
        "id": "HwIaVKWOAIue"
      },
      "source": [
        "## 2) Limpieza de datos"
      ]
    },
    {
      "cell_type": "code",
      "metadata": {
        "id": "8NPEwYnTAIuf"
      },
      "source": [
        "# Importar librerías y base de datos\n",
        "import pandas as pd\n",
        "import numpy as np\n",
        "import json\n",
        "\n",
        "wine=pd.read_csv(\"winemag-data-130k-v2.csv\")"
      ],
      "execution_count": 3,
      "outputs": []
    },
    {
      "cell_type": "code",
      "metadata": {
        "colab": {
          "base_uri": "https://localhost:8080/"
        },
        "id": "VkUcnqOtAIuh",
        "outputId": "9cbce8d2-9d19-4981-d758-09b54e8b30f6"
      },
      "source": [
        "# Visualizar los datos\n",
        "wine.shape"
      ],
      "execution_count": 4,
      "outputs": [
        {
          "output_type": "execute_result",
          "data": {
            "text/plain": [
              "(129971, 14)"
            ]
          },
          "metadata": {},
          "execution_count": 4
        }
      ]
    },
    {
      "cell_type": "markdown",
      "metadata": {
        "id": "V-2H7fyO17nT"
      },
      "source": [
        "Nuestra base de datos está compuesta por 129,971 filas y 14 columnas"
      ]
    },
    {
      "cell_type": "code",
      "metadata": {
        "id": "J3FaK8URAIuj"
      },
      "source": [
        "# Descripción básica de columnas (tipo, elementos, etc.)\n",
        "wine.columns"
      ],
      "execution_count": null,
      "outputs": []
    },
    {
      "cell_type": "code",
      "metadata": {
        "id": "z6HVXdXw1DYK"
      },
      "source": [
        "wine.dtypes"
      ],
      "execution_count": null,
      "outputs": []
    },
    {
      "cell_type": "markdown",
      "metadata": {
        "id": "mX2Udcq791A_"
      },
      "source": [
        "Identificamos los nombres individuales de cada una de las 14 columnas para futuras referencias, de igual manera conocemos los tipos de datos que contienen"
      ]
    },
    {
      "cell_type": "code",
      "metadata": {
        "id": "pqgCRy5nAIun"
      },
      "source": [
        "# Cambiar nombres de columnas.\n",
        "wine.rename(columns = {'taster_twitter_handle':'twitter'},inplace=True)\n",
        "wine.drop('Unnamed: 0',axis = 1,inplace = True)\n",
        "wine.columns"
      ],
      "execution_count": null,
      "outputs": []
    },
    {
      "cell_type": "code",
      "metadata": {
        "id": "D_8Ua0OECInm"
      },
      "source": [
        "wine['twitter'].dtype"
      ],
      "execution_count": null,
      "outputs": []
    },
    {
      "cell_type": "code",
      "metadata": {
        "id": "drwMiHgFAWBw"
      },
      "source": [
        "wine.head(3)"
      ],
      "execution_count": null,
      "outputs": []
    },
    {
      "cell_type": "markdown",
      "metadata": {
        "id": "EevdiTq8-J33"
      },
      "source": [
        "Modificamos el nombre de una columna solo para hacerlo más corto y eliminamos otra columna que era innecesaria"
      ]
    },
    {
      "cell_type": "code",
      "metadata": {
        "id": "8LZ46udrI81M"
      },
      "source": [
        "# Guardar archivos en agrupaciones.\n",
        "wine.country.unique()"
      ],
      "execution_count": null,
      "outputs": []
    },
    {
      "cell_type": "code",
      "metadata": {
        "id": "udmFaLD5AIup"
      },
      "source": [
        "EUA = wine[wine['country']=='US']\n",
        "\n",
        "EUA.to_csv('EUA_Vinos.csv', index=False)"
      ],
      "execution_count": 17,
      "outputs": []
    },
    {
      "cell_type": "markdown",
      "metadata": {
        "id": "CPHl9RK4-sAw"
      },
      "source": [
        "Guardamos en un archivo csv la info. de todos los vinos registrados como originarios de Estados Unidos"
      ]
    },
    {
      "cell_type": "code",
      "metadata": {
        "id": "KnHNhl-LOZRE"
      },
      "source": [
        "country_vs_price =wine.loc[wine.country == 'US'].price\n",
        "country_vs_price"
      ],
      "execution_count": null,
      "outputs": []
    },
    {
      "cell_type": "markdown",
      "metadata": {
        "id": "4hUAKWoq_FK8"
      },
      "source": [
        "Guardamos en una variable los precios de todos los vinos registrados como originarios de Estados Unidos"
      ]
    },
    {
      "cell_type": "markdown",
      "metadata": {
        "id": "VRtYyHpeC_ke"
      },
      "source": [
        "**PREGUNTA DE INTERÉS:**\n",
        "\n",
        "*¿Para qué me puede servir estas agrupaciones para la práctica siguiente?*\n",
        "\n",
        "Agrupar los datos es útil para hacer un análisis mas específico en caso de necesitarlo, en este caso de los vinos de EU y también únicamente de sus precios"
      ]
    },
    {
      "cell_type": "code",
      "metadata": {
        "id": "Uyhmy-fnSuTB"
      },
      "source": [
        "# Descripción básica de columnas (celdas vacias, etc.)\n",
        "wine.isnull()"
      ],
      "execution_count": null,
      "outputs": []
    },
    {
      "cell_type": "code",
      "metadata": {
        "id": "WZg-PtPOS_fa"
      },
      "source": [
        "wine.isnull().any()"
      ],
      "execution_count": null,
      "outputs": []
    },
    {
      "cell_type": "code",
      "metadata": {
        "id": "bqBPaEGFTLBZ"
      },
      "source": [
        "wine.isnull().sum()"
      ],
      "execution_count": null,
      "outputs": []
    },
    {
      "cell_type": "markdown",
      "metadata": {
        "id": "UNNpuzbzAPnv"
      },
      "source": [
        "Pudimos darnos cuenta de que tenemos muchas celdas vacías en distintas columnas de la base de datos"
      ]
    },
    {
      "cell_type": "markdown",
      "metadata": {
        "id": "KmwvTzPNFJAh"
      },
      "source": [
        "**PREGUNTA DE INTERÉS:**\n",
        "\n",
        "*Importancia del analisis previo de los datos antes de iniciar las modificaciones.*\n",
        "\n",
        "Asegurarnos de que las modificaciones sean necesarias, de lo contrario podríamos estar eliminando información relevante"
      ]
    },
    {
      "cell_type": "code",
      "metadata": {
        "id": "FfD-LAOcTSl8"
      },
      "source": [
        "wine_0 = wine.fillna(0)"
      ],
      "execution_count": 29,
      "outputs": []
    },
    {
      "cell_type": "code",
      "metadata": {
        "id": "mKnJ-jqg8S09"
      },
      "source": [
        "wine_0.isnull().any()"
      ],
      "execution_count": null,
      "outputs": []
    },
    {
      "cell_type": "code",
      "metadata": {
        "id": "d8BtL4Qf9k3S"
      },
      "source": [
        "wine_0.head(3)"
      ],
      "execution_count": null,
      "outputs": []
    },
    {
      "cell_type": "markdown",
      "metadata": {
        "id": "UVQ9vz5ZCNtp"
      },
      "source": [
        "Realizamos una copia de nuestros datos (wine_0) en la cual todos los valores con celdas nulas se llenaron con ceros"
      ]
    },
    {
      "cell_type": "code",
      "metadata": {
        "id": "WeQX-bIaHyji"
      },
      "source": [
        "#Extra\n",
        "wine_extra = wine.replace('\\@','',regex=True).astype(object)\n",
        "wine_extra.head(5)"
      ],
      "execution_count": null,
      "outputs": []
    },
    {
      "cell_type": "markdown",
      "metadata": {
        "id": "DX3ninFPKE-4"
      },
      "source": [
        "Eliminamos el carácter \"@\" de los datos de la columna twitter (de la base de datos original), podría considerarse innecesario"
      ]
    },
    {
      "cell_type": "code",
      "metadata": {
        "id": "5kesT7YKIUUJ"
      },
      "source": [
        "wine_extra.dropna(thresh=int(wine_extra.shape[0] * .9), axis=1)"
      ],
      "execution_count": null,
      "outputs": []
    },
    {
      "cell_type": "markdown",
      "metadata": {
        "id": "bRXR0aB2KCWs"
      },
      "source": [
        "Se eliminaron la columnas que no cumplieran con tener el 90% o más de datos disponibles"
      ]
    }
  ]
}