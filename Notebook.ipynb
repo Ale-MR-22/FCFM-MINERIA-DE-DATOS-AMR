{
  "nbformat": 4,
  "nbformat_minor": 0,
  "metadata": {
    "colab": {
      "name": "Notebook.ipynb",
      "provenance": [],
      "collapsed_sections": []
    },
    "kernelspec": {
      "name": "python3",
      "display_name": "Python 3"
    },
    "language_info": {
      "name": "python"
    }
  },
  "cells": [
    {
      "cell_type": "markdown",
      "metadata": {
        "id": "z1AgwRgxd0l2"
      },
      "source": [
        "# **Notebook - Análisis Predictivo de Índices Bursátiles**\n",
        "## Grupo 001 - Lunes 7-10 PM\n",
        "## Equipo 9\n",
        "+ 1842161 Torres Guerrero Saul Ángel\n",
        "+ 1844656 Maldonado Ramirez Alejandra\n",
        "+ 1857712 Morales Tovar Carlos de Jesús\n",
        "+ 1941500 Espinosa Orrante Jesús Alejandro\n",
        "+ 1857810 Rivera Castillo Saúl Andrés\n",
        "\n"
      ]
    },
    {
      "cell_type": "markdown",
      "metadata": {
        "id": "XhGxUPq-d58U"
      },
      "source": [
        "## **Stock Exchange Data** \n",
        "URL: https://www.kaggle.com/mattiuzc/stock-exchange-data \n",
        "\n",
        "### **Descripción de los datos** \n",
        "\n",
        " \n",
        "*   Esta base contiene datos diarios de los puntos (o precios) de índices bursátiles de todo el mundo como: Estados Unidos, Canadá, Japón, Alemania, China, etc. Estos datos que nos muestran son recopilados de Yahoo Finance y son cotizados en la moneda nacional en donde se encuentra cada cambio, además de su precio de cierre convertido al dólar estadounidense.\n",
        "\n",
        "* Un **índice bursátil** es un indicador de la bolsa de valores que actúa como un termómetro: tiene la capacidad de hacernos ver, en un solo vistazo, el movimiento mayoritario de las empresas de dicho mercado. \n",
        "\n",
        "**Descripción de columnas**\n",
        "\n",
        "Los tipos de datos que nos presentan son en su mayoría números, enteros o decimales, también nos dan fechas.\n",
        "\n",
        "* Index: Siglas del índice\n",
        "* Date: Fecha de observación\n",
        "* Open: Precio de apertura\n",
        "* High: Precio más alto que tuvo el índice en todo el día\n",
        "* Low: Precio más bajo que tuvo el índice en todo el día\n",
        "* Close: Precio de cierre, es decir el precio con el que la acción termino el día\n",
        "* Adj Close: Precio de cierre ajustado a dividendos y divisiones, prácticamente es igual al precio de cierre\n",
        "* Volume: Número de acciones que se negociaron en el día\n",
        "* CloseUSD: Precio de cierre en dólares\n",
        "\n",
        "\n",
        "\n",
        "\n",
        "### **Justificación del uso de Datos** \n",
        "\n",
        "\n",
        "  * Una de las características que nos llamó más la atención es que la base nos muestra diferentes índices bursátiles y sus valores con el paso del tiempo, teniendo referencia de otras materias como Productos Financieros Derivados sobre los tipos de inversiones que se pueden realizar con los índices nos empujó a considerar esta base.\n",
        "\n",
        "*   Lo que nos beneficia de trabajar con esta base de datos es tener información organizada sobre distintos índices de todo el mundo, además de una columna dedicada a convertir todos los precios al dolár estadounidense lo cual hace la información más manejable.\n",
        "\n",
        "### **Objetivos** \n",
        "\n",
        "\n",
        "*   Objetivo Principal: Realizar predicciones sobre los índices bursátiles.\n",
        "\n",
        "*   Objetivo Secundario: Comparar el comportamiento de los índices a través del tiempo.\n",
        "\n",
        "\n",
        "\n",
        "\n",
        "\n",
        "\n",
        "   \n",
        "\n",
        "\n",
        "\n",
        "\n",
        "\n",
        "\n",
        "\n"
      ]
    },
    {
      "cell_type": "markdown",
      "metadata": {
        "id": "3Ccp0iaJ1kyC"
      },
      "source": [
        "## **DESARROLLO DE HERRAMIENTAS**  \n",
        "### **1. Limpieza de Datos** "
      ]
    },
    {
      "cell_type": "code",
      "metadata": {
        "id": "OtlqTfZQ17uC"
      },
      "source": [
        "import pandas as pd\n",
        "import numpy as np\n",
        "import json\n",
        "#Importando la base de datos bajo el nombre IP\n",
        "IP = pd.read_csv(\"indexProcessed.csv\", encoding='utf8')"
      ],
      "execution_count": null,
      "outputs": []
    },
    {
      "cell_type": "code",
      "metadata": {
        "colab": {
          "base_uri": "https://localhost:8080/"
        },
        "id": "kVatrBmVmHpM",
        "outputId": "06273f6c-a1e0-457e-95a7-26cd9235fee4"
      },
      "source": [
        "#Cantidad de filas y columnas\n",
        "IP.shape"
      ],
      "execution_count": null,
      "outputs": [
        {
          "output_type": "execute_result",
          "data": {
            "text/plain": [
              "(104224, 9)"
            ]
          },
          "metadata": {},
          "execution_count": 2
        }
      ]
    },
    {
      "cell_type": "code",
      "metadata": {
        "colab": {
          "base_uri": "https://localhost:8080/",
          "height": 235
        },
        "id": "3sUWl5tkmRjN",
        "outputId": "d8c49e4b-d7d9-4b8e-a78c-8567197b9f26"
      },
      "source": [
        "#Mostrando las primeras 6 filas de la base de datos IP\n",
        "IP.head(6)"
      ],
      "execution_count": null,
      "outputs": [
        {
          "output_type": "execute_result",
          "data": {
            "text/html": [
              "<div>\n",
              "<style scoped>\n",
              "    .dataframe tbody tr th:only-of-type {\n",
              "        vertical-align: middle;\n",
              "    }\n",
              "\n",
              "    .dataframe tbody tr th {\n",
              "        vertical-align: top;\n",
              "    }\n",
              "\n",
              "    .dataframe thead th {\n",
              "        text-align: right;\n",
              "    }\n",
              "</style>\n",
              "<table border=\"1\" class=\"dataframe\">\n",
              "  <thead>\n",
              "    <tr style=\"text-align: right;\">\n",
              "      <th></th>\n",
              "      <th>Index</th>\n",
              "      <th>Date</th>\n",
              "      <th>Open</th>\n",
              "      <th>High</th>\n",
              "      <th>Low</th>\n",
              "      <th>Close</th>\n",
              "      <th>Adj Close</th>\n",
              "      <th>Volume</th>\n",
              "      <th>CloseUSD</th>\n",
              "    </tr>\n",
              "  </thead>\n",
              "  <tbody>\n",
              "    <tr>\n",
              "      <th>0</th>\n",
              "      <td>HSI</td>\n",
              "      <td>1986-12-31</td>\n",
              "      <td>2568.300049</td>\n",
              "      <td>2568.300049</td>\n",
              "      <td>2568.300049</td>\n",
              "      <td>2568.300049</td>\n",
              "      <td>2568.300049</td>\n",
              "      <td>0.0</td>\n",
              "      <td>333.879006</td>\n",
              "    </tr>\n",
              "    <tr>\n",
              "      <th>1</th>\n",
              "      <td>HSI</td>\n",
              "      <td>1987-01-02</td>\n",
              "      <td>2540.100098</td>\n",
              "      <td>2540.100098</td>\n",
              "      <td>2540.100098</td>\n",
              "      <td>2540.100098</td>\n",
              "      <td>2540.100098</td>\n",
              "      <td>0.0</td>\n",
              "      <td>330.213013</td>\n",
              "    </tr>\n",
              "    <tr>\n",
              "      <th>2</th>\n",
              "      <td>HSI</td>\n",
              "      <td>1987-01-05</td>\n",
              "      <td>2552.399902</td>\n",
              "      <td>2552.399902</td>\n",
              "      <td>2552.399902</td>\n",
              "      <td>2552.399902</td>\n",
              "      <td>2552.399902</td>\n",
              "      <td>0.0</td>\n",
              "      <td>331.811987</td>\n",
              "    </tr>\n",
              "    <tr>\n",
              "      <th>3</th>\n",
              "      <td>HSI</td>\n",
              "      <td>1987-01-06</td>\n",
              "      <td>2583.899902</td>\n",
              "      <td>2583.899902</td>\n",
              "      <td>2583.899902</td>\n",
              "      <td>2583.899902</td>\n",
              "      <td>2583.899902</td>\n",
              "      <td>0.0</td>\n",
              "      <td>335.906987</td>\n",
              "    </tr>\n",
              "    <tr>\n",
              "      <th>4</th>\n",
              "      <td>HSI</td>\n",
              "      <td>1987-01-07</td>\n",
              "      <td>2607.100098</td>\n",
              "      <td>2607.100098</td>\n",
              "      <td>2607.100098</td>\n",
              "      <td>2607.100098</td>\n",
              "      <td>2607.100098</td>\n",
              "      <td>0.0</td>\n",
              "      <td>338.923013</td>\n",
              "    </tr>\n",
              "    <tr>\n",
              "      <th>5</th>\n",
              "      <td>HSI</td>\n",
              "      <td>1987-01-08</td>\n",
              "      <td>2603.300049</td>\n",
              "      <td>2603.300049</td>\n",
              "      <td>2603.300049</td>\n",
              "      <td>2603.300049</td>\n",
              "      <td>2603.300049</td>\n",
              "      <td>0.0</td>\n",
              "      <td>338.429006</td>\n",
              "    </tr>\n",
              "  </tbody>\n",
              "</table>\n",
              "</div>"
            ],
            "text/plain": [
              "  Index        Date         Open  ...    Adj Close  Volume    CloseUSD\n",
              "0   HSI  1986-12-31  2568.300049  ...  2568.300049     0.0  333.879006\n",
              "1   HSI  1987-01-02  2540.100098  ...  2540.100098     0.0  330.213013\n",
              "2   HSI  1987-01-05  2552.399902  ...  2552.399902     0.0  331.811987\n",
              "3   HSI  1987-01-06  2583.899902  ...  2583.899902     0.0  335.906987\n",
              "4   HSI  1987-01-07  2607.100098  ...  2607.100098     0.0  338.923013\n",
              "5   HSI  1987-01-08  2603.300049  ...  2603.300049     0.0  338.429006\n",
              "\n",
              "[6 rows x 9 columns]"
            ]
          },
          "metadata": {},
          "execution_count": 3
        }
      ]
    },
    {
      "cell_type": "code",
      "metadata": {
        "colab": {
          "base_uri": "https://localhost:8080/"
        },
        "id": "kgR5LC_hmYSf",
        "outputId": "b4f83d8f-af27-482c-9479-f23d14182c37"
      },
      "source": [
        "#Desplegando el nombre de todas las columnas que conforman la base de datos IP\n",
        "IP.columns"
      ],
      "execution_count": null,
      "outputs": [
        {
          "output_type": "execute_result",
          "data": {
            "text/plain": [
              "Index(['Index', 'Date', 'Open', 'High', 'Low', 'Close', 'Adj Close', 'Volume',\n",
              "       'CloseUSD'],\n",
              "      dtype='object')"
            ]
          },
          "metadata": {},
          "execution_count": 8
        }
      ]
    },
    {
      "cell_type": "code",
      "metadata": {
        "colab": {
          "base_uri": "https://localhost:8080/"
        },
        "id": "saPLXymYmiC0",
        "outputId": "a250e282-8659-416c-fa21-e817a9ae93d4"
      },
      "source": [
        "#Indicando el tipo de dato que contiene cada columna de la base de datos IP\n",
        "#Verificando la presencia o no de datos nulos en cada columna de la base de datos IP\n",
        "for i in range(0,9):\n",
        "    print(\"La columna\",IP.columns[i],\"contiene datos de tipo\",IP[IP.columns[i]].dtype)\n",
        "    DN=IP.isnull().any()[IP.columns[i]]\n",
        "    if DN == False:\n",
        "      print(\"La columna\",IP.columns[i],\"no presenta datos nulos\")\n",
        "      print()\n",
        "    else:\n",
        "      print(\"La columna\",IP.columns[i],\"presenta\",IP.isnull().sum()[IP.columns[i]],\"datos nulos\")\n",
        "      print()"
      ],
      "execution_count": null,
      "outputs": [
        {
          "output_type": "stream",
          "name": "stdout",
          "text": [
            "La columna Index contiene datos de tipo object\n",
            "La columna Index no presenta datos nulos\n",
            "\n",
            "La columna Date contiene datos de tipo object\n",
            "La columna Date no presenta datos nulos\n",
            "\n",
            "La columna Open contiene datos de tipo float64\n",
            "La columna Open no presenta datos nulos\n",
            "\n",
            "La columna High contiene datos de tipo float64\n",
            "La columna High no presenta datos nulos\n",
            "\n",
            "La columna Low contiene datos de tipo float64\n",
            "La columna Low no presenta datos nulos\n",
            "\n",
            "La columna Close contiene datos de tipo float64\n",
            "La columna Close no presenta datos nulos\n",
            "\n",
            "La columna Adj Close contiene datos de tipo float64\n",
            "La columna Adj Close no presenta datos nulos\n",
            "\n",
            "La columna Volume contiene datos de tipo float64\n",
            "La columna Volume no presenta datos nulos\n",
            "\n",
            "La columna CloseUSD contiene datos de tipo float64\n",
            "La columna CloseUSD no presenta datos nulos\n",
            "\n"
          ]
        }
      ]
    },
    {
      "cell_type": "code",
      "metadata": {
        "colab": {
          "base_uri": "https://localhost:8080/",
          "height": 234
        },
        "id": "pl3CDp9Bmo1N",
        "outputId": "ac3d79c0-d61f-44f9-d7b0-567d56e6acbe"
      },
      "source": [
        "#Eliminando columnas\n",
        "NIP=IP.drop(columns=['Open','High','Low','Close','Adj Close','Volume'])\n",
        "NIP.head(6)"
      ],
      "execution_count": null,
      "outputs": [
        {
          "output_type": "execute_result",
          "data": {
            "text/html": [
              "<div>\n",
              "<style scoped>\n",
              "    .dataframe tbody tr th:only-of-type {\n",
              "        vertical-align: middle;\n",
              "    }\n",
              "\n",
              "    .dataframe tbody tr th {\n",
              "        vertical-align: top;\n",
              "    }\n",
              "\n",
              "    .dataframe thead th {\n",
              "        text-align: right;\n",
              "    }\n",
              "</style>\n",
              "<table border=\"1\" class=\"dataframe\">\n",
              "  <thead>\n",
              "    <tr style=\"text-align: right;\">\n",
              "      <th></th>\n",
              "      <th>Index</th>\n",
              "      <th>Date</th>\n",
              "      <th>CloseUSD</th>\n",
              "    </tr>\n",
              "  </thead>\n",
              "  <tbody>\n",
              "    <tr>\n",
              "      <th>0</th>\n",
              "      <td>HSI</td>\n",
              "      <td>1986-12-31</td>\n",
              "      <td>333.879006</td>\n",
              "    </tr>\n",
              "    <tr>\n",
              "      <th>1</th>\n",
              "      <td>HSI</td>\n",
              "      <td>1987-01-02</td>\n",
              "      <td>330.213013</td>\n",
              "    </tr>\n",
              "    <tr>\n",
              "      <th>2</th>\n",
              "      <td>HSI</td>\n",
              "      <td>1987-01-05</td>\n",
              "      <td>331.811987</td>\n",
              "    </tr>\n",
              "    <tr>\n",
              "      <th>3</th>\n",
              "      <td>HSI</td>\n",
              "      <td>1987-01-06</td>\n",
              "      <td>335.906987</td>\n",
              "    </tr>\n",
              "    <tr>\n",
              "      <th>4</th>\n",
              "      <td>HSI</td>\n",
              "      <td>1987-01-07</td>\n",
              "      <td>338.923013</td>\n",
              "    </tr>\n",
              "    <tr>\n",
              "      <th>5</th>\n",
              "      <td>HSI</td>\n",
              "      <td>1987-01-08</td>\n",
              "      <td>338.429006</td>\n",
              "    </tr>\n",
              "  </tbody>\n",
              "</table>\n",
              "</div>"
            ],
            "text/plain": [
              "  Index        Date    CloseUSD\n",
              "0   HSI  1986-12-31  333.879006\n",
              "1   HSI  1987-01-02  330.213013\n",
              "2   HSI  1987-01-05  331.811987\n",
              "3   HSI  1987-01-06  335.906987\n",
              "4   HSI  1987-01-07  338.923013\n",
              "5   HSI  1987-01-08  338.429006"
            ]
          },
          "metadata": {},
          "execution_count": 2
        }
      ]
    },
    {
      "cell_type": "markdown",
      "metadata": {
        "id": "6uPOG7Him3rL"
      },
      "source": [
        "Se eliminaron las columnas Open, High, Low, Close y Adj Close porque para nuestro objetivo lo más eficiente es tener todos los datos en la misma moneda (USD), aparte de que eran redundantes entre ellas. Además, eliminamos la columna de Volumen dado que no es relevante para nuestros objetivos."
      ]
    },
    {
      "cell_type": "markdown",
      "metadata": {
        "id": "CNug85gw19Ac"
      },
      "source": [
        "### **2. Estadística básica de los datos** \n"
      ]
    },
    {
      "cell_type": "code",
      "metadata": {
        "id": "VONiLfPl2VVT",
        "colab": {
          "base_uri": "https://localhost:8080/"
        },
        "outputId": "3ac5bb6c-05b0-41c0-dab3-dc2013fbc933"
      },
      "source": [
        "#Resumen estadístico de la columna CloseUSD\n",
        "NIP['CloseUSD'].describe()"
      ],
      "execution_count": null,
      "outputs": [
        {
          "output_type": "execute_result",
          "data": {
            "text/plain": [
              "count    104224.000000\n",
              "mean       3046.729177\n",
              "std        3747.865623\n",
              "min          10.204900\n",
              "25%         320.460898\n",
              "50%        1371.598486\n",
              "75%        4383.045241\n",
              "max       18934.376173\n",
              "Name: CloseUSD, dtype: float64"
            ]
          },
          "metadata": {},
          "execution_count": 8
        }
      ]
    },
    {
      "cell_type": "code",
      "metadata": {
        "id": "7KT6xUTuo_sY"
      },
      "source": [
        "NYA=NIP[NIP.Index==\"NYA\"]"
      ],
      "execution_count": null,
      "outputs": []
    },
    {
      "cell_type": "code",
      "metadata": {
        "colab": {
          "base_uri": "https://localhost:8080/"
        },
        "id": "j5uIM7nMpSpa",
        "outputId": "d9dd8592-7bd3-4d73-9866-b96ab828c0b7"
      },
      "source": [
        "#Resumen estadístico de la columna CloseUSD solo del índice NYA\n",
        "NYA['CloseUSD'].describe()"
      ],
      "execution_count": null,
      "outputs": [
        {
          "output_type": "execute_result",
          "data": {
            "text/plain": [
              "count    13947.000000\n",
              "mean      4452.174711\n",
              "std       4075.459366\n",
              "min        347.769989\n",
              "25%        654.940002\n",
              "50%       2631.800049\n",
              "75%       7337.935059\n",
              "max      16590.429690\n",
              "Name: CloseUSD, dtype: float64"
            ]
          },
          "metadata": {},
          "execution_count": 10
        }
      ]
    },
    {
      "cell_type": "markdown",
      "metadata": {
        "id": "3RD3YAinBQ44"
      },
      "source": [
        "Con el resumen estadístico encontramos que tenemos una gran cantidad de observaciones del índice NYA y un promedio de puntos mayor al que se tiene de todos los índices en general."
      ]
    },
    {
      "cell_type": "markdown",
      "metadata": {
        "id": "HNds62rT2V84"
      },
      "source": [
        "## **3. Gráficas** "
      ]
    },
    {
      "cell_type": "code",
      "metadata": {
        "id": "RXAyBiFP2ddG",
        "colab": {
          "base_uri": "https://localhost:8080/",
          "height": 330
        },
        "outputId": "2c170135-c30e-4300-e9e2-e98e492a3f65"
      },
      "source": [
        "(NIP['Index'].value_counts() / len(NIP)).plot.bar()"
      ],
      "execution_count": null,
      "outputs": [
        {
          "output_type": "execute_result",
          "data": {
            "text/plain": [
              "<matplotlib.axes._subplots.AxesSubplot at 0x7f90781a9ad0>"
            ]
          },
          "metadata": {},
          "execution_count": 11
        },
        {
          "output_type": "display_data",
          "data": {
            "image/png": "[encoded data removed]",
            "text/plain": [
              "<Figure size 432x288 with 1 Axes>"
            ]
          },
          "metadata": {
            "needs_background": "light"
          }
        }
      ]
    },
    {
      "cell_type": "markdown",
      "metadata": {
        "id": "4ptqazHstEix"
      },
      "source": [
        "Con esta gráfica nos podemos dar cuenta que el índice \"NYA\" abarca el mayor porcentaje de observaciones, para tener gráficas con resultados más específicos podemos realizarlos con los datos de este índice."
      ]
    },
    {
      "cell_type": "code",
      "metadata": {
        "colab": {
          "base_uri": "https://localhost:8080/",
          "height": 282
        },
        "id": "V1GwWcPotdko",
        "outputId": "2112c0c3-5542-4f6e-f9ba-fb91ce524d61"
      },
      "source": [
        "NYA['CloseUSD'].plot.hist()"
      ],
      "execution_count": null,
      "outputs": [
        {
          "output_type": "execute_result",
          "data": {
            "text/plain": [
              "<matplotlib.axes._subplots.AxesSubplot at 0x7f90780b0f50>"
            ]
          },
          "metadata": {},
          "execution_count": 12
        },
        {
          "output_type": "display_data",
          "data": {
            "image/png": "[encoded data removed]",
            "text/plain": [
              "<Figure size 432x288 with 1 Axes>"
            ]
          },
          "metadata": {
            "needs_background": "light"
          }
        }
      ]
    },
    {
      "cell_type": "markdown",
      "metadata": {
        "id": "NDFUi6MHy2Zf"
      },
      "source": [
        "Observamos que la mayor parte de las observaciones de puntos del índice están situadas en el intervalo de 347 a 2000"
      ]
    },
    {
      "cell_type": "code",
      "metadata": {
        "id": "TlSFUX1pMunn"
      },
      "source": [
        "NNIP = pd.read_csv(\"indexProcessed.csv\",parse_dates=['Date'],index_col= ['Date'])"
      ],
      "execution_count": null,
      "outputs": []
    },
    {
      "cell_type": "code",
      "metadata": {
        "colab": {
          "base_uri": "https://localhost:8080/",
          "height": 234
        },
        "id": "4hDrNlsHOp02",
        "outputId": "a68c2c48-c21f-4aa3-e177-244f841a66ea"
      },
      "source": [
        "NNYA=NNIP[NNIP.Index==\"NYA\"]\n",
        "NNYA.head(5)"
      ],
      "execution_count": null,
      "outputs": [
        {
          "output_type": "execute_result",
          "data": {
            "text/html": [
              "<div>\n",
              "<style scoped>\n",
              "    .dataframe tbody tr th:only-of-type {\n",
              "        vertical-align: middle;\n",
              "    }\n",
              "\n",
              "    .dataframe tbody tr th {\n",
              "        vertical-align: top;\n",
              "    }\n",
              "\n",
              "    .dataframe thead th {\n",
              "        text-align: right;\n",
              "    }\n",
              "</style>\n",
              "<table border=\"1\" class=\"dataframe\">\n",
              "  <thead>\n",
              "    <tr style=\"text-align: right;\">\n",
              "      <th></th>\n",
              "      <th>Index</th>\n",
              "      <th>Open</th>\n",
              "      <th>High</th>\n",
              "      <th>Low</th>\n",
              "      <th>Close</th>\n",
              "      <th>Adj Close</th>\n",
              "      <th>Volume</th>\n",
              "      <th>CloseUSD</th>\n",
              "    </tr>\n",
              "    <tr>\n",
              "      <th>Date</th>\n",
              "      <th></th>\n",
              "      <th></th>\n",
              "      <th></th>\n",
              "      <th></th>\n",
              "      <th></th>\n",
              "      <th></th>\n",
              "      <th></th>\n",
              "      <th></th>\n",
              "    </tr>\n",
              "  </thead>\n",
              "  <tbody>\n",
              "    <tr>\n",
              "      <th>1965-12-31</th>\n",
              "      <td>NYA</td>\n",
              "      <td>528.690002</td>\n",
              "      <td>528.690002</td>\n",
              "      <td>528.690002</td>\n",
              "      <td>528.690002</td>\n",
              "      <td>528.690002</td>\n",
              "      <td>0.0</td>\n",
              "      <td>528.690002</td>\n",
              "    </tr>\n",
              "    <tr>\n",
              "      <th>1966-01-03</th>\n",
              "      <td>NYA</td>\n",
              "      <td>527.210022</td>\n",
              "      <td>527.210022</td>\n",
              "      <td>527.210022</td>\n",
              "      <td>527.210022</td>\n",
              "      <td>527.210022</td>\n",
              "      <td>0.0</td>\n",
              "      <td>527.210022</td>\n",
              "    </tr>\n",
              "    <tr>\n",
              "      <th>1966-01-04</th>\n",
              "      <td>NYA</td>\n",
              "      <td>527.840027</td>\n",
              "      <td>527.840027</td>\n",
              "      <td>527.840027</td>\n",
              "      <td>527.840027</td>\n",
              "      <td>527.840027</td>\n",
              "      <td>0.0</td>\n",
              "      <td>527.840027</td>\n",
              "    </tr>\n",
              "    <tr>\n",
              "      <th>1966-01-05</th>\n",
              "      <td>NYA</td>\n",
              "      <td>531.119995</td>\n",
              "      <td>531.119995</td>\n",
              "      <td>531.119995</td>\n",
              "      <td>531.119995</td>\n",
              "      <td>531.119995</td>\n",
              "      <td>0.0</td>\n",
              "      <td>531.119995</td>\n",
              "    </tr>\n",
              "    <tr>\n",
              "      <th>1966-01-06</th>\n",
              "      <td>NYA</td>\n",
              "      <td>532.070007</td>\n",
              "      <td>532.070007</td>\n",
              "      <td>532.070007</td>\n",
              "      <td>532.070007</td>\n",
              "      <td>532.070007</td>\n",
              "      <td>0.0</td>\n",
              "      <td>532.070007</td>\n",
              "    </tr>\n",
              "  </tbody>\n",
              "</table>\n",
              "</div>"
            ],
            "text/plain": [
              "           Index        Open        High  ...   Adj Close  Volume    CloseUSD\n",
              "Date                                      ...                                \n",
              "1965-12-31   NYA  528.690002  528.690002  ...  528.690002     0.0  528.690002\n",
              "1966-01-03   NYA  527.210022  527.210022  ...  527.210022     0.0  527.210022\n",
              "1966-01-04   NYA  527.840027  527.840027  ...  527.840027     0.0  527.840027\n",
              "1966-01-05   NYA  531.119995  531.119995  ...  531.119995     0.0  531.119995\n",
              "1966-01-06   NYA  532.070007  532.070007  ...  532.070007     0.0  532.070007\n",
              "\n",
              "[5 rows x 8 columns]"
            ]
          },
          "metadata": {},
          "execution_count": 20
        }
      ]
    },
    {
      "cell_type": "code",
      "metadata": {
        "colab": {
          "base_uri": "https://localhost:8080/",
          "height": 265
        },
        "id": "DqxrA8M2Ott0",
        "outputId": "a907416c-a7f0-48f0-a6d9-8ee4d97fc70a"
      },
      "source": [
        "ENYA=NNYA.drop(columns=['Open','High','Low','Close','Adj Close','Volume'])\n",
        "ENYA.head(6)"
      ],
      "execution_count": null,
      "outputs": [
        {
          "output_type": "execute_result",
          "data": {
            "text/html": [
              "<div>\n",
              "<style scoped>\n",
              "    .dataframe tbody tr th:only-of-type {\n",
              "        vertical-align: middle;\n",
              "    }\n",
              "\n",
              "    .dataframe tbody tr th {\n",
              "        vertical-align: top;\n",
              "    }\n",
              "\n",
              "    .dataframe thead th {\n",
              "        text-align: right;\n",
              "    }\n",
              "</style>\n",
              "<table border=\"1\" class=\"dataframe\">\n",
              "  <thead>\n",
              "    <tr style=\"text-align: right;\">\n",
              "      <th></th>\n",
              "      <th>Index</th>\n",
              "      <th>CloseUSD</th>\n",
              "    </tr>\n",
              "    <tr>\n",
              "      <th>Date</th>\n",
              "      <th></th>\n",
              "      <th></th>\n",
              "    </tr>\n",
              "  </thead>\n",
              "  <tbody>\n",
              "    <tr>\n",
              "      <th>1965-12-31</th>\n",
              "      <td>NYA</td>\n",
              "      <td>528.690002</td>\n",
              "    </tr>\n",
              "    <tr>\n",
              "      <th>1966-01-03</th>\n",
              "      <td>NYA</td>\n",
              "      <td>527.210022</td>\n",
              "    </tr>\n",
              "    <tr>\n",
              "      <th>1966-01-04</th>\n",
              "      <td>NYA</td>\n",
              "      <td>527.840027</td>\n",
              "    </tr>\n",
              "    <tr>\n",
              "      <th>1966-01-05</th>\n",
              "      <td>NYA</td>\n",
              "      <td>531.119995</td>\n",
              "    </tr>\n",
              "    <tr>\n",
              "      <th>1966-01-06</th>\n",
              "      <td>NYA</td>\n",
              "      <td>532.070007</td>\n",
              "    </tr>\n",
              "    <tr>\n",
              "      <th>1966-01-07</th>\n",
              "      <td>NYA</td>\n",
              "      <td>532.599976</td>\n",
              "    </tr>\n",
              "  </tbody>\n",
              "</table>\n",
              "</div>"
            ],
            "text/plain": [
              "           Index    CloseUSD\n",
              "Date                        \n",
              "1965-12-31   NYA  528.690002\n",
              "1966-01-03   NYA  527.210022\n",
              "1966-01-04   NYA  527.840027\n",
              "1966-01-05   NYA  531.119995\n",
              "1966-01-06   NYA  532.070007\n",
              "1966-01-07   NYA  532.599976"
            ]
          },
          "metadata": {},
          "execution_count": 21
        }
      ]
    },
    {
      "cell_type": "code",
      "metadata": {
        "colab": {
          "base_uri": "https://localhost:8080/",
          "height": 234
        },
        "id": "dzW7JpNFOxQr",
        "outputId": "09cf9c6a-4968-45db-8e0d-e60b322a51ce"
      },
      "source": [
        "IPP = ENYA['2020-01-01':'2021-01-01']\n",
        "IPP.head()"
      ],
      "execution_count": null,
      "outputs": [
        {
          "output_type": "execute_result",
          "data": {
            "text/html": [
              "<div>\n",
              "<style scoped>\n",
              "    .dataframe tbody tr th:only-of-type {\n",
              "        vertical-align: middle;\n",
              "    }\n",
              "\n",
              "    .dataframe tbody tr th {\n",
              "        vertical-align: top;\n",
              "    }\n",
              "\n",
              "    .dataframe thead th {\n",
              "        text-align: right;\n",
              "    }\n",
              "</style>\n",
              "<table border=\"1\" class=\"dataframe\">\n",
              "  <thead>\n",
              "    <tr style=\"text-align: right;\">\n",
              "      <th></th>\n",
              "      <th>Index</th>\n",
              "      <th>CloseUSD</th>\n",
              "    </tr>\n",
              "    <tr>\n",
              "      <th>Date</th>\n",
              "      <th></th>\n",
              "      <th></th>\n",
              "    </tr>\n",
              "  </thead>\n",
              "  <tbody>\n",
              "    <tr>\n",
              "      <th>2020-01-02</th>\n",
              "      <td>NYA</td>\n",
              "      <td>14002.49023</td>\n",
              "    </tr>\n",
              "    <tr>\n",
              "      <th>2020-01-03</th>\n",
              "      <td>NYA</td>\n",
              "      <td>13917.04981</td>\n",
              "    </tr>\n",
              "    <tr>\n",
              "      <th>2020-01-06</th>\n",
              "      <td>NYA</td>\n",
              "      <td>13941.79981</td>\n",
              "    </tr>\n",
              "    <tr>\n",
              "      <th>2020-01-07</th>\n",
              "      <td>NYA</td>\n",
              "      <td>13898.45020</td>\n",
              "    </tr>\n",
              "    <tr>\n",
              "      <th>2020-01-08</th>\n",
              "      <td>NYA</td>\n",
              "      <td>13934.44043</td>\n",
              "    </tr>\n",
              "  </tbody>\n",
              "</table>\n",
              "</div>"
            ],
            "text/plain": [
              "           Index     CloseUSD\n",
              "Date                         \n",
              "2020-01-02   NYA  14002.49023\n",
              "2020-01-03   NYA  13917.04981\n",
              "2020-01-06   NYA  13941.79981\n",
              "2020-01-07   NYA  13898.45020\n",
              "2020-01-08   NYA  13934.44043"
            ]
          },
          "metadata": {},
          "execution_count": 22
        }
      ]
    },
    {
      "cell_type": "code",
      "metadata": {
        "colab": {
          "base_uri": "https://localhost:8080/",
          "height": 417
        },
        "id": "uDoa9Tv0OyRu",
        "outputId": "614f2892-3d42-41b5-fb39-e7d8e272a551"
      },
      "source": [
        "IPP.reset_index()"
      ],
      "execution_count": null,
      "outputs": [
        {
          "output_type": "execute_result",
          "data": {
            "text/html": [
              "<div>\n",
              "<style scoped>\n",
              "    .dataframe tbody tr th:only-of-type {\n",
              "        vertical-align: middle;\n",
              "    }\n",
              "\n",
              "    .dataframe tbody tr th {\n",
              "        vertical-align: top;\n",
              "    }\n",
              "\n",
              "    .dataframe thead th {\n",
              "        text-align: right;\n",
              "    }\n",
              "</style>\n",
              "<table border=\"1\" class=\"dataframe\">\n",
              "  <thead>\n",
              "    <tr style=\"text-align: right;\">\n",
              "      <th></th>\n",
              "      <th>Date</th>\n",
              "      <th>Index</th>\n",
              "      <th>CloseUSD</th>\n",
              "    </tr>\n",
              "  </thead>\n",
              "  <tbody>\n",
              "    <tr>\n",
              "      <th>0</th>\n",
              "      <td>2020-01-02</td>\n",
              "      <td>NYA</td>\n",
              "      <td>14002.49023</td>\n",
              "    </tr>\n",
              "    <tr>\n",
              "      <th>1</th>\n",
              "      <td>2020-01-03</td>\n",
              "      <td>NYA</td>\n",
              "      <td>13917.04981</td>\n",
              "    </tr>\n",
              "    <tr>\n",
              "      <th>2</th>\n",
              "      <td>2020-01-06</td>\n",
              "      <td>NYA</td>\n",
              "      <td>13941.79981</td>\n",
              "    </tr>\n",
              "    <tr>\n",
              "      <th>3</th>\n",
              "      <td>2020-01-07</td>\n",
              "      <td>NYA</td>\n",
              "      <td>13898.45020</td>\n",
              "    </tr>\n",
              "    <tr>\n",
              "      <th>4</th>\n",
              "      <td>2020-01-08</td>\n",
              "      <td>NYA</td>\n",
              "      <td>13934.44043</td>\n",
              "    </tr>\n",
              "    <tr>\n",
              "      <th>...</th>\n",
              "      <td>...</td>\n",
              "      <td>...</td>\n",
              "      <td>...</td>\n",
              "    </tr>\n",
              "    <tr>\n",
              "      <th>248</th>\n",
              "      <td>2020-12-24</td>\n",
              "      <td>NYA</td>\n",
              "      <td>14382.50000</td>\n",
              "    </tr>\n",
              "    <tr>\n",
              "      <th>249</th>\n",
              "      <td>2020-12-28</td>\n",
              "      <td>NYA</td>\n",
              "      <td>14405.76953</td>\n",
              "    </tr>\n",
              "    <tr>\n",
              "      <th>250</th>\n",
              "      <td>2020-12-29</td>\n",
              "      <td>NYA</td>\n",
              "      <td>14397.91992</td>\n",
              "    </tr>\n",
              "    <tr>\n",
              "      <th>251</th>\n",
              "      <td>2020-12-30</td>\n",
              "      <td>NYA</td>\n",
              "      <td>14477.48047</td>\n",
              "    </tr>\n",
              "    <tr>\n",
              "      <th>252</th>\n",
              "      <td>2020-12-31</td>\n",
              "      <td>NYA</td>\n",
              "      <td>14524.79981</td>\n",
              "    </tr>\n",
              "  </tbody>\n",
              "</table>\n",
              "<p>253 rows × 3 columns</p>\n",
              "</div>"
            ],
            "text/plain": [
              "          Date Index     CloseUSD\n",
              "0   2020-01-02   NYA  14002.49023\n",
              "1   2020-01-03   NYA  13917.04981\n",
              "2   2020-01-06   NYA  13941.79981\n",
              "3   2020-01-07   NYA  13898.45020\n",
              "4   2020-01-08   NYA  13934.44043\n",
              "..         ...   ...          ...\n",
              "248 2020-12-24   NYA  14382.50000\n",
              "249 2020-12-28   NYA  14405.76953\n",
              "250 2020-12-29   NYA  14397.91992\n",
              "251 2020-12-30   NYA  14477.48047\n",
              "252 2020-12-31   NYA  14524.79981\n",
              "\n",
              "[253 rows x 3 columns]"
            ]
          },
          "metadata": {},
          "execution_count": 23
        }
      ]
    },
    {
      "cell_type": "markdown",
      "metadata": {
        "id": "Fs-72Qe5PDZ_"
      },
      "source": [
        "Realizamos los pasos anteriores para aislar el intervalo que comprende el año 2020 y de esa forma la gráfica de dispersión se pueda entender mejor"
      ]
    },
    {
      "cell_type": "code",
      "metadata": {
        "colab": {
          "base_uri": "https://localhost:8080/",
          "height": 294
        },
        "id": "vtbuvzhj9PI8",
        "outputId": "631c4b66-0469-422f-b7d1-398a9e16d0aa"
      },
      "source": [
        "IPP[\"CloseUSD\"].plot.line()"
      ],
      "execution_count": null,
      "outputs": [
        {
          "output_type": "execute_result",
          "data": {
            "text/plain": [
              "<matplotlib.axes._subplots.AxesSubplot at 0x7fc294aecb50>"
            ]
          },
          "metadata": {},
          "execution_count": 24
        },
        {
          "output_type": "display_data",
          "data": {
            "image/png": "[encoded data removed]",
            "text/plain": [
              "<Figure size 432x288 with 1 Axes>"
            ]
          },
          "metadata": {
            "needs_background": "light"
          }
        }
      ]
    },
    {
      "cell_type": "markdown",
      "metadata": {
        "id": "HSL2uKX3QkjC"
      },
      "source": [
        "Con la gráfica de dispersión del 2020 para el índice NYA podemos ver que se vio afectado en el primer trimestre muy probablemente debido a los efectos del COVID-19 en la economía mundial, recuperandose poco a poco a lo largo del año."
      ]
    },
    {
      "cell_type": "code",
      "metadata": {
        "colab": {
          "base_uri": "https://localhost:8080/",
          "height": 234
        },
        "id": "xeJsCZgSUOFK",
        "outputId": "d45f0466-ba31-413e-d89d-53691c377a07"
      },
      "source": [
        "N225=NNIP[NNIP.Index==\"N225\"]\n",
        "N225.head(5)"
      ],
      "execution_count": null,
      "outputs": [
        {
          "output_type": "execute_result",
          "data": {
            "text/html": [
              "<div>\n",
              "<style scoped>\n",
              "    .dataframe tbody tr th:only-of-type {\n",
              "        vertical-align: middle;\n",
              "    }\n",
              "\n",
              "    .dataframe tbody tr th {\n",
              "        vertical-align: top;\n",
              "    }\n",
              "\n",
              "    .dataframe thead th {\n",
              "        text-align: right;\n",
              "    }\n",
              "</style>\n",
              "<table border=\"1\" class=\"dataframe\">\n",
              "  <thead>\n",
              "    <tr style=\"text-align: right;\">\n",
              "      <th></th>\n",
              "      <th>Index</th>\n",
              "      <th>Open</th>\n",
              "      <th>High</th>\n",
              "      <th>Low</th>\n",
              "      <th>Close</th>\n",
              "      <th>Adj Close</th>\n",
              "      <th>Volume</th>\n",
              "      <th>CloseUSD</th>\n",
              "    </tr>\n",
              "    <tr>\n",
              "      <th>Date</th>\n",
              "      <th></th>\n",
              "      <th></th>\n",
              "      <th></th>\n",
              "      <th></th>\n",
              "      <th></th>\n",
              "      <th></th>\n",
              "      <th></th>\n",
              "      <th></th>\n",
              "    </tr>\n",
              "  </thead>\n",
              "  <tbody>\n",
              "    <tr>\n",
              "      <th>1965-01-05</th>\n",
              "      <td>N225</td>\n",
              "      <td>1257.719971</td>\n",
              "      <td>1257.719971</td>\n",
              "      <td>1257.719971</td>\n",
              "      <td>1257.719971</td>\n",
              "      <td>1257.719971</td>\n",
              "      <td>0.0</td>\n",
              "      <td>12.577200</td>\n",
              "    </tr>\n",
              "    <tr>\n",
              "      <th>1965-01-06</th>\n",
              "      <td>N225</td>\n",
              "      <td>1263.989990</td>\n",
              "      <td>1263.989990</td>\n",
              "      <td>1263.989990</td>\n",
              "      <td>1263.989990</td>\n",
              "      <td>1263.989990</td>\n",
              "      <td>0.0</td>\n",
              "      <td>12.639900</td>\n",
              "    </tr>\n",
              "    <tr>\n",
              "      <th>1965-01-07</th>\n",
              "      <td>N225</td>\n",
              "      <td>1274.270020</td>\n",
              "      <td>1274.270020</td>\n",
              "      <td>1274.270020</td>\n",
              "      <td>1274.270020</td>\n",
              "      <td>1274.270020</td>\n",
              "      <td>0.0</td>\n",
              "      <td>12.742700</td>\n",
              "    </tr>\n",
              "    <tr>\n",
              "      <th>1965-01-08</th>\n",
              "      <td>N225</td>\n",
              "      <td>1286.430054</td>\n",
              "      <td>1286.430054</td>\n",
              "      <td>1286.430054</td>\n",
              "      <td>1286.430054</td>\n",
              "      <td>1286.430054</td>\n",
              "      <td>0.0</td>\n",
              "      <td>12.864301</td>\n",
              "    </tr>\n",
              "    <tr>\n",
              "      <th>1965-01-12</th>\n",
              "      <td>N225</td>\n",
              "      <td>1288.540039</td>\n",
              "      <td>1288.540039</td>\n",
              "      <td>1288.540039</td>\n",
              "      <td>1288.540039</td>\n",
              "      <td>1288.540039</td>\n",
              "      <td>0.0</td>\n",
              "      <td>12.885400</td>\n",
              "    </tr>\n",
              "  </tbody>\n",
              "</table>\n",
              "</div>"
            ],
            "text/plain": [
              "           Index         Open         High  ...    Adj Close  Volume   CloseUSD\n",
              "Date                                        ...                                \n",
              "1965-01-05  N225  1257.719971  1257.719971  ...  1257.719971     0.0  12.577200\n",
              "1965-01-06  N225  1263.989990  1263.989990  ...  1263.989990     0.0  12.639900\n",
              "1965-01-07  N225  1274.270020  1274.270020  ...  1274.270020     0.0  12.742700\n",
              "1965-01-08  N225  1286.430054  1286.430054  ...  1286.430054     0.0  12.864301\n",
              "1965-01-12  N225  1288.540039  1288.540039  ...  1288.540039     0.0  12.885400\n",
              "\n",
              "[5 rows x 8 columns]"
            ]
          },
          "metadata": {},
          "execution_count": 25
        }
      ]
    },
    {
      "cell_type": "code",
      "metadata": {
        "colab": {
          "base_uri": "https://localhost:8080/",
          "height": 265
        },
        "id": "UvFpD5XhUZrL",
        "outputId": "a3b69abd-dfb9-4585-81dd-4181820235db"
      },
      "source": [
        "EN225=N225.drop(columns=['Open','High','Low','Close','Adj Close','Volume'])\n",
        "EN225.head(6)"
      ],
      "execution_count": null,
      "outputs": [
        {
          "output_type": "execute_result",
          "data": {
            "text/html": [
              "<div>\n",
              "<style scoped>\n",
              "    .dataframe tbody tr th:only-of-type {\n",
              "        vertical-align: middle;\n",
              "    }\n",
              "\n",
              "    .dataframe tbody tr th {\n",
              "        vertical-align: top;\n",
              "    }\n",
              "\n",
              "    .dataframe thead th {\n",
              "        text-align: right;\n",
              "    }\n",
              "</style>\n",
              "<table border=\"1\" class=\"dataframe\">\n",
              "  <thead>\n",
              "    <tr style=\"text-align: right;\">\n",
              "      <th></th>\n",
              "      <th>Index</th>\n",
              "      <th>CloseUSD</th>\n",
              "    </tr>\n",
              "    <tr>\n",
              "      <th>Date</th>\n",
              "      <th></th>\n",
              "      <th></th>\n",
              "    </tr>\n",
              "  </thead>\n",
              "  <tbody>\n",
              "    <tr>\n",
              "      <th>1965-01-05</th>\n",
              "      <td>N225</td>\n",
              "      <td>12.577200</td>\n",
              "    </tr>\n",
              "    <tr>\n",
              "      <th>1965-01-06</th>\n",
              "      <td>N225</td>\n",
              "      <td>12.639900</td>\n",
              "    </tr>\n",
              "    <tr>\n",
              "      <th>1965-01-07</th>\n",
              "      <td>N225</td>\n",
              "      <td>12.742700</td>\n",
              "    </tr>\n",
              "    <tr>\n",
              "      <th>1965-01-08</th>\n",
              "      <td>N225</td>\n",
              "      <td>12.864301</td>\n",
              "    </tr>\n",
              "    <tr>\n",
              "      <th>1965-01-12</th>\n",
              "      <td>N225</td>\n",
              "      <td>12.885400</td>\n",
              "    </tr>\n",
              "    <tr>\n",
              "      <th>1965-01-13</th>\n",
              "      <td>N225</td>\n",
              "      <td>12.816700</td>\n",
              "    </tr>\n",
              "  </tbody>\n",
              "</table>\n",
              "</div>"
            ],
            "text/plain": [
              "           Index   CloseUSD\n",
              "Date                       \n",
              "1965-01-05  N225  12.577200\n",
              "1965-01-06  N225  12.639900\n",
              "1965-01-07  N225  12.742700\n",
              "1965-01-08  N225  12.864301\n",
              "1965-01-12  N225  12.885400\n",
              "1965-01-13  N225  12.816700"
            ]
          },
          "metadata": {},
          "execution_count": 26
        }
      ]
    },
    {
      "cell_type": "code",
      "metadata": {
        "colab": {
          "base_uri": "https://localhost:8080/",
          "height": 234
        },
        "id": "H0v6mSTCUiya",
        "outputId": "a4c93410-b28c-4d48-dd7c-353e9cbcb144"
      },
      "source": [
        "N2P = EN225['2020-01-01':'2021-01-01']\n",
        "N2P.head()"
      ],
      "execution_count": null,
      "outputs": [
        {
          "output_type": "execute_result",
          "data": {
            "text/html": [
              "<div>\n",
              "<style scoped>\n",
              "    .dataframe tbody tr th:only-of-type {\n",
              "        vertical-align: middle;\n",
              "    }\n",
              "\n",
              "    .dataframe tbody tr th {\n",
              "        vertical-align: top;\n",
              "    }\n",
              "\n",
              "    .dataframe thead th {\n",
              "        text-align: right;\n",
              "    }\n",
              "</style>\n",
              "<table border=\"1\" class=\"dataframe\">\n",
              "  <thead>\n",
              "    <tr style=\"text-align: right;\">\n",
              "      <th></th>\n",
              "      <th>Index</th>\n",
              "      <th>CloseUSD</th>\n",
              "    </tr>\n",
              "    <tr>\n",
              "      <th>Date</th>\n",
              "      <th></th>\n",
              "      <th></th>\n",
              "    </tr>\n",
              "  </thead>\n",
              "  <tbody>\n",
              "    <tr>\n",
              "      <th>2020-01-06</th>\n",
              "      <td>N225</td>\n",
              "      <td>232.048594</td>\n",
              "    </tr>\n",
              "    <tr>\n",
              "      <th>2020-01-07</th>\n",
              "      <td>N225</td>\n",
              "      <td>235.757207</td>\n",
              "    </tr>\n",
              "    <tr>\n",
              "      <th>2020-01-08</th>\n",
              "      <td>N225</td>\n",
              "      <td>232.047598</td>\n",
              "    </tr>\n",
              "    <tr>\n",
              "      <th>2020-01-09</th>\n",
              "      <td>N225</td>\n",
              "      <td>237.398691</td>\n",
              "    </tr>\n",
              "    <tr>\n",
              "      <th>2020-01-10</th>\n",
              "      <td>N225</td>\n",
              "      <td>238.505703</td>\n",
              "    </tr>\n",
              "  </tbody>\n",
              "</table>\n",
              "</div>"
            ],
            "text/plain": [
              "           Index    CloseUSD\n",
              "Date                        \n",
              "2020-01-06  N225  232.048594\n",
              "2020-01-07  N225  235.757207\n",
              "2020-01-08  N225  232.047598\n",
              "2020-01-09  N225  237.398691\n",
              "2020-01-10  N225  238.505703"
            ]
          },
          "metadata": {},
          "execution_count": 27
        }
      ]
    },
    {
      "cell_type": "code",
      "metadata": {
        "colab": {
          "base_uri": "https://localhost:8080/",
          "height": 417
        },
        "id": "CRL6PO5hU392",
        "outputId": "578cc32c-1506-4d08-efd5-d31b127e32d2"
      },
      "source": [
        "N2P.reset_index()"
      ],
      "execution_count": null,
      "outputs": [
        {
          "output_type": "execute_result",
          "data": {
            "text/html": [
              "<div>\n",
              "<style scoped>\n",
              "    .dataframe tbody tr th:only-of-type {\n",
              "        vertical-align: middle;\n",
              "    }\n",
              "\n",
              "    .dataframe tbody tr th {\n",
              "        vertical-align: top;\n",
              "    }\n",
              "\n",
              "    .dataframe thead th {\n",
              "        text-align: right;\n",
              "    }\n",
              "</style>\n",
              "<table border=\"1\" class=\"dataframe\">\n",
              "  <thead>\n",
              "    <tr style=\"text-align: right;\">\n",
              "      <th></th>\n",
              "      <th>Date</th>\n",
              "      <th>Index</th>\n",
              "      <th>CloseUSD</th>\n",
              "    </tr>\n",
              "  </thead>\n",
              "  <tbody>\n",
              "    <tr>\n",
              "      <th>0</th>\n",
              "      <td>2020-01-06</td>\n",
              "      <td>N225</td>\n",
              "      <td>232.048594</td>\n",
              "    </tr>\n",
              "    <tr>\n",
              "      <th>1</th>\n",
              "      <td>2020-01-07</td>\n",
              "      <td>N225</td>\n",
              "      <td>235.757207</td>\n",
              "    </tr>\n",
              "    <tr>\n",
              "      <th>2</th>\n",
              "      <td>2020-01-08</td>\n",
              "      <td>N225</td>\n",
              "      <td>232.047598</td>\n",
              "    </tr>\n",
              "    <tr>\n",
              "      <th>3</th>\n",
              "      <td>2020-01-09</td>\n",
              "      <td>N225</td>\n",
              "      <td>237.398691</td>\n",
              "    </tr>\n",
              "    <tr>\n",
              "      <th>4</th>\n",
              "      <td>2020-01-10</td>\n",
              "      <td>N225</td>\n",
              "      <td>238.505703</td>\n",
              "    </tr>\n",
              "    <tr>\n",
              "      <th>...</th>\n",
              "      <td>...</td>\n",
              "      <td>...</td>\n",
              "      <td>...</td>\n",
              "    </tr>\n",
              "    <tr>\n",
              "      <th>237</th>\n",
              "      <td>2020-12-24</td>\n",
              "      <td>N225</td>\n",
              "      <td>266.683496</td>\n",
              "    </tr>\n",
              "    <tr>\n",
              "      <th>238</th>\n",
              "      <td>2020-12-25</td>\n",
              "      <td>N225</td>\n",
              "      <td>266.566094</td>\n",
              "    </tr>\n",
              "    <tr>\n",
              "      <th>239</th>\n",
              "      <td>2020-12-28</td>\n",
              "      <td>N225</td>\n",
              "      <td>268.540293</td>\n",
              "    </tr>\n",
              "    <tr>\n",
              "      <th>240</th>\n",
              "      <td>2020-12-29</td>\n",
              "      <td>N225</td>\n",
              "      <td>275.681504</td>\n",
              "    </tr>\n",
              "    <tr>\n",
              "      <th>241</th>\n",
              "      <td>2020-12-30</td>\n",
              "      <td>N225</td>\n",
              "      <td>274.441699</td>\n",
              "    </tr>\n",
              "  </tbody>\n",
              "</table>\n",
              "<p>242 rows × 3 columns</p>\n",
              "</div>"
            ],
            "text/plain": [
              "          Date Index    CloseUSD\n",
              "0   2020-01-06  N225  232.048594\n",
              "1   2020-01-07  N225  235.757207\n",
              "2   2020-01-08  N225  232.047598\n",
              "3   2020-01-09  N225  237.398691\n",
              "4   2020-01-10  N225  238.505703\n",
              "..         ...   ...         ...\n",
              "237 2020-12-24  N225  266.683496\n",
              "238 2020-12-25  N225  266.566094\n",
              "239 2020-12-28  N225  268.540293\n",
              "240 2020-12-29  N225  275.681504\n",
              "241 2020-12-30  N225  274.441699\n",
              "\n",
              "[242 rows x 3 columns]"
            ]
          },
          "metadata": {},
          "execution_count": 28
        }
      ]
    },
    {
      "cell_type": "code",
      "metadata": {
        "colab": {
          "base_uri": "https://localhost:8080/",
          "height": 296
        },
        "id": "-yuljaBk-CZ7",
        "outputId": "11b97821-8038-4e81-9e8b-8ae76d669ee5"
      },
      "source": [
        "N2P[\"CloseUSD\"].plot.line()"
      ],
      "execution_count": null,
      "outputs": [
        {
          "output_type": "execute_result",
          "data": {
            "text/plain": [
              "<matplotlib.axes._subplots.AxesSubplot at 0x7fc294a723d0>"
            ]
          },
          "metadata": {},
          "execution_count": 29
        },
        {
          "output_type": "display_data",
          "data": {
            "image/png": "[encoded data removed]",
            "text/plain": [
              "<Figure size 432x288 with 1 Axes>"
            ]
          },
          "metadata": {
            "needs_background": "light"
          }
        }
      ]
    },
    {
      "cell_type": "markdown",
      "metadata": {
        "id": "p7_DMVSOVUni"
      },
      "source": [
        "Comparando la gráfica de dispersión del índice N225 de Japón del año 2020 con la del NYA podemos apreciar que son bastante similares, esto debido a que ambos mercados se vieron afectados por la pandemia. Si revisaramos todos los índices disponibles en la base probablemente encontraríamos la misma situación. "
      ]
    },
    {
      "cell_type": "code",
      "metadata": {
        "colab": {
          "base_uri": "https://localhost:8080/",
          "height": 310
        },
        "id": "oPHAUQlyaeD_",
        "outputId": "8ebb1867-89a5-49c8-cade-d4ee06afcf8d"
      },
      "source": [
        "#Comparación\n",
        "from pylab import *\n",
        "subplot(1,2,1)\n",
        "IPP[\"CloseUSD\"].plot.line()\n",
        "plt.title(\"NYA\")\n",
        "subplot(1,2,2)\n",
        "N2P[\"CloseUSD\"].plot.line()\n",
        "plt.title(\"N225\")"
      ],
      "execution_count": null,
      "outputs": [
        {
          "output_type": "execute_result",
          "data": {
            "text/plain": [
              "Text(0.5, 1.0, 'N225')"
            ]
          },
          "metadata": {},
          "execution_count": 30
        },
        {
          "output_type": "display_data",
          "data": {
            "image/png": "[encoded data removed]",
            "text/plain": [
              "<Figure size 432x288 with 2 Axes>"
            ]
          },
          "metadata": {
            "needs_background": "light"
          }
        }
      ]
    },
    {
      "cell_type": "code",
      "metadata": {
        "colab": {
          "base_uri": "https://localhost:8080/",
          "height": 234
        },
        "id": "uDMaKJgHDnCX",
        "outputId": "5e30e0c6-260e-4f86-a87d-ba9cfeabad86"
      },
      "source": [
        "TI=NNIP[(NNIP[\"Index\"]==\"NYA\") | (NNIP[\"Index\"]==\"N225\")| (NNIP[\"Index\"]==\"HSI\") | (NNIP[\"Index\"]==\"IXIC\") | (NNIP[\"Index\"]==\"GSPTSE\")]\n",
        "TI.head()"
      ],
      "execution_count": null,
      "outputs": [
        {
          "output_type": "execute_result",
          "data": {
            "text/html": [
              "<div>\n",
              "<style scoped>\n",
              "    .dataframe tbody tr th:only-of-type {\n",
              "        vertical-align: middle;\n",
              "    }\n",
              "\n",
              "    .dataframe tbody tr th {\n",
              "        vertical-align: top;\n",
              "    }\n",
              "\n",
              "    .dataframe thead th {\n",
              "        text-align: right;\n",
              "    }\n",
              "</style>\n",
              "<table border=\"1\" class=\"dataframe\">\n",
              "  <thead>\n",
              "    <tr style=\"text-align: right;\">\n",
              "      <th></th>\n",
              "      <th>Index</th>\n",
              "      <th>Open</th>\n",
              "      <th>High</th>\n",
              "      <th>Low</th>\n",
              "      <th>Close</th>\n",
              "      <th>Adj Close</th>\n",
              "      <th>Volume</th>\n",
              "      <th>CloseUSD</th>\n",
              "    </tr>\n",
              "    <tr>\n",
              "      <th>Date</th>\n",
              "      <th></th>\n",
              "      <th></th>\n",
              "      <th></th>\n",
              "      <th></th>\n",
              "      <th></th>\n",
              "      <th></th>\n",
              "      <th></th>\n",
              "      <th></th>\n",
              "    </tr>\n",
              "  </thead>\n",
              "  <tbody>\n",
              "    <tr>\n",
              "      <th>1986-12-31</th>\n",
              "      <td>HSI</td>\n",
              "      <td>2568.300049</td>\n",
              "      <td>2568.300049</td>\n",
              "      <td>2568.300049</td>\n",
              "      <td>2568.300049</td>\n",
              "      <td>2568.300049</td>\n",
              "      <td>0.0</td>\n",
              "      <td>333.879006</td>\n",
              "    </tr>\n",
              "    <tr>\n",
              "      <th>1987-01-02</th>\n",
              "      <td>HSI</td>\n",
              "      <td>2540.100098</td>\n",
              "      <td>2540.100098</td>\n",
              "      <td>2540.100098</td>\n",
              "      <td>2540.100098</td>\n",
              "      <td>2540.100098</td>\n",
              "      <td>0.0</td>\n",
              "      <td>330.213013</td>\n",
              "    </tr>\n",
              "    <tr>\n",
              "      <th>1987-01-05</th>\n",
              "      <td>HSI</td>\n",
              "      <td>2552.399902</td>\n",
              "      <td>2552.399902</td>\n",
              "      <td>2552.399902</td>\n",
              "      <td>2552.399902</td>\n",
              "      <td>2552.399902</td>\n",
              "      <td>0.0</td>\n",
              "      <td>331.811987</td>\n",
              "    </tr>\n",
              "    <tr>\n",
              "      <th>1987-01-06</th>\n",
              "      <td>HSI</td>\n",
              "      <td>2583.899902</td>\n",
              "      <td>2583.899902</td>\n",
              "      <td>2583.899902</td>\n",
              "      <td>2583.899902</td>\n",
              "      <td>2583.899902</td>\n",
              "      <td>0.0</td>\n",
              "      <td>335.906987</td>\n",
              "    </tr>\n",
              "    <tr>\n",
              "      <th>1987-01-07</th>\n",
              "      <td>HSI</td>\n",
              "      <td>2607.100098</td>\n",
              "      <td>2607.100098</td>\n",
              "      <td>2607.100098</td>\n",
              "      <td>2607.100098</td>\n",
              "      <td>2607.100098</td>\n",
              "      <td>0.0</td>\n",
              "      <td>338.923013</td>\n",
              "    </tr>\n",
              "  </tbody>\n",
              "</table>\n",
              "</div>"
            ],
            "text/plain": [
              "           Index         Open         High  ...    Adj Close  Volume    CloseUSD\n",
              "Date                                        ...                                 \n",
              "1986-12-31   HSI  2568.300049  2568.300049  ...  2568.300049     0.0  333.879006\n",
              "1987-01-02   HSI  2540.100098  2540.100098  ...  2540.100098     0.0  330.213013\n",
              "1987-01-05   HSI  2552.399902  2552.399902  ...  2552.399902     0.0  331.811987\n",
              "1987-01-06   HSI  2583.899902  2583.899902  ...  2583.899902     0.0  335.906987\n",
              "1987-01-07   HSI  2607.100098  2607.100098  ...  2607.100098     0.0  338.923013\n",
              "\n",
              "[5 rows x 8 columns]"
            ]
          },
          "metadata": {},
          "execution_count": 31
        }
      ]
    },
    {
      "cell_type": "code",
      "metadata": {
        "colab": {
          "base_uri": "https://localhost:8080/",
          "height": 234
        },
        "id": "S6N6ekslDzRO",
        "outputId": "a7b3bf17-3c13-4610-9846-aa3e4ca07655"
      },
      "source": [
        "NTI=TI.drop(columns=['Open','High','Low','Close','Adj Close','Volume'])\n",
        "NTI.head()"
      ],
      "execution_count": null,
      "outputs": [
        {
          "output_type": "execute_result",
          "data": {
            "text/html": [
              "<div>\n",
              "<style scoped>\n",
              "    .dataframe tbody tr th:only-of-type {\n",
              "        vertical-align: middle;\n",
              "    }\n",
              "\n",
              "    .dataframe tbody tr th {\n",
              "        vertical-align: top;\n",
              "    }\n",
              "\n",
              "    .dataframe thead th {\n",
              "        text-align: right;\n",
              "    }\n",
              "</style>\n",
              "<table border=\"1\" class=\"dataframe\">\n",
              "  <thead>\n",
              "    <tr style=\"text-align: right;\">\n",
              "      <th></th>\n",
              "      <th>Index</th>\n",
              "      <th>CloseUSD</th>\n",
              "    </tr>\n",
              "    <tr>\n",
              "      <th>Date</th>\n",
              "      <th></th>\n",
              "      <th></th>\n",
              "    </tr>\n",
              "  </thead>\n",
              "  <tbody>\n",
              "    <tr>\n",
              "      <th>1986-12-31</th>\n",
              "      <td>HSI</td>\n",
              "      <td>333.879006</td>\n",
              "    </tr>\n",
              "    <tr>\n",
              "      <th>1987-01-02</th>\n",
              "      <td>HSI</td>\n",
              "      <td>330.213013</td>\n",
              "    </tr>\n",
              "    <tr>\n",
              "      <th>1987-01-05</th>\n",
              "      <td>HSI</td>\n",
              "      <td>331.811987</td>\n",
              "    </tr>\n",
              "    <tr>\n",
              "      <th>1987-01-06</th>\n",
              "      <td>HSI</td>\n",
              "      <td>335.906987</td>\n",
              "    </tr>\n",
              "    <tr>\n",
              "      <th>1987-01-07</th>\n",
              "      <td>HSI</td>\n",
              "      <td>338.923013</td>\n",
              "    </tr>\n",
              "  </tbody>\n",
              "</table>\n",
              "</div>"
            ],
            "text/plain": [
              "           Index    CloseUSD\n",
              "Date                        \n",
              "1986-12-31   HSI  333.879006\n",
              "1987-01-02   HSI  330.213013\n",
              "1987-01-05   HSI  331.811987\n",
              "1987-01-06   HSI  335.906987\n",
              "1987-01-07   HSI  338.923013"
            ]
          },
          "metadata": {},
          "execution_count": 32
        }
      ]
    },
    {
      "cell_type": "code",
      "metadata": {
        "colab": {
          "base_uri": "https://localhost:8080/",
          "height": 296
        },
        "id": "Douc2weeJguH",
        "outputId": "a405403f-adbf-4caf-8c73-14e8c814cf16"
      },
      "source": [
        "import seaborn as sns\n",
        "sns.boxplot(x='Index', y='CloseUSD', data=NTI)"
      ],
      "execution_count": null,
      "outputs": [
        {
          "output_type": "execute_result",
          "data": {
            "text/plain": [
              "<matplotlib.axes._subplots.AxesSubplot at 0x7fc294107a50>"
            ]
          },
          "metadata": {},
          "execution_count": 33
        },
        {
          "output_type": "display_data",
          "data": {
            "image/png": "[encoded data removed]",
            "text/plain": [
              "<Figure size 432x288 with 1 Axes>"
            ]
          },
          "metadata": {
            "needs_background": "light"
          }
        }
      ]
    },
    {
      "cell_type": "code",
      "metadata": {
        "colab": {
          "base_uri": "https://localhost:8080/",
          "height": 296
        },
        "id": "nDIDsRSCQ2Xb",
        "outputId": "ee65a77f-68db-4cb7-a923-7b7432a6c28a"
      },
      "source": [
        "NT225=NTI[NTI.Index==\"N225\"]\n",
        "sns.boxplot(x='Index', y='CloseUSD', data=NT225)"
      ],
      "execution_count": null,
      "outputs": [
        {
          "output_type": "execute_result",
          "data": {
            "text/plain": [
              "<matplotlib.axes._subplots.AxesSubplot at 0x7fc293ff8310>"
            ]
          },
          "metadata": {},
          "execution_count": 34
        },
        {
          "output_type": "display_data",
          "data": {
            "image/png": "[encoded data removed]",
            "text/plain": [
              "<Figure size 432x288 with 1 Axes>"
            ]
          },
          "metadata": {
            "needs_background": "light"
          }
        }
      ]
    },
    {
      "cell_type": "markdown",
      "metadata": {
        "id": "bGH_EouDVvHi"
      },
      "source": [
        "Comparando los boxplot, notamos que el índice HSI es el más \"estable\" a través del tiempo por lo que sería el más facil de predecir para un futuro cercano. Esto se debe a que la mayoría de los precios de cierre se encuentran dentro de la caja provocando así que sus bigotes no sean tan largos. Por el contrario, el índice IXIC es el más \"volatil\" ya que presenta demasiados datos atípicos. "
      ]
    },
    {
      "cell_type": "markdown",
      "metadata": {
        "id": "PexzGTnWNLvc"
      },
      "source": [
        "## **Conclusión General**\n",
        "\n",
        "Con los resumenes estadísticos y las gráficas de barras nos dimos cuenta que el índice NYA de la NYSE era el que tenía mayor número de observaciones en nuestra base de datos y su promedio está por encima del general. Gracias a lo anterior empezamos a tomar en cuenta el NYA para realizar comparaciones entre los índices, el cual es nuestro objetivo secundario.\n",
        "\n",
        "Se decidió descartar dos índices debido a que presentaban bastante datos atípicos en sus precios de cierre, haciéndolos los más volátiles y por ende complicados de predecir. Dichos índices fueron el \"IXIC\" y \"N225\"."
      ]
    },
    {
      "cell_type": "markdown",
      "metadata": {
        "id": "r05LSTA3uYuc"
      },
      "source": [
        "# **Aplicando la técnica de Series de Tiempo**"
      ]
    },
    {
      "cell_type": "markdown",
      "metadata": {
        "id": "IOolVlj1JFyr"
      },
      "source": [
        "https://www.pluralsight.com/guides/advanced-time-series-modeling-(arima)-models-in-python"
      ]
    },
    {
      "cell_type": "markdown",
      "metadata": {
        "id": "JGdWKw1SL-FF"
      },
      "source": [
        "**¿Por qué elegimos la técnica de Series de Tiempo?**\n",
        "\n",
        "El análisis de series de tiempo es útil para predecir valores futuros, el cual es nuestro objetivo principal. Por lo general, un extenso conjunto de datos garantiza que se tenga un tamaño de muestra representativo y que el análisis realizado sea confiable. Para nuestro análisis decidimos que con poco más de 330 observaciones era suficiente tomando en cuenta que la regla general (según el libro \"Intervention Analysis with Applications to Economic and Environmental Problems\" de Box y Tiao) es que preferentemente se tengan más de 100 observaciones.\n",
        "\n",
        "Al implementar un modelo ARIMA se puede pronosticar y analizar una serie de tiempo utilizando valores pasados, como predecir precios futuros basados ​​en ganancias históricas.\n",
        "\n"
      ]
    },
    {
      "cell_type": "markdown",
      "metadata": {
        "id": "-kj8IBU9ttj0"
      },
      "source": [
        "## NYA"
      ]
    },
    {
      "cell_type": "code",
      "metadata": {
        "id": "1fFpzpk-ucAk",
        "colab": {
          "base_uri": "https://localhost:8080/",
          "height": 234
        },
        "outputId": "c9ccf762-bbb8-40a5-fc83-e2b66017d748"
      },
      "source": [
        "RPP = ENYA['2020-01-01':'2021-05-01']\n",
        "RPP.head()"
      ],
      "execution_count": null,
      "outputs": [
        {
          "output_type": "execute_result",
          "data": {
            "text/html": [
              "<div>\n",
              "<style scoped>\n",
              "    .dataframe tbody tr th:only-of-type {\n",
              "        vertical-align: middle;\n",
              "    }\n",
              "\n",
              "    .dataframe tbody tr th {\n",
              "        vertical-align: top;\n",
              "    }\n",
              "\n",
              "    .dataframe thead th {\n",
              "        text-align: right;\n",
              "    }\n",
              "</style>\n",
              "<table border=\"1\" class=\"dataframe\">\n",
              "  <thead>\n",
              "    <tr style=\"text-align: right;\">\n",
              "      <th></th>\n",
              "      <th>Index</th>\n",
              "      <th>CloseUSD</th>\n",
              "    </tr>\n",
              "    <tr>\n",
              "      <th>Date</th>\n",
              "      <th></th>\n",
              "      <th></th>\n",
              "    </tr>\n",
              "  </thead>\n",
              "  <tbody>\n",
              "    <tr>\n",
              "      <th>2020-01-02</th>\n",
              "      <td>NYA</td>\n",
              "      <td>14002.49023</td>\n",
              "    </tr>\n",
              "    <tr>\n",
              "      <th>2020-01-03</th>\n",
              "      <td>NYA</td>\n",
              "      <td>13917.04981</td>\n",
              "    </tr>\n",
              "    <tr>\n",
              "      <th>2020-01-06</th>\n",
              "      <td>NYA</td>\n",
              "      <td>13941.79981</td>\n",
              "    </tr>\n",
              "    <tr>\n",
              "      <th>2020-01-07</th>\n",
              "      <td>NYA</td>\n",
              "      <td>13898.45020</td>\n",
              "    </tr>\n",
              "    <tr>\n",
              "      <th>2020-01-08</th>\n",
              "      <td>NYA</td>\n",
              "      <td>13934.44043</td>\n",
              "    </tr>\n",
              "  </tbody>\n",
              "</table>\n",
              "</div>"
            ],
            "text/plain": [
              "           Index     CloseUSD\n",
              "Date                         \n",
              "2020-01-02   NYA  14002.49023\n",
              "2020-01-03   NYA  13917.04981\n",
              "2020-01-06   NYA  13941.79981\n",
              "2020-01-07   NYA  13898.45020\n",
              "2020-01-08   NYA  13934.44043"
            ]
          },
          "metadata": {},
          "execution_count": 35
        }
      ]
    },
    {
      "cell_type": "markdown",
      "metadata": {
        "id": "vLUXwwErfKMV"
      },
      "source": [
        "### Revisando estacionariedad en media"
      ]
    },
    {
      "cell_type": "code",
      "metadata": {
        "colab": {
          "base_uri": "https://localhost:8080/"
        },
        "id": "vh_0d8O8doTY",
        "outputId": "a5359a97-3144-49b8-8160-1c409188cafc"
      },
      "source": [
        "import matplotlib.pyplot as plt\n",
        "x = np.arange(RPP.reset_index()['Date'].size)\n",
        "fit = np.polyfit(x, RPP['CloseUSD'], deg=1)\n",
        "print (\"Slope : \" + str(fit[0]))\n",
        "print (\"Intercept : \" + str(fit[1]))"
      ],
      "execution_count": null,
      "outputs": [
        {
          "output_type": "stream",
          "name": "stdout",
          "text": [
            "Slope : 12.099763050321425\n",
            "Intercept : 11285.917567309754\n"
          ]
        }
      ]
    },
    {
      "cell_type": "code",
      "metadata": {
        "colab": {
          "base_uri": "https://localhost:8080/",
          "height": 295
        },
        "id": "8dWpO61beT6n",
        "outputId": "ec99f333-c779-488e-8fc2-0880e47606b1"
      },
      "source": [
        "fit_function = np.poly1d(fit)\n",
        "plt.plot(RPP.reset_index()['Date'], fit_function(x))\n",
        "plt.plot(RPP.reset_index()['Date'], RPP['CloseUSD'])\n",
        "\n",
        "plt.xlabel('Fecha')\n",
        "plt.ylabel('CloseUSD')\n",
        "plt.title('NYA')\n",
        "plt.show()"
      ],
      "execution_count": null,
      "outputs": [
        {
          "output_type": "display_data",
          "data": {
            "image/png": "[encoded data removed]",
            "text/plain": [
              "<Figure size 432x288 with 1 Axes>"
            ]
          },
          "metadata": {
            "needs_background": "light"
          }
        }
      ]
    },
    {
      "cell_type": "markdown",
      "metadata": {
        "id": "0v5Jf9lwG4t2"
      },
      "source": [
        "Visualmente parece que se tiene tendencia lineal"
      ]
    },
    {
      "cell_type": "code",
      "metadata": {
        "colab": {
          "base_uri": "https://localhost:8080/"
        },
        "id": "INl18zAgc3rm",
        "outputId": "b79403b2-97f5-4146-983e-0ec9de69cef5"
      },
      "source": [
        "from sklearn import datasets, linear_model\n",
        "from sklearn.linear_model import LinearRegression\n",
        "import statsmodels.api as sm\n",
        "from scipy import stats\n",
        "\n",
        "X2 = np.arange(RPP.reset_index()['Date'].size).reshape(-1, 1)\n",
        "y2 = RPP['CloseUSD']\n",
        "X3 = sm.add_constant(X2)\n",
        "est2 = sm.OLS(y2, X3)\n",
        "est3 = est2.fit()\n",
        "print(est3.summary())"
      ],
      "execution_count": null,
      "outputs": [
        {
          "output_type": "stream",
          "name": "stdout",
          "text": [
            "                            OLS Regression Results                            \n",
            "==============================================================================\n",
            "Dep. Variable:               CloseUSD   R-squared:                       0.508\n",
            "Model:                            OLS   Adj. R-squared:                  0.507\n",
            "Method:                 Least Squares   F-statistic:                     343.9\n",
            "Date:                Mon, 18 Oct 2021   Prob (F-statistic):           3.11e-53\n",
            "Time:                        18:51:04   Log-Likelihood:                -2836.7\n",
            "No. Observations:                 335   AIC:                             5677.\n",
            "Df Residuals:                     333   BIC:                             5685.\n",
            "Df Model:                           1                                         \n",
            "Covariance Type:            nonrobust                                         \n",
            "==============================================================================\n",
            "                 coef    std err          t      P>|t|      [0.025      0.975]\n",
            "------------------------------------------------------------------------------\n",
            "const       1.129e+04    125.916     89.631      0.000     1.1e+04    1.15e+04\n",
            "x1            12.0998      0.652     18.544      0.000      10.816      13.383\n",
            "==============================================================================\n",
            "Omnibus:                       19.756   Durbin-Watson:                   0.037\n",
            "Prob(Omnibus):                  0.000   Jarque-Bera (JB):               21.531\n",
            "Skew:                           0.593   Prob(JB):                     2.11e-05\n",
            "Kurtosis:                       3.366   Cond. No.                         385.\n",
            "==============================================================================\n",
            "\n",
            "Warnings:\n",
            "[1] Standard Errors assume that the covariance matrix of the errors is correctly specified.\n"
          ]
        }
      ]
    },
    {
      "cell_type": "markdown",
      "metadata": {
        "id": "re1A466edZa4"
      },
      "source": [
        "#### Prueba de hipótesis\n",
        "\n",
        "H0: la serie no tiene tendencia\n",
        "\n",
        "H1: la serie tiene tendencia\n",
        "\n",
        "Criterio: Rechazamos H0 si p-valor<alfa(0.05)\n",
        "\n",
        "P-valor=0.000<0.05, con un 95% de confianza rechazamos H0\n",
        "\n",
        "**La serie es no estacionaria en media**"
      ]
    },
    {
      "cell_type": "markdown",
      "metadata": {
        "id": "V_sci0Uxa9N5"
      },
      "source": [
        "### Revisando estacionariedad en varianza con la Prueba Dickey-Fuller Aumentada"
      ]
    },
    {
      "cell_type": "code",
      "metadata": {
        "colab": {
          "base_uri": "https://localhost:8080/",
          "height": 265
        },
        "id": "enoIp0U6nbFB",
        "outputId": "32368ca3-0c2b-4617-9835-4f39a0e3e498"
      },
      "source": [
        "RPP2=RPP.drop(columns=['Index'])\n",
        "RPP2.head(6)"
      ],
      "execution_count": null,
      "outputs": [
        {
          "output_type": "execute_result",
          "data": {
            "text/html": [
              "<div>\n",
              "<style scoped>\n",
              "    .dataframe tbody tr th:only-of-type {\n",
              "        vertical-align: middle;\n",
              "    }\n",
              "\n",
              "    .dataframe tbody tr th {\n",
              "        vertical-align: top;\n",
              "    }\n",
              "\n",
              "    .dataframe thead th {\n",
              "        text-align: right;\n",
              "    }\n",
              "</style>\n",
              "<table border=\"1\" class=\"dataframe\">\n",
              "  <thead>\n",
              "    <tr style=\"text-align: right;\">\n",
              "      <th></th>\n",
              "      <th>CloseUSD</th>\n",
              "    </tr>\n",
              "    <tr>\n",
              "      <th>Date</th>\n",
              "      <th></th>\n",
              "    </tr>\n",
              "  </thead>\n",
              "  <tbody>\n",
              "    <tr>\n",
              "      <th>2020-01-02</th>\n",
              "      <td>14002.49023</td>\n",
              "    </tr>\n",
              "    <tr>\n",
              "      <th>2020-01-03</th>\n",
              "      <td>13917.04981</td>\n",
              "    </tr>\n",
              "    <tr>\n",
              "      <th>2020-01-06</th>\n",
              "      <td>13941.79981</td>\n",
              "    </tr>\n",
              "    <tr>\n",
              "      <th>2020-01-07</th>\n",
              "      <td>13898.45020</td>\n",
              "    </tr>\n",
              "    <tr>\n",
              "      <th>2020-01-08</th>\n",
              "      <td>13934.44043</td>\n",
              "    </tr>\n",
              "    <tr>\n",
              "      <th>2020-01-09</th>\n",
              "      <td>13997.65039</td>\n",
              "    </tr>\n",
              "  </tbody>\n",
              "</table>\n",
              "</div>"
            ],
            "text/plain": [
              "               CloseUSD\n",
              "Date                   \n",
              "2020-01-02  14002.49023\n",
              "2020-01-03  13917.04981\n",
              "2020-01-06  13941.79981\n",
              "2020-01-07  13898.45020\n",
              "2020-01-08  13934.44043\n",
              "2020-01-09  13997.65039"
            ]
          },
          "metadata": {},
          "execution_count": 39
        }
      ]
    },
    {
      "cell_type": "code",
      "metadata": {
        "colab": {
          "base_uri": "https://localhost:8080/"
        },
        "id": "j-hsaIDBp2j2",
        "outputId": "6a71f29e-ac0e-4aa0-b8f8-ee49c2020818"
      },
      "source": [
        "#Definiendo función para la Prueba Dickey-Fuller\n",
        "from statsmodels.tsa.stattools import adfuller\n",
        "def adf_test(timeseries):\n",
        "    print ('Resultados de la prueba Dickey-Fuller:')\n",
        "    dftest = adfuller(timeseries, autolag='AIC')\n",
        "    dfoutput = pd.Series(dftest[0:4], index=['Test Statistic','p-valor','#Lags Used','Numero de observaciones usadas'])\n",
        "    for key,value in dftest[4].items():\n",
        "       dfoutput['Critical Value (%s)'%key] = value\n",
        "    print (dfoutput)\n",
        "\n",
        "adf_test(RPP2['CloseUSD'])"
      ],
      "execution_count": null,
      "outputs": [
        {
          "output_type": "stream",
          "name": "stdout",
          "text": [
            "Resultados de la prueba Dickey-Fuller:\n",
            "Test Statistic                     -0.949656\n",
            "p-valor                             0.771181\n",
            "#Lags Used                          9.000000\n",
            "Numero de observaciones usadas    325.000000\n",
            "Critical Value (1%)                -3.450632\n",
            "Critical Value (5%)                -2.870474\n",
            "Critical Value (10%)               -2.571530\n",
            "dtype: float64\n"
          ]
        }
      ]
    },
    {
      "cell_type": "markdown",
      "metadata": {
        "id": "1hNXpB55EbWC"
      },
      "source": [
        "#### Prueba de hipótesis\n",
        "H0: la serie no es estacionaria\n",
        "\n",
        "H1: la serie es estacionaria\n",
        "\n",
        "Criterio: Rechazamos H0 si p-valor<alfa(0.05)\n",
        "\n",
        "P-valor=0.771181>0.05, con un 95% de confianza no rechazamos H0\n",
        "\n",
        "**La serie es no estacionaria en varianza**\n",
        "\n",
        "## **Se tiene que corregir la serie para hacerse estacionaria**"
      ]
    },
    {
      "cell_type": "markdown",
      "metadata": {
        "id": "xGyd3BEArLhj"
      },
      "source": [
        "### Correcciones"
      ]
    },
    {
      "cell_type": "code",
      "metadata": {
        "colab": {
          "base_uri": "https://localhost:8080/",
          "height": 294
        },
        "id": "Zqv1mo9aq0jc",
        "outputId": "a0ecad44-7934-49a4-adfc-02eb6d15c9dd"
      },
      "source": [
        "RPP2['CloseUSD_log'] = np.log(RPP2['CloseUSD'])\n",
        "RPP2['CloseUSD_log_diff'] = RPP2['CloseUSD_log'] - RPP2['CloseUSD_log'].shift(1)\n",
        "RPP2['CloseUSD_log_diff'].dropna().plot()"
      ],
      "execution_count": null,
      "outputs": [
        {
          "output_type": "execute_result",
          "data": {
            "text/plain": [
              "<matplotlib.axes._subplots.AxesSubplot at 0x7fc28f334950>"
            ]
          },
          "metadata": {},
          "execution_count": 67
        },
        {
          "output_type": "display_data",
          "data": {
            "image/png": "[encoded data removed]",
            "text/plain": [
              "<Figure size 432x288 with 1 Axes>"
            ]
          },
          "metadata": {
            "needs_background": "light"
          }
        }
      ]
    },
    {
      "cell_type": "markdown",
      "metadata": {
        "id": "pA66IUM1RS1d"
      },
      "source": [
        "### Revisando estacionariedad en media"
      ]
    },
    {
      "cell_type": "code",
      "metadata": {
        "colab": {
          "base_uri": "https://localhost:8080/",
          "height": 417
        },
        "id": "xKuzTQEJPysK",
        "outputId": "eb97b760-0010-4d46-fee0-72d9184231b5"
      },
      "source": [
        "RPP2_c = RPP2.reset_index().drop([0], axis=0)\n",
        "RPP2_c"
      ],
      "execution_count": null,
      "outputs": [
        {
          "output_type": "execute_result",
          "data": {
            "text/html": [
              "<div>\n",
              "<style scoped>\n",
              "    .dataframe tbody tr th:only-of-type {\n",
              "        vertical-align: middle;\n",
              "    }\n",
              "\n",
              "    .dataframe tbody tr th {\n",
              "        vertical-align: top;\n",
              "    }\n",
              "\n",
              "    .dataframe thead th {\n",
              "        text-align: right;\n",
              "    }\n",
              "</style>\n",
              "<table border=\"1\" class=\"dataframe\">\n",
              "  <thead>\n",
              "    <tr style=\"text-align: right;\">\n",
              "      <th></th>\n",
              "      <th>Date</th>\n",
              "      <th>CloseUSD</th>\n",
              "      <th>CloseUSD_log</th>\n",
              "      <th>CloseUSD_log_diff</th>\n",
              "    </tr>\n",
              "  </thead>\n",
              "  <tbody>\n",
              "    <tr>\n",
              "      <th>1</th>\n",
              "      <td>2020-01-03</td>\n",
              "      <td>13917.04981</td>\n",
              "      <td>9.540870</td>\n",
              "      <td>-0.006120</td>\n",
              "    </tr>\n",
              "    <tr>\n",
              "      <th>2</th>\n",
              "      <td>2020-01-06</td>\n",
              "      <td>13941.79981</td>\n",
              "      <td>9.542647</td>\n",
              "      <td>0.001777</td>\n",
              "    </tr>\n",
              "    <tr>\n",
              "      <th>3</th>\n",
              "      <td>2020-01-07</td>\n",
              "      <td>13898.45020</td>\n",
              "      <td>9.539533</td>\n",
              "      <td>-0.003114</td>\n",
              "    </tr>\n",
              "    <tr>\n",
              "      <th>4</th>\n",
              "      <td>2020-01-08</td>\n",
              "      <td>13934.44043</td>\n",
              "      <td>9.542119</td>\n",
              "      <td>0.002586</td>\n",
              "    </tr>\n",
              "    <tr>\n",
              "      <th>5</th>\n",
              "      <td>2020-01-09</td>\n",
              "      <td>13997.65039</td>\n",
              "      <td>9.546645</td>\n",
              "      <td>0.004526</td>\n",
              "    </tr>\n",
              "    <tr>\n",
              "      <th>...</th>\n",
              "      <td>...</td>\n",
              "      <td>...</td>\n",
              "      <td>...</td>\n",
              "      <td>...</td>\n",
              "    </tr>\n",
              "    <tr>\n",
              "      <th>330</th>\n",
              "      <td>2021-04-26</td>\n",
              "      <td>16241.20996</td>\n",
              "      <td>9.695307</td>\n",
              "      <td>0.002170</td>\n",
              "    </tr>\n",
              "    <tr>\n",
              "      <th>331</th>\n",
              "      <td>2021-04-27</td>\n",
              "      <td>16273.30957</td>\n",
              "      <td>9.697282</td>\n",
              "      <td>0.001974</td>\n",
              "    </tr>\n",
              "    <tr>\n",
              "      <th>332</th>\n",
              "      <td>2021-04-28</td>\n",
              "      <td>16322.12988</td>\n",
              "      <td>9.700277</td>\n",
              "      <td>0.002996</td>\n",
              "    </tr>\n",
              "    <tr>\n",
              "      <th>333</th>\n",
              "      <td>2021-04-29</td>\n",
              "      <td>16376.00000</td>\n",
              "      <td>9.703572</td>\n",
              "      <td>0.003295</td>\n",
              "    </tr>\n",
              "    <tr>\n",
              "      <th>334</th>\n",
              "      <td>2021-04-30</td>\n",
              "      <td>16219.33008</td>\n",
              "      <td>9.693959</td>\n",
              "      <td>-0.009613</td>\n",
              "    </tr>\n",
              "  </tbody>\n",
              "</table>\n",
              "<p>334 rows × 4 columns</p>\n",
              "</div>"
            ],
            "text/plain": [
              "          Date     CloseUSD  CloseUSD_log  CloseUSD_log_diff\n",
              "1   2020-01-03  13917.04981      9.540870          -0.006120\n",
              "2   2020-01-06  13941.79981      9.542647           0.001777\n",
              "3   2020-01-07  13898.45020      9.539533          -0.003114\n",
              "4   2020-01-08  13934.44043      9.542119           0.002586\n",
              "5   2020-01-09  13997.65039      9.546645           0.004526\n",
              "..         ...          ...           ...                ...\n",
              "330 2021-04-26  16241.20996      9.695307           0.002170\n",
              "331 2021-04-27  16273.30957      9.697282           0.001974\n",
              "332 2021-04-28  16322.12988      9.700277           0.002996\n",
              "333 2021-04-29  16376.00000      9.703572           0.003295\n",
              "334 2021-04-30  16219.33008      9.693959          -0.009613\n",
              "\n",
              "[334 rows x 4 columns]"
            ]
          },
          "metadata": {},
          "execution_count": 68
        }
      ]
    },
    {
      "cell_type": "code",
      "metadata": {
        "colab": {
          "base_uri": "https://localhost:8080/"
        },
        "id": "vivDkRzOO7Z9",
        "outputId": "5a075ef8-4f65-4b27-d116-12d2394f7ef2"
      },
      "source": [
        "x = np.arange(RPP2_c['Date'].size)\n",
        "fit = np.polyfit(x,RPP2_c['CloseUSD_log_diff'], deg=1)\n",
        "print (\"Slope : \" + str(fit[0]))\n",
        "print (\"Intercept : \" + str(fit[1]))"
      ],
      "execution_count": null,
      "outputs": [
        {
          "output_type": "stream",
          "name": "stdout",
          "text": [
            "Slope : 1.4280063356096332e-05\n",
            "Intercept : -0.0019376049249305346\n"
          ]
        }
      ]
    },
    {
      "cell_type": "code",
      "metadata": {
        "colab": {
          "base_uri": "https://localhost:8080/",
          "height": 295
        },
        "id": "dUwVgaAKQ-EN",
        "outputId": "1950d081-6654-40a5-d1f1-ea306122ef4b"
      },
      "source": [
        "fit_function = np.poly1d(fit)\n",
        "plt.plot(RPP2_c['Date'], fit_function(x))\n",
        "plt.plot(RPP2_c['Date'], RPP2_c['CloseUSD_log_diff'])\n",
        "\n",
        "plt.xlabel('Fecha')\n",
        "plt.ylabel('CloseUSD')\n",
        "plt.title('NYA')\n",
        "plt.show()"
      ],
      "execution_count": null,
      "outputs": [
        {
          "output_type": "display_data",
          "data": {
            "image/png": "[encoded data removed]",
            "text/plain": [
              "<Figure size 432x288 with 1 Axes>"
            ]
          },
          "metadata": {
            "needs_background": "light"
          }
        }
      ]
    },
    {
      "cell_type": "markdown",
      "metadata": {
        "id": "69EhEJg2Rvg1"
      },
      "source": [
        "Visualmente parece que no se tiene tendencia"
      ]
    },
    {
      "cell_type": "code",
      "metadata": {
        "colab": {
          "base_uri": "https://localhost:8080/"
        },
        "id": "9fbO7dMBaU4y",
        "outputId": "cd3a4c22-eb20-4728-d27a-53c9a83a3619"
      },
      "source": [
        "X = np.arange(RPP2_c['Date'].size).reshape(-1, 1)\n",
        "y = RPP2_c['CloseUSD_log_diff']\n",
        "X2 = sm.add_constant(X)\n",
        "est = sm.OLS(y, X2)\n",
        "est2 = est.fit()\n",
        "print(est2.summary())"
      ],
      "execution_count": null,
      "outputs": [
        {
          "output_type": "stream",
          "name": "stdout",
          "text": [
            "                            OLS Regression Results                            \n",
            "==============================================================================\n",
            "Dep. Variable:      CloseUSD_log_diff   R-squared:                       0.005\n",
            "Model:                            OLS   Adj. R-squared:                  0.002\n",
            "Method:                 Least Squares   F-statistic:                     1.639\n",
            "Date:                Mon, 18 Oct 2021   Prob (F-statistic):              0.201\n",
            "Time:                        19:48:38   Log-Likelihood:                 839.54\n",
            "No. Observations:                 334   AIC:                            -1675.\n",
            "Df Residuals:                     332   BIC:                            -1667.\n",
            "Df Model:                           1                                         \n",
            "Covariance Type:            nonrobust                                         \n",
            "==============================================================================\n",
            "                 coef    std err          t      P>|t|      [0.025      0.975]\n",
            "------------------------------------------------------------------------------\n",
            "const         -0.0019      0.002     -0.903      0.367      -0.006       0.002\n",
            "x1          1.428e-05   1.12e-05      1.280      0.201   -7.66e-06    3.62e-05\n",
            "==============================================================================\n",
            "Omnibus:                      115.079   Durbin-Watson:                   2.512\n",
            "Prob(Omnibus):                  0.000   Jarque-Bera (JB):             1598.798\n",
            "Skew:                          -1.007   Prob(JB):                         0.00\n",
            "Kurtosis:                      13.528   Cond. No.                         384.\n",
            "==============================================================================\n",
            "\n",
            "Warnings:\n",
            "[1] Standard Errors assume that the covariance matrix of the errors is correctly specified.\n"
          ]
        }
      ]
    },
    {
      "cell_type": "markdown",
      "metadata": {
        "id": "12g3h8x_bn1r"
      },
      "source": [
        "#### Prueba de hipótesis\n",
        "\n",
        "H0: la serie no tiene tendencia\n",
        "\n",
        "H1: la serie tiene tendencia\n",
        "\n",
        "Criterio: Rechazamos H0 si p-valor<alfa(0.05)\n",
        "\n",
        "P-valor=0.201>0.05, con un 95% de confianza no rechazamos H0\n",
        "\n",
        "**La serie es estacionaria en media**\n"
      ]
    },
    {
      "cell_type": "markdown",
      "metadata": {
        "id": "gTVsyTmMG_Yb"
      },
      "source": [
        "### Revisando estacionariedad en varianza con la Prueba Dickey-Fuller Aumentada\n",
        "\n"
      ]
    },
    {
      "cell_type": "code",
      "metadata": {
        "colab": {
          "base_uri": "https://localhost:8080/"
        },
        "id": "1c6ofk0jZ2X6",
        "outputId": "eec07b27-fd2c-47b2-b711-0e2719c46d1f"
      },
      "source": [
        "adf_test(RPP2['CloseUSD_log_diff'].dropna())"
      ],
      "execution_count": null,
      "outputs": [
        {
          "output_type": "stream",
          "name": "stdout",
          "text": [
            "Resultados de la prueba Dickey-Fuller:\n",
            "Test Statistic                     -4.974196\n",
            "p-valor                             0.000025\n",
            "#Lags Used                          8.000000\n",
            "Numero de observaciones usadas    325.000000\n",
            "Critical Value (1%)                -3.450632\n",
            "Critical Value (5%)                -2.870474\n",
            "Critical Value (10%)               -2.571530\n",
            "dtype: float64\n"
          ]
        }
      ]
    },
    {
      "cell_type": "markdown",
      "metadata": {
        "id": "wNGH_a7EGKrf"
      },
      "source": [
        "#### Prueba de hipótesis\n",
        "H0: la serie no es estacionaria\n",
        "\n",
        "H1: la serie es estacionaria\n",
        "\n",
        "Criterio: Rechazamos H0 si p-valor<alfa(0.05)\n",
        "\n",
        "P-valor=0.000025<0.05, con un 95% de confianza rechazamos H0\n",
        "\n",
        "**La serie es estacionaria en media y varianza**"
      ]
    },
    {
      "cell_type": "markdown",
      "metadata": {
        "id": "L-zcSft1IgM6"
      },
      "source": [
        "## **Modelo ARIMA**"
      ]
    },
    {
      "cell_type": "code",
      "metadata": {
        "colab": {
          "base_uri": "https://localhost:8080/",
          "height": 505
        },
        "id": "xSxiGmJkH-8P",
        "outputId": "7a1750f5-cdd6-43e6-dc80-f593e779f7d1"
      },
      "source": [
        "!pip install pmdarima"
      ],
      "execution_count": null,
      "outputs": [
        {
          "output_type": "stream",
          "name": "stdout",
          "text": [
            "Collecting pmdarima\n",
            "  Downloading pmdarima-1.8.3-cp37-cp37m-manylinux_2_17_x86_64.manylinux2014_x86_64.manylinux_2_24_x86_64.whl (1.4 MB)\n",
            "\u001b[?25l\r\u001b[K     |▎                               | 10 kB 19.5 MB/s eta 0:00:01\r\u001b[K     |▌                               | 20 kB 26.9 MB/s eta 0:00:01\r\u001b[K     |▊                               | 30 kB 27.9 MB/s eta 0:00:01\r\u001b[K     |█                               | 40 kB 19.4 MB/s eta 0:00:01\r\u001b[K     |█▏                              | 51 kB 9.9 MB/s eta 0:00:01\r\u001b[K     |█▍                              | 61 kB 8.3 MB/s eta 0:00:01\r\u001b[K     |█▋                              | 71 kB 9.2 MB/s eta 0:00:01\r\u001b[K     |██                              | 81 kB 10.2 MB/s eta 0:00:01\r\u001b[K     |██▏                             | 92 kB 8.2 MB/s eta 0:00:01\r\u001b[K     |██▍                             | 102 kB 8.8 MB/s eta 0:00:01\r\u001b[K     |██▋                             | 112 kB 8.8 MB/s eta 0:00:01\r\u001b[K     |██▉                             | 122 kB 8.8 MB/s eta 0:00:01\r\u001b[K     |███                             | 133 kB 8.8 MB/s eta 0:00:01\r\u001b[K     |███▎                            | 143 kB 8.8 MB/s eta 0:00:01\r\u001b[K     |███▌                            | 153 kB 8.8 MB/s eta 0:00:01\r\u001b[K     |███▉                            | 163 kB 8.8 MB/s eta 0:00:01\r\u001b[K     |████                            | 174 kB 8.8 MB/s eta 0:00:01\r\u001b[K     |████▎                           | 184 kB 8.8 MB/s eta 0:00:01\r\u001b[K     |████▌                           | 194 kB 8.8 MB/s eta 0:00:01\r\u001b[K     |████▊                           | 204 kB 8.8 MB/s eta 0:00:01\r\u001b[K     |█████                           | 215 kB 8.8 MB/s eta 0:00:01\r\u001b[K     |█████▏                          | 225 kB 8.8 MB/s eta 0:00:01\r\u001b[K     |█████▌                          | 235 kB 8.8 MB/s eta 0:00:01\r\u001b[K     |█████▊                          | 245 kB 8.8 MB/s eta 0:00:01\r\u001b[K     |██████                          | 256 kB 8.8 MB/s eta 0:00:01\r\u001b[K     |██████▏                         | 266 kB 8.8 MB/s eta 0:00:01\r\u001b[K     |██████▍                         | 276 kB 8.8 MB/s eta 0:00:01\r\u001b[K     |██████▋                         | 286 kB 8.8 MB/s eta 0:00:01\r\u001b[K     |██████▉                         | 296 kB 8.8 MB/s eta 0:00:01\r\u001b[K     |███████                         | 307 kB 8.8 MB/s eta 0:00:01\r\u001b[K     |███████▍                        | 317 kB 8.8 MB/s eta 0:00:01\r\u001b[K     |███████▋                        | 327 kB 8.8 MB/s eta 0:00:01\r\u001b[K     |███████▉                        | 337 kB 8.8 MB/s eta 0:00:01\r\u001b[K     |████████                        | 348 kB 8.8 MB/s eta 0:00:01\r\u001b[K     |████████▎                       | 358 kB 8.8 MB/s eta 0:00:01\r\u001b[K     |████████▌                       | 368 kB 8.8 MB/s eta 0:00:01\r\u001b[K     |████████▊                       | 378 kB 8.8 MB/s eta 0:00:01\r\u001b[K     |█████████                       | 389 kB 8.8 MB/s eta 0:00:01\r\u001b[K     |█████████▎                      | 399 kB 8.8 MB/s eta 0:00:01\r\u001b[K     |█████████▌                      | 409 kB 8.8 MB/s eta 0:00:01\r\u001b[K     |█████████▊                      | 419 kB 8.8 MB/s eta 0:00:01\r\u001b[K     |██████████                      | 430 kB 8.8 MB/s eta 0:00:01\r\u001b[K     |██████████▏                     | 440 kB 8.8 MB/s eta 0:00:01\r\u001b[K     |██████████▍                     | 450 kB 8.8 MB/s eta 0:00:01\r\u001b[K     |██████████▋                     | 460 kB 8.8 MB/s eta 0:00:01\r\u001b[K     |███████████                     | 471 kB 8.8 MB/s eta 0:00:01\r\u001b[K     |███████████▏                    | 481 kB 8.8 MB/s eta 0:00:01\r\u001b[K     |███████████▍                    | 491 kB 8.8 MB/s eta 0:00:01\r\u001b[K     |███████████▋                    | 501 kB 8.8 MB/s eta 0:00:01\r\u001b[K     |███████████▉                    | 512 kB 8.8 MB/s eta 0:00:01\r\u001b[K     |████████████                    | 522 kB 8.8 MB/s eta 0:00:01\r\u001b[K     |████████████▎                   | 532 kB 8.8 MB/s eta 0:00:01\r\u001b[K     |████████████▌                   | 542 kB 8.8 MB/s eta 0:00:01\r\u001b[K     |████████████▉                   | 552 kB 8.8 MB/s eta 0:00:01\r\u001b[K     |█████████████                   | 563 kB 8.8 MB/s eta 0:00:01\r\u001b[K     |█████████████▎                  | 573 kB 8.8 MB/s eta 0:00:01\r\u001b[K     |█████████████▌                  | 583 kB 8.8 MB/s eta 0:00:01\r\u001b[K     |█████████████▊                  | 593 kB 8.8 MB/s eta 0:00:01\r\u001b[K     |██████████████                  | 604 kB 8.8 MB/s eta 0:00:01\r\u001b[K     |██████████████▏                 | 614 kB 8.8 MB/s eta 0:00:01\r\u001b[K     |██████████████▌                 | 624 kB 8.8 MB/s eta 0:00:01\r\u001b[K     |██████████████▊                 | 634 kB 8.8 MB/s eta 0:00:01\r\u001b[K     |███████████████                 | 645 kB 8.8 MB/s eta 0:00:01\r\u001b[K     |███████████████▏                | 655 kB 8.8 MB/s eta 0:00:01\r\u001b[K     |███████████████▍                | 665 kB 8.8 MB/s eta 0:00:01\r\u001b[K     |███████████████▋                | 675 kB 8.8 MB/s eta 0:00:01\r\u001b[K     |███████████████▉                | 686 kB 8.8 MB/s eta 0:00:01\r\u001b[K     |████████████████                | 696 kB 8.8 MB/s eta 0:00:01\r\u001b[K     |████████████████▍               | 706 kB 8.8 MB/s eta 0:00:01\r\u001b[K     |████████████████▋               | 716 kB 8.8 MB/s eta 0:00:01\r\u001b[K     |████████████████▉               | 727 kB 8.8 MB/s eta 0:00:01\r\u001b[K     |█████████████████               | 737 kB 8.8 MB/s eta 0:00:01\r\u001b[K     |█████████████████▎              | 747 kB 8.8 MB/s eta 0:00:01\r\u001b[K     |█████████████████▌              | 757 kB 8.8 MB/s eta 0:00:01\r\u001b[K     |█████████████████▊              | 768 kB 8.8 MB/s eta 0:00:01\r\u001b[K     |██████████████████              | 778 kB 8.8 MB/s eta 0:00:01\r\u001b[K     |██████████████████▎             | 788 kB 8.8 MB/s eta 0:00:01\r\u001b[K     |██████████████████▌             | 798 kB 8.8 MB/s eta 0:00:01\r\u001b[K     |██████████████████▊             | 808 kB 8.8 MB/s eta 0:00:01\r\u001b[K     |███████████████████             | 819 kB 8.8 MB/s eta 0:00:01\r\u001b[K     |███████████████████▏            | 829 kB 8.8 MB/s eta 0:00:01\r\u001b[K     |███████████████████▍            | 839 kB 8.8 MB/s eta 0:00:01\r\u001b[K     |███████████████████▋            | 849 kB 8.8 MB/s eta 0:00:01\r\u001b[K     |████████████████████            | 860 kB 8.8 MB/s eta 0:00:01\r\u001b[K     |████████████████████▏           | 870 kB 8.8 MB/s eta 0:00:01\r\u001b[K     |████████████████████▍           | 880 kB 8.8 MB/s eta 0:00:01\r\u001b[K     |████████████████████▋           | 890 kB 8.8 MB/s eta 0:00:01\r\u001b[K     |████████████████████▉           | 901 kB 8.8 MB/s eta 0:00:01\r\u001b[K     |█████████████████████           | 911 kB 8.8 MB/s eta 0:00:01\r\u001b[K     |█████████████████████▎          | 921 kB 8.8 MB/s eta 0:00:01\r\u001b[K     |█████████████████████▌          | 931 kB 8.8 MB/s eta 0:00:01\r\u001b[K     |█████████████████████▉          | 942 kB 8.8 MB/s eta 0:00:01\r\u001b[K     |██████████████████████          | 952 kB 8.8 MB/s eta 0:00:01\r\u001b[K     |██████████████████████▎         | 962 kB 8.8 MB/s eta 0:00:01\r\u001b[K     |██████████████████████▌         | 972 kB 8.8 MB/s eta 0:00:01\r\u001b[K     |██████████████████████▊         | 983 kB 8.8 MB/s eta 0:00:01\r\u001b[K     |███████████████████████         | 993 kB 8.8 MB/s eta 0:00:01\r\u001b[K     |███████████████████████▏        | 1.0 MB 8.8 MB/s eta 0:00:01\r\u001b[K     |███████████████████████▍        | 1.0 MB 8.8 MB/s eta 0:00:01\r\u001b[K     |███████████████████████▊        | 1.0 MB 8.8 MB/s eta 0:00:01\r\u001b[K     |████████████████████████        | 1.0 MB 8.8 MB/s eta 0:00:01\r\u001b[K     |████████████████████████▏       | 1.0 MB 8.8 MB/s eta 0:00:01\r\u001b[K     |████████████████████████▍       | 1.1 MB 8.8 MB/s eta 0:00:01\r\u001b[K     |████████████████████████▋       | 1.1 MB 8.8 MB/s eta 0:00:01\r\u001b[K     |████████████████████████▉       | 1.1 MB 8.8 MB/s eta 0:00:01\r\u001b[K     |█████████████████████████       | 1.1 MB 8.8 MB/s eta 0:00:01\r\u001b[K     |█████████████████████████▍      | 1.1 MB 8.8 MB/s eta 0:00:01\r\u001b[K     |█████████████████████████▋      | 1.1 MB 8.8 MB/s eta 0:00:01\r\u001b[K     |█████████████████████████▉      | 1.1 MB 8.8 MB/s eta 0:00:01\r\u001b[K     |██████████████████████████      | 1.1 MB 8.8 MB/s eta 0:00:01\r\u001b[K     |██████████████████████████▎     | 1.1 MB 8.8 MB/s eta 0:00:01\r\u001b[K     |██████████████████████████▌     | 1.1 MB 8.8 MB/s eta 0:00:01\r\u001b[K     |██████████████████████████▊     | 1.2 MB 8.8 MB/s eta 0:00:01\r\u001b[K     |███████████████████████████     | 1.2 MB 8.8 MB/s eta 0:00:01\r\u001b[K     |███████████████████████████▎    | 1.2 MB 8.8 MB/s eta 0:00:01\r\u001b[K     |███████████████████████████▌    | 1.2 MB 8.8 MB/s eta 0:00:01\r\u001b[K     |███████████████████████████▊    | 1.2 MB 8.8 MB/s eta 0:00:01\r\u001b[K     |████████████████████████████    | 1.2 MB 8.8 MB/s eta 0:00:01\r\u001b[K     |████████████████████████████▏   | 1.2 MB 8.8 MB/s eta 0:00:01\r\u001b[K     |████████████████████████████▍   | 1.2 MB 8.8 MB/s eta 0:00:01\r\u001b[K     |████████████████████████████▋   | 1.2 MB 8.8 MB/s eta 0:00:01\r\u001b[K     |█████████████████████████████   | 1.2 MB 8.8 MB/s eta 0:00:01\r\u001b[K     |█████████████████████████████▏  | 1.3 MB 8.8 MB/s eta 0:00:01\r\u001b[K     |█████████████████████████████▍  | 1.3 MB 8.8 MB/s eta 0:00:01\r\u001b[K     |█████████████████████████████▋  | 1.3 MB 8.8 MB/s eta 0:00:01\r\u001b[K     |█████████████████████████████▉  | 1.3 MB 8.8 MB/s eta 0:00:01\r\u001b[K     |██████████████████████████████  | 1.3 MB 8.8 MB/s eta 0:00:01\r\u001b[K     |██████████████████████████████▎ | 1.3 MB 8.8 MB/s eta 0:00:01\r\u001b[K     |██████████████████████████████▌ | 1.3 MB 8.8 MB/s eta 0:00:01\r\u001b[K     |██████████████████████████████▉ | 1.3 MB 8.8 MB/s eta 0:00:01\r\u001b[K     |███████████████████████████████ | 1.3 MB 8.8 MB/s eta 0:00:01\r\u001b[K     |███████████████████████████████▎| 1.4 MB 8.8 MB/s eta 0:00:01\r\u001b[K     |███████████████████████████████▌| 1.4 MB 8.8 MB/s eta 0:00:01\r\u001b[K     |███████████████████████████████▊| 1.4 MB 8.8 MB/s eta 0:00:01\r\u001b[K     |████████████████████████████████| 1.4 MB 8.8 MB/s eta 0:00:01\r\u001b[K     |████████████████████████████████| 1.4 MB 8.8 MB/s \n",
            "\u001b[?25hRequirement already satisfied: joblib>=0.11 in /usr/local/lib/python3.7/dist-packages (from pmdarima) (1.0.1)\n",
            "Requirement already satisfied: pandas>=0.19 in /usr/local/lib/python3.7/dist-packages (from pmdarima) (1.1.5)\n",
            "Requirement already satisfied: numpy>=1.19.3 in /usr/local/lib/python3.7/dist-packages (from pmdarima) (1.19.5)\n",
            "Requirement already satisfied: setuptools!=50.0.0,>=38.6.0 in /usr/local/lib/python3.7/dist-packages (from pmdarima) (57.4.0)\n",
            "Collecting statsmodels!=0.12.0,>=0.11\n",
            "  Downloading statsmodels-0.13.0-cp37-cp37m-manylinux_2_17_x86_64.manylinux2014_x86_64.whl (9.8 MB)\n",
            "\u001b[K     |████████████████████████████████| 9.8 MB 38.0 MB/s \n",
            "\u001b[?25hRequirement already satisfied: urllib3 in /usr/local/lib/python3.7/dist-packages (from pmdarima) (1.24.3)\n",
            "Requirement already satisfied: scipy>=1.3.2 in /usr/local/lib/python3.7/dist-packages (from pmdarima) (1.4.1)\n",
            "Requirement already satisfied: Cython!=0.29.18,>=0.29 in /usr/local/lib/python3.7/dist-packages (from pmdarima) (0.29.24)\n",
            "Requirement already satisfied: scikit-learn>=0.22 in /usr/local/lib/python3.7/dist-packages (from pmdarima) (0.22.2.post1)\n",
            "Requirement already satisfied: python-dateutil>=2.7.3 in /usr/local/lib/python3.7/dist-packages (from pandas>=0.19->pmdarima) (2.8.2)\n",
            "Requirement already satisfied: pytz>=2017.2 in /usr/local/lib/python3.7/dist-packages (from pandas>=0.19->pmdarima) (2018.9)\n",
            "Requirement already satisfied: six>=1.5 in /usr/local/lib/python3.7/dist-packages (from python-dateutil>=2.7.3->pandas>=0.19->pmdarima) (1.15.0)\n",
            "Requirement already satisfied: patsy>=0.5.2 in /usr/local/lib/python3.7/dist-packages (from statsmodels!=0.12.0,>=0.11->pmdarima) (0.5.2)\n",
            "Installing collected packages: statsmodels, pmdarima\n",
            "  Attempting uninstall: statsmodels\n",
            "    Found existing installation: statsmodels 0.10.2\n",
            "    Uninstalling statsmodels-0.10.2:\n",
            "      Successfully uninstalled statsmodels-0.10.2\n",
            "Successfully installed pmdarima-1.8.3 statsmodels-0.13.0\n"
          ]
        },
        {
          "output_type": "display_data",
          "data": {
            "application/vnd.colab-display-data+json": {
              "pip_warning": {
                "packages": [
                  "statsmodels"
                ]
              }
            }
          },
          "metadata": {}
        }
      ]
    },
    {
      "cell_type": "code",
      "metadata": {
        "id": "V40J38blZ2g1"
      },
      "source": [
        "import pmdarima as pmd\n",
        "\n",
        "def arimamodel(timeseriesarray):\n",
        "    autoarima_model = pmd.auto_arima(timeseriesarray, \n",
        "                              start_p=1, \n",
        "                              start_q=1,\n",
        "                              test=\"adf\",\n",
        "                              trace=True)\n",
        "    return autoarima_model"
      ],
      "execution_count": null,
      "outputs": []
    },
    {
      "cell_type": "code",
      "metadata": {
        "id": "yPPh9Mo_Z2k9",
        "colab": {
          "base_uri": "https://localhost:8080/",
          "height": 926
        },
        "outputId": "9e0aaec8-d8ac-46de-c5a9-53cef8897a8b"
      },
      "source": [
        "arima_model = arimamodel(RPP2['CloseUSD_log_diff'].dropna())\n",
        "arima_model.summary()"
      ],
      "execution_count": null,
      "outputs": [
        {
          "output_type": "stream",
          "name": "stdout",
          "text": [
            "Performing stepwise search to minimize aic\n",
            " ARIMA(1,0,1)(0,0,0)[0] intercept   : AIC=-1697.706, Time=0.49 sec\n",
            " ARIMA(0,0,0)(0,0,0)[0] intercept   : AIC=-1673.430, Time=0.11 sec\n",
            " ARIMA(1,0,0)(0,0,0)[0] intercept   : AIC=-1693.007, Time=0.03 sec\n",
            " ARIMA(0,0,1)(0,0,0)[0] intercept   : AIC=-1685.858, Time=0.15 sec\n",
            " ARIMA(0,0,0)(0,0,0)[0]             : AIC=-1675.262, Time=0.03 sec\n",
            " ARIMA(2,0,1)(0,0,0)[0] intercept   : AIC=-1706.530, Time=0.61 sec\n",
            " ARIMA(2,0,0)(0,0,0)[0] intercept   : AIC=-1707.184, Time=0.20 sec\n",
            " ARIMA(3,0,0)(0,0,0)[0] intercept   : AIC=-1708.399, Time=0.12 sec\n",
            " ARIMA(4,0,0)(0,0,0)[0] intercept   : AIC=-1715.689, Time=0.10 sec\n",
            " ARIMA(5,0,0)(0,0,0)[0] intercept   : AIC=-1718.289, Time=0.42 sec\n",
            " ARIMA(5,0,1)(0,0,0)[0] intercept   : AIC=-1738.521, Time=1.18 sec\n",
            " ARIMA(4,0,1)(0,0,0)[0] intercept   : AIC=-1737.924, Time=0.87 sec\n",
            " ARIMA(5,0,2)(0,0,0)[0] intercept   : AIC=-1732.126, Time=1.40 sec\n",
            " ARIMA(4,0,2)(0,0,0)[0] intercept   : AIC=-1736.085, Time=1.09 sec\n",
            " ARIMA(5,0,1)(0,0,0)[0]             : AIC=-1740.740, Time=0.61 sec\n",
            " ARIMA(4,0,1)(0,0,0)[0]             : AIC=-1742.985, Time=0.46 sec\n",
            " ARIMA(3,0,1)(0,0,0)[0]             : AIC=-1742.602, Time=0.35 sec\n",
            " ARIMA(4,0,0)(0,0,0)[0]             : AIC=-1717.482, Time=0.12 sec\n",
            " ARIMA(4,0,2)(0,0,0)[0]             : AIC=-1738.882, Time=0.57 sec\n",
            " ARIMA(3,0,0)(0,0,0)[0]             : AIC=-1710.253, Time=0.14 sec\n",
            " ARIMA(3,0,2)(0,0,0)[0]             : AIC=inf, Time=0.58 sec\n",
            " ARIMA(5,0,0)(0,0,0)[0]             : AIC=-1720.128, Time=0.15 sec\n",
            " ARIMA(5,0,2)(0,0,0)[0]             : AIC=-1737.334, Time=0.80 sec\n",
            "\n",
            "Best model:  ARIMA(4,0,1)(0,0,0)[0]          \n",
            "Total fit time: 10.642 seconds\n"
          ]
        },
        {
          "output_type": "execute_result",
          "data": {
            "text/html": [
              "<table class=\"simpletable\">\n",
              "<caption>Statespace Model Results</caption>\n",
              "<tr>\n",
              "  <th>Dep. Variable:</th>           <td>y</td>        <th>  No. Observations:  </th>    <td>334</td>   \n",
              "</tr>\n",
              "<tr>\n",
              "  <th>Model:</th>           <td>SARIMAX(4, 0, 1)</td> <th>  Log Likelihood     </th>  <td>877.493</td> \n",
              "</tr>\n",
              "<tr>\n",
              "  <th>Date:</th>            <td>Mon, 18 Oct 2021</td> <th>  AIC                </th> <td>-1742.985</td>\n",
              "</tr>\n",
              "<tr>\n",
              "  <th>Time:</th>                <td>19:48:57</td>     <th>  BIC                </th> <td>-1720.119</td>\n",
              "</tr>\n",
              "<tr>\n",
              "  <th>Sample:</th>                  <td>0</td>        <th>  HQIC               </th> <td>-1733.868</td>\n",
              "</tr>\n",
              "<tr>\n",
              "  <th></th>                      <td> - 334</td>      <th>                     </th>     <td> </td>    \n",
              "</tr>\n",
              "<tr>\n",
              "  <th>Covariance Type:</th>        <td>opg</td>       <th>                     </th>     <td> </td>    \n",
              "</tr>\n",
              "</table>\n",
              "<table class=\"simpletable\">\n",
              "<tr>\n",
              "     <td></td>       <th>coef</th>     <th>std err</th>      <th>z</th>      <th>P>|z|</th>  <th>[0.025</th>    <th>0.975]</th>  \n",
              "</tr>\n",
              "<tr>\n",
              "  <th>ar.L1</th>  <td>   -0.9760</td> <td>    0.045</td> <td>  -21.719</td> <td> 0.000</td> <td>   -1.064</td> <td>   -0.888</td>\n",
              "</tr>\n",
              "<tr>\n",
              "  <th>ar.L2</th>  <td>    0.1077</td> <td>    0.046</td> <td>    2.331</td> <td> 0.020</td> <td>    0.017</td> <td>    0.198</td>\n",
              "</tr>\n",
              "<tr>\n",
              "  <th>ar.L3</th>  <td>    0.2467</td> <td>    0.043</td> <td>    5.708</td> <td> 0.000</td> <td>    0.162</td> <td>    0.331</td>\n",
              "</tr>\n",
              "<tr>\n",
              "  <th>ar.L4</th>  <td>   -0.1034</td> <td>    0.038</td> <td>   -2.704</td> <td> 0.007</td> <td>   -0.178</td> <td>   -0.028</td>\n",
              "</tr>\n",
              "<tr>\n",
              "  <th>ma.L1</th>  <td>    0.8671</td> <td>    0.033</td> <td>   26.134</td> <td> 0.000</td> <td>    0.802</td> <td>    0.932</td>\n",
              "</tr>\n",
              "<tr>\n",
              "  <th>sigma2</th> <td>    0.0003</td> <td> 1.14e-05</td> <td>   26.629</td> <td> 0.000</td> <td>    0.000</td> <td>    0.000</td>\n",
              "</tr>\n",
              "</table>\n",
              "<table class=\"simpletable\">\n",
              "<tr>\n",
              "  <th>Ljung-Box (Q):</th>          <td>39.24</td> <th>  Jarque-Bera (JB):  </th> <td>1015.65</td>\n",
              "</tr>\n",
              "<tr>\n",
              "  <th>Prob(Q):</th>                <td>0.50</td>  <th>  Prob(JB):          </th>  <td>0.00</td>  \n",
              "</tr>\n",
              "<tr>\n",
              "  <th>Heteroskedasticity (H):</th> <td>0.11</td>  <th>  Skew:              </th>  <td>-0.89</td> \n",
              "</tr>\n",
              "<tr>\n",
              "  <th>Prob(H) (two-sided):</th>    <td>0.00</td>  <th>  Kurtosis:          </th>  <td>11.35</td> \n",
              "</tr>\n",
              "</table><br/><br/>Warnings:<br/>[1] Covariance matrix calculated using the outer product of gradients (complex-step)."
            ],
            "text/plain": [
              "<class 'statsmodels.iolib.summary.Summary'>\n",
              "\"\"\"\n",
              "                           Statespace Model Results                           \n",
              "==============================================================================\n",
              "Dep. Variable:                      y   No. Observations:                  334\n",
              "Model:               SARIMAX(4, 0, 1)   Log Likelihood                 877.493\n",
              "Date:                Mon, 18 Oct 2021   AIC                          -1742.985\n",
              "Time:                        19:48:57   BIC                          -1720.119\n",
              "Sample:                             0   HQIC                         -1733.868\n",
              "                                - 334                                         \n",
              "Covariance Type:                  opg                                         \n",
              "==============================================================================\n",
              "                 coef    std err          z      P>|z|      [0.025      0.975]\n",
              "------------------------------------------------------------------------------\n",
              "ar.L1         -0.9760      0.045    -21.719      0.000      -1.064      -0.888\n",
              "ar.L2          0.1077      0.046      2.331      0.020       0.017       0.198\n",
              "ar.L3          0.2467      0.043      5.708      0.000       0.162       0.331\n",
              "ar.L4         -0.1034      0.038     -2.704      0.007      -0.178      -0.028\n",
              "ma.L1          0.8671      0.033     26.134      0.000       0.802       0.932\n",
              "sigma2         0.0003   1.14e-05     26.629      0.000       0.000       0.000\n",
              "===================================================================================\n",
              "Ljung-Box (Q):                       39.24   Jarque-Bera (JB):              1015.65\n",
              "Prob(Q):                              0.50   Prob(JB):                         0.00\n",
              "Heteroskedasticity (H):               0.11   Skew:                            -0.89\n",
              "Prob(H) (two-sided):                  0.00   Kurtosis:                        11.35\n",
              "===================================================================================\n",
              "\n",
              "Warnings:\n",
              "[1] Covariance matrix calculated using the outer product of gradients (complex-step).\n",
              "\"\"\""
            ]
          },
          "metadata": {},
          "execution_count": 73
        }
      ]
    },
    {
      "cell_type": "markdown",
      "metadata": {
        "id": "39ckHyl4TN66"
      },
      "source": [
        "### **Métrica de Evaluación**: \n",
        "**AIC** son las siglas de Akaike Information Criterion, que estima la cantidad relativa de información perdida por un modelo dado. En términos simples, se prefiere un valor de AIC más bajo."
      ]
    },
    {
      "cell_type": "markdown",
      "metadata": {
        "id": "k9kv5BoJzOpB"
      },
      "source": [
        "En el resultado anterior, se obtuvo el valor AIC más bajo de -1742.985 para el modelo ARIMA (4, 0, 1), y que se utiliza como estimador final."
      ]
    },
    {
      "cell_type": "markdown",
      "metadata": {
        "id": "i5naeb5YBvBq"
      },
      "source": [
        "## **Supuestos de ruido blanco**"
      ]
    },
    {
      "cell_type": "code",
      "metadata": {
        "id": "4mg-CIRyB6c-"
      },
      "source": [
        "res=arima_model.resid()"
      ],
      "execution_count": null,
      "outputs": []
    },
    {
      "cell_type": "markdown",
      "metadata": {
        "id": "i4rk1zQLCAzb"
      },
      "source": [
        "### **Media**"
      ]
    },
    {
      "cell_type": "code",
      "metadata": {
        "id": "lDdJL4xBCUpA",
        "colab": {
          "base_uri": "https://localhost:8080/"
        },
        "outputId": "0f207a7a-7695-4acd-8543-bbdf1d34c174"
      },
      "source": [
        "res.mean()"
      ],
      "execution_count": null,
      "outputs": [
        {
          "output_type": "execute_result",
          "data": {
            "text/plain": [
              "0.0003994843900470599"
            ]
          },
          "metadata": {},
          "execution_count": 75
        }
      ]
    },
    {
      "cell_type": "markdown",
      "metadata": {
        "id": "jRU96gbfCcIa"
      },
      "source": [
        "Cumple con el supuesto de media cero"
      ]
    },
    {
      "cell_type": "markdown",
      "metadata": {
        "id": "N5YmxG41CGV-"
      },
      "source": [
        "### **Varianza**"
      ]
    },
    {
      "cell_type": "code",
      "metadata": {
        "id": "TcHBxGpbCVWy",
        "colab": {
          "base_uri": "https://localhost:8080/",
          "height": 282
        },
        "outputId": "4441bf78-0f59-41d3-814c-cd8e9e1dee9a"
      },
      "source": [
        "plt.scatter(RPP2_c.Date,res)\n",
        "plt.axhline(color=\"black\")"
      ],
      "execution_count": null,
      "outputs": [
        {
          "output_type": "execute_result",
          "data": {
            "text/plain": [
              "<matplotlib.lines.Line2D at 0x7fc28f13c890>"
            ]
          },
          "metadata": {},
          "execution_count": 76
        },
        {
          "output_type": "display_data",
          "data": {
            "image/png": "[encoded data removed]",
            "text/plain": [
              "<Figure size 432x288 with 1 Axes>"
            ]
          },
          "metadata": {
            "needs_background": "light"
          }
        }
      ]
    },
    {
      "cell_type": "markdown",
      "metadata": {
        "id": "BR8-Y0MECtx2"
      },
      "source": [
        "Sin patrones visibles en los residuales"
      ]
    },
    {
      "cell_type": "markdown",
      "metadata": {
        "id": "5UJqn2yHCG01"
      },
      "source": [
        "### **Independencia**"
      ]
    },
    {
      "cell_type": "code",
      "metadata": {
        "id": "ZTBw8PFuCWGr",
        "colab": {
          "base_uri": "https://localhost:8080/",
          "height": 612
        },
        "outputId": "e87a3f49-a1a4-4917-f6d8-f7bf0d5ae613"
      },
      "source": [
        "pmd.plot_acf(res)\n",
        "pmd.plot_pacf(res)\n",
        "sm.stats.acorr_ljungbox(res,lags=1,boxpierce=True)"
      ],
      "execution_count": null,
      "outputs": [
        {
          "output_type": "display_data",
          "data": {
            "image/png": "[encoded data removed]",
            "text/plain": [
              "<Figure size 432x288 with 1 Axes>"
            ]
          },
          "metadata": {
            "needs_background": "light"
          }
        },
        {
          "output_type": "display_data",
          "data": {
            "image/png": "[encoded data removed]",
            "text/plain": [
              "<Figure size 432x288 with 1 Axes>"
            ]
          },
          "metadata": {
            "needs_background": "light"
          }
        },
        {
          "output_type": "execute_result",
          "data": {
            "text/plain": [
              "(array([0.00888836]),\n",
              " array([0.92488827]),\n",
              " array([0.00880899]),\n",
              " array([0.92522335]))"
            ]
          },
          "metadata": {},
          "execution_count": 77
        }
      ]
    },
    {
      "cell_type": "markdown",
      "metadata": {
        "id": "aBhD2zJJCzFr"
      },
      "source": [
        "#### Prueba de hipótesis\n",
        "H0: residuales independientes\n",
        "\n",
        "H1: residuales relacionados\n",
        "\n",
        "Criterio: Rechazamos H0 si p-valor<alfa(0.05)\n",
        "\n",
        "P-valor=0.925223>0.05, con un 95% de confianza no rechazamos H0\n",
        "\n",
        "**Los residuales son independientes**\n",
        "\n",
        "**Hasta aquí cumple con Ruido blanco** "
      ]
    },
    {
      "cell_type": "markdown",
      "metadata": {
        "id": "Y_gRrDM1CHSF"
      },
      "source": [
        "### **Normalidad**"
      ]
    },
    {
      "cell_type": "code",
      "metadata": {
        "id": "HLNJLOWeCWo1",
        "colab": {
          "base_uri": "https://localhost:8080/"
        },
        "outputId": "4a8cd937-4c23-4f23-9cc6-ba14cc9a2dc9"
      },
      "source": [
        "stats.shapiro(res)"
      ],
      "execution_count": null,
      "outputs": [
        {
          "output_type": "execute_result",
          "data": {
            "text/plain": [
              "(0.8750771284103394, 8.108184771109164e-16)"
            ]
          },
          "metadata": {},
          "execution_count": 78
        }
      ]
    },
    {
      "cell_type": "markdown",
      "metadata": {
        "id": "-MXY-pkzDKiE"
      },
      "source": [
        "#### Prueba de hipótesis\n",
        "H0: los residuales provienen de una distribución normal\n",
        "\n",
        "H1: los residuales provienen de alguna otra distribución\n",
        "\n",
        "Criterio: Rechazamos H0 si p-valor<alfa(0.05)\n",
        "\n",
        "P-valor=8.108216005449094e-16<0.05, con un 95% de confianza rechazamos H0\n",
        "\n",
        "**Los residuales no cumplen normalidad, Ruido blanco no gaussiano**"
      ]
    },
    {
      "cell_type": "markdown",
      "metadata": {
        "id": "TAkoS9-bB3A4"
      },
      "source": [
        "## **Predicciones de NYA**"
      ]
    },
    {
      "cell_type": "code",
      "metadata": {
        "id": "x39Bt1iq5tRu",
        "colab": {
          "base_uri": "https://localhost:8080/",
          "height": 722
        },
        "outputId": "fd8e98b3-fd27-45ea-f4fd-a0f22450672d"
      },
      "source": [
        "from statsmodels.tsa.statespace.sarimax import SARIMAX\n",
        "modelo=SARIMAX(RPP2[\"CloseUSD\"],order=(4,1,1))\n",
        "result=modelo.fit()\n",
        "forecast = result.predict(start = len(RPP2),end = (len(RPP2)-1) + 3 * 7,typ = 'levels').rename('Predicciones NYA')\n",
        "\n",
        "#RPP2[\"CloseUSD\"].plot(figsize = (12, 5), legend = True)\n",
        "forecast.plot(legend = True)\n",
        "forecast"
      ],
      "execution_count": null,
      "outputs": [
        {
          "output_type": "stream",
          "name": "stderr",
          "text": [
            "/usr/local/lib/python3.7/dist-packages/statsmodels/tsa/base/tsa_model.py:219: ValueWarning: A date index has been provided, but it has no associated frequency information and so will be ignored when e.g. forecasting.\n",
            "  The location of the key\n",
            "/usr/local/lib/python3.7/dist-packages/statsmodels/tsa/base/tsa_model.py:576: ValueWarning: No supported index is available. Prediction results will be given with an integer index beginning at `start`.\n",
            "  \n"
          ]
        },
        {
          "output_type": "execute_result",
          "data": {
            "text/plain": [
              "335    16183.503431\n",
              "336    16216.452116\n",
              "337    16139.208927\n",
              "338    16222.524441\n",
              "339    16140.205769\n",
              "340    16211.742890\n",
              "341    16155.507049\n",
              "342    16194.953716\n",
              "343    16171.474369\n",
              "344    16181.366529\n",
              "345    16181.917831\n",
              "346    16174.255764\n",
              "347    16185.944588\n",
              "348    16172.798442\n",
              "349    16185.473912\n",
              "350    16174.540741\n",
              "351    16183.053200\n",
              "352    16177.156446\n",
              "353    16180.596380\n",
              "354    16179.229093\n",
              "355    16179.019646\n",
              "Name: Predicciones NYA, dtype: float64"
            ]
          },
          "metadata": {},
          "execution_count": 116
        },
        {
          "output_type": "display_data",
          "data": {
            "image/png": "[encoded data removed]",
            "text/plain": [
              "<Figure size 432x288 with 1 Axes>"
            ]
          },
          "metadata": {
            "needs_background": "light"
          }
        }
      ]
    },
    {
      "cell_type": "markdown",
      "metadata": {
        "id": "V_hwgtdntyTE"
      },
      "source": [
        "## HSI"
      ]
    },
    {
      "cell_type": "code",
      "metadata": {
        "colab": {
          "base_uri": "https://localhost:8080/",
          "height": 234
        },
        "id": "-0fiyCMAvEhO",
        "outputId": "bb25a957-fcc8-4081-9444-c361345970a3"
      },
      "source": [
        "NHSI=NNIP[NNIP.Index==\"HSI\"]\n",
        "NHSI.head(5)"
      ],
      "execution_count": null,
      "outputs": [
        {
          "output_type": "execute_result",
          "data": {
            "text/html": [
              "<div>\n",
              "<style scoped>\n",
              "    .dataframe tbody tr th:only-of-type {\n",
              "        vertical-align: middle;\n",
              "    }\n",
              "\n",
              "    .dataframe tbody tr th {\n",
              "        vertical-align: top;\n",
              "    }\n",
              "\n",
              "    .dataframe thead th {\n",
              "        text-align: right;\n",
              "    }\n",
              "</style>\n",
              "<table border=\"1\" class=\"dataframe\">\n",
              "  <thead>\n",
              "    <tr style=\"text-align: right;\">\n",
              "      <th></th>\n",
              "      <th>Index</th>\n",
              "      <th>Open</th>\n",
              "      <th>High</th>\n",
              "      <th>Low</th>\n",
              "      <th>Close</th>\n",
              "      <th>Adj Close</th>\n",
              "      <th>Volume</th>\n",
              "      <th>CloseUSD</th>\n",
              "    </tr>\n",
              "    <tr>\n",
              "      <th>Date</th>\n",
              "      <th></th>\n",
              "      <th></th>\n",
              "      <th></th>\n",
              "      <th></th>\n",
              "      <th></th>\n",
              "      <th></th>\n",
              "      <th></th>\n",
              "      <th></th>\n",
              "    </tr>\n",
              "  </thead>\n",
              "  <tbody>\n",
              "    <tr>\n",
              "      <th>1986-12-31</th>\n",
              "      <td>HSI</td>\n",
              "      <td>2568.300049</td>\n",
              "      <td>2568.300049</td>\n",
              "      <td>2568.300049</td>\n",
              "      <td>2568.300049</td>\n",
              "      <td>2568.300049</td>\n",
              "      <td>0.0</td>\n",
              "      <td>333.879006</td>\n",
              "    </tr>\n",
              "    <tr>\n",
              "      <th>1987-01-02</th>\n",
              "      <td>HSI</td>\n",
              "      <td>2540.100098</td>\n",
              "      <td>2540.100098</td>\n",
              "      <td>2540.100098</td>\n",
              "      <td>2540.100098</td>\n",
              "      <td>2540.100098</td>\n",
              "      <td>0.0</td>\n",
              "      <td>330.213013</td>\n",
              "    </tr>\n",
              "    <tr>\n",
              "      <th>1987-01-05</th>\n",
              "      <td>HSI</td>\n",
              "      <td>2552.399902</td>\n",
              "      <td>2552.399902</td>\n",
              "      <td>2552.399902</td>\n",
              "      <td>2552.399902</td>\n",
              "      <td>2552.399902</td>\n",
              "      <td>0.0</td>\n",
              "      <td>331.811987</td>\n",
              "    </tr>\n",
              "    <tr>\n",
              "      <th>1987-01-06</th>\n",
              "      <td>HSI</td>\n",
              "      <td>2583.899902</td>\n",
              "      <td>2583.899902</td>\n",
              "      <td>2583.899902</td>\n",
              "      <td>2583.899902</td>\n",
              "      <td>2583.899902</td>\n",
              "      <td>0.0</td>\n",
              "      <td>335.906987</td>\n",
              "    </tr>\n",
              "    <tr>\n",
              "      <th>1987-01-07</th>\n",
              "      <td>HSI</td>\n",
              "      <td>2607.100098</td>\n",
              "      <td>2607.100098</td>\n",
              "      <td>2607.100098</td>\n",
              "      <td>2607.100098</td>\n",
              "      <td>2607.100098</td>\n",
              "      <td>0.0</td>\n",
              "      <td>338.923013</td>\n",
              "    </tr>\n",
              "  </tbody>\n",
              "</table>\n",
              "</div>"
            ],
            "text/plain": [
              "           Index         Open         High  ...    Adj Close  Volume    CloseUSD\n",
              "Date                                        ...                                 \n",
              "1986-12-31   HSI  2568.300049  2568.300049  ...  2568.300049     0.0  333.879006\n",
              "1987-01-02   HSI  2540.100098  2540.100098  ...  2540.100098     0.0  330.213013\n",
              "1987-01-05   HSI  2552.399902  2552.399902  ...  2552.399902     0.0  331.811987\n",
              "1987-01-06   HSI  2583.899902  2583.899902  ...  2583.899902     0.0  335.906987\n",
              "1987-01-07   HSI  2607.100098  2607.100098  ...  2607.100098     0.0  338.923013\n",
              "\n",
              "[5 rows x 8 columns]"
            ]
          },
          "metadata": {},
          "execution_count": 80
        }
      ]
    },
    {
      "cell_type": "code",
      "metadata": {
        "colab": {
          "base_uri": "https://localhost:8080/",
          "height": 265
        },
        "id": "JWmL1E6IvEpT",
        "outputId": "f0368b6f-5af2-48fa-8156-f700d5d065bd"
      },
      "source": [
        "EHSI=NHSI.drop(columns=['Open','High','Low','Close','Adj Close','Volume'])\n",
        "EHSI.head(6)"
      ],
      "execution_count": null,
      "outputs": [
        {
          "output_type": "execute_result",
          "data": {
            "text/html": [
              "<div>\n",
              "<style scoped>\n",
              "    .dataframe tbody tr th:only-of-type {\n",
              "        vertical-align: middle;\n",
              "    }\n",
              "\n",
              "    .dataframe tbody tr th {\n",
              "        vertical-align: top;\n",
              "    }\n",
              "\n",
              "    .dataframe thead th {\n",
              "        text-align: right;\n",
              "    }\n",
              "</style>\n",
              "<table border=\"1\" class=\"dataframe\">\n",
              "  <thead>\n",
              "    <tr style=\"text-align: right;\">\n",
              "      <th></th>\n",
              "      <th>Index</th>\n",
              "      <th>CloseUSD</th>\n",
              "    </tr>\n",
              "    <tr>\n",
              "      <th>Date</th>\n",
              "      <th></th>\n",
              "      <th></th>\n",
              "    </tr>\n",
              "  </thead>\n",
              "  <tbody>\n",
              "    <tr>\n",
              "      <th>1986-12-31</th>\n",
              "      <td>HSI</td>\n",
              "      <td>333.879006</td>\n",
              "    </tr>\n",
              "    <tr>\n",
              "      <th>1987-01-02</th>\n",
              "      <td>HSI</td>\n",
              "      <td>330.213013</td>\n",
              "    </tr>\n",
              "    <tr>\n",
              "      <th>1987-01-05</th>\n",
              "      <td>HSI</td>\n",
              "      <td>331.811987</td>\n",
              "    </tr>\n",
              "    <tr>\n",
              "      <th>1987-01-06</th>\n",
              "      <td>HSI</td>\n",
              "      <td>335.906987</td>\n",
              "    </tr>\n",
              "    <tr>\n",
              "      <th>1987-01-07</th>\n",
              "      <td>HSI</td>\n",
              "      <td>338.923013</td>\n",
              "    </tr>\n",
              "    <tr>\n",
              "      <th>1987-01-08</th>\n",
              "      <td>HSI</td>\n",
              "      <td>338.429006</td>\n",
              "    </tr>\n",
              "  </tbody>\n",
              "</table>\n",
              "</div>"
            ],
            "text/plain": [
              "           Index    CloseUSD\n",
              "Date                        \n",
              "1986-12-31   HSI  333.879006\n",
              "1987-01-02   HSI  330.213013\n",
              "1987-01-05   HSI  331.811987\n",
              "1987-01-06   HSI  335.906987\n",
              "1987-01-07   HSI  338.923013\n",
              "1987-01-08   HSI  338.429006"
            ]
          },
          "metadata": {},
          "execution_count": 81
        }
      ]
    },
    {
      "cell_type": "code",
      "metadata": {
        "colab": {
          "base_uri": "https://localhost:8080/",
          "height": 234
        },
        "id": "sqP4LrhAvEyT",
        "outputId": "d5d86aea-425d-480c-ba64-660264c2dcf1"
      },
      "source": [
        "HPP = EHSI['2020-01-01':'2021-05-01']\n",
        "HPP.head()"
      ],
      "execution_count": null,
      "outputs": [
        {
          "output_type": "execute_result",
          "data": {
            "text/html": [
              "<div>\n",
              "<style scoped>\n",
              "    .dataframe tbody tr th:only-of-type {\n",
              "        vertical-align: middle;\n",
              "    }\n",
              "\n",
              "    .dataframe tbody tr th {\n",
              "        vertical-align: top;\n",
              "    }\n",
              "\n",
              "    .dataframe thead th {\n",
              "        text-align: right;\n",
              "    }\n",
              "</style>\n",
              "<table border=\"1\" class=\"dataframe\">\n",
              "  <thead>\n",
              "    <tr style=\"text-align: right;\">\n",
              "      <th></th>\n",
              "      <th>Index</th>\n",
              "      <th>CloseUSD</th>\n",
              "    </tr>\n",
              "    <tr>\n",
              "      <th>Date</th>\n",
              "      <th></th>\n",
              "      <th></th>\n",
              "    </tr>\n",
              "  </thead>\n",
              "  <tbody>\n",
              "    <tr>\n",
              "      <th>2020-01-02</th>\n",
              "      <td>HSI</td>\n",
              "      <td>3710.657539</td>\n",
              "    </tr>\n",
              "    <tr>\n",
              "      <th>2020-01-03</th>\n",
              "      <td>HSI</td>\n",
              "      <td>3698.695000</td>\n",
              "    </tr>\n",
              "    <tr>\n",
              "      <th>2020-01-06</th>\n",
              "      <td>HSI</td>\n",
              "      <td>3669.404628</td>\n",
              "    </tr>\n",
              "    <tr>\n",
              "      <th>2020-01-07</th>\n",
              "      <td>HSI</td>\n",
              "      <td>3681.867872</td>\n",
              "    </tr>\n",
              "    <tr>\n",
              "      <th>2020-01-08</th>\n",
              "      <td>HSI</td>\n",
              "      <td>3651.429590</td>\n",
              "    </tr>\n",
              "  </tbody>\n",
              "</table>\n",
              "</div>"
            ],
            "text/plain": [
              "           Index     CloseUSD\n",
              "Date                         \n",
              "2020-01-02   HSI  3710.657539\n",
              "2020-01-03   HSI  3698.695000\n",
              "2020-01-06   HSI  3669.404628\n",
              "2020-01-07   HSI  3681.867872\n",
              "2020-01-08   HSI  3651.429590"
            ]
          },
          "metadata": {},
          "execution_count": 82
        }
      ]
    },
    {
      "cell_type": "markdown",
      "metadata": {
        "id": "m1yZ2P73vyaD"
      },
      "source": [
        "### Revisando estacionariedad en media"
      ]
    },
    {
      "cell_type": "code",
      "metadata": {
        "colab": {
          "base_uri": "https://localhost:8080/"
        },
        "id": "JS3LPu_ov7PU",
        "outputId": "abe262af-7aef-4d7f-81dd-a1f1b215acf3"
      },
      "source": [
        "import matplotlib.pyplot as plt\n",
        "x = np.arange(HPP.reset_index()['Date'].size)\n",
        "fit = np.polyfit(x, HPP['CloseUSD'], deg=1)\n",
        "print (\"Slope : \" + str(fit[0]))\n",
        "print (\"Intercept : \" + str(fit[1]))"
      ],
      "execution_count": null,
      "outputs": [
        {
          "output_type": "stream",
          "name": "stdout",
          "text": [
            "Slope : 1.46377204742463\n",
            "Intercept : 3168.2959959634527\n"
          ]
        }
      ]
    },
    {
      "cell_type": "code",
      "metadata": {
        "colab": {
          "base_uri": "https://localhost:8080/",
          "height": 295
        },
        "id": "YyfBVI6zwAAk",
        "outputId": "a25efc17-3a8b-459e-acfd-cff887f1f8ca"
      },
      "source": [
        "fit_function = np.poly1d(fit)\n",
        "plt.plot(HPP.reset_index()['Date'], fit_function(x))\n",
        "plt.plot(HPP.reset_index()['Date'], HPP['CloseUSD'])\n",
        "\n",
        "plt.xlabel('Fecha')\n",
        "plt.ylabel('CloseUSD')\n",
        "plt.title('HSI')\n",
        "plt.show()"
      ],
      "execution_count": null,
      "outputs": [
        {
          "output_type": "display_data",
          "data": {
            "image/png": "[encoded data removed]",
            "text/plain": [
              "<Figure size 432x288 with 1 Axes>"
            ]
          },
          "metadata": {
            "needs_background": "light"
          }
        }
      ]
    },
    {
      "cell_type": "markdown",
      "metadata": {
        "id": "a9984GgawWCT"
      },
      "source": [
        "Visualmente parece que se tiene tendencia lineal"
      ]
    },
    {
      "cell_type": "code",
      "metadata": {
        "colab": {
          "base_uri": "https://localhost:8080/"
        },
        "id": "-bjYIzFHwaVX",
        "outputId": "dc6652f4-ce96-4834-87b3-b4d234131aaa"
      },
      "source": [
        "from sklearn import datasets, linear_model\n",
        "from sklearn.linear_model import LinearRegression\n",
        "import statsmodels.api as sm\n",
        "from scipy import stats\n",
        "\n",
        "X2 = np.arange(HPP.reset_index()['Date'].size).reshape(-1, 1)\n",
        "y2 = HPP['CloseUSD']\n",
        "X3 = sm.add_constant(X2)\n",
        "est2 = sm.OLS(y2, X3)\n",
        "est3 = est2.fit()\n",
        "print(est3.summary())"
      ],
      "execution_count": null,
      "outputs": [
        {
          "output_type": "stream",
          "name": "stdout",
          "text": [
            "                            OLS Regression Results                            \n",
            "==============================================================================\n",
            "Dep. Variable:               CloseUSD   R-squared:                       0.258\n",
            "Model:                            OLS   Adj. R-squared:                  0.255\n",
            "Method:                 Least Squares   F-statistic:                     113.2\n",
            "Date:                Mon, 18 Oct 2021   Prob (F-statistic):           6.93e-23\n",
            "Time:                        19:49:44   Log-Likelihood:                -2256.5\n",
            "No. Observations:                 328   AIC:                             4517.\n",
            "Df Residuals:                     326   BIC:                             4525.\n",
            "Df Model:                           1                                         \n",
            "Covariance Type:            nonrobust                                         \n",
            "==============================================================================\n",
            "                 coef    std err          t      P>|t|      [0.025      0.975]\n",
            "------------------------------------------------------------------------------\n",
            "const       3168.2960     25.997    121.871      0.000    3117.153    3219.439\n",
            "x1             1.4638      0.138     10.638      0.000       1.193       1.734\n",
            "==============================================================================\n",
            "Omnibus:                       21.569   Durbin-Watson:                   0.042\n",
            "Prob(Omnibus):                  0.000   Jarque-Bera (JB):               22.360\n",
            "Skew:                           0.600   Prob(JB):                     1.40e-05\n",
            "Kurtosis:                       2.560   Cond. No.                         377.\n",
            "==============================================================================\n",
            "\n",
            "Warnings:\n",
            "[1] Standard Errors assume that the covariance matrix of the errors is correctly specified.\n"
          ]
        }
      ]
    },
    {
      "cell_type": "markdown",
      "metadata": {
        "id": "SG6EdBeEwsHh"
      },
      "source": [
        "#### **Prueba de hipótesis**\n",
        "\n",
        "**H0**: la serie no tiene tendencia\n",
        "\n",
        "**H1**: la serie tiene tendencia\n",
        "\n",
        "Criterio: Rechazamos H0 si p-valor<alfa(0.05)\n",
        "\n",
        "P-valor=0.000<0.05, con un 95% de confianza rechazamos H0\n",
        "\n",
        "**La serie es no estacionaria en media**"
      ]
    },
    {
      "cell_type": "markdown",
      "metadata": {
        "id": "_cm-XKOzwx_9"
      },
      "source": [
        "### Revisando estacionariedad en varianza con la Prueba Dickey-Fuller Aumentada"
      ]
    },
    {
      "cell_type": "code",
      "metadata": {
        "colab": {
          "base_uri": "https://localhost:8080/",
          "height": 265
        },
        "id": "AVYvu8PYw094",
        "outputId": "a7c5a0e6-d34a-4a75-9ade-05c5ea225b79"
      },
      "source": [
        "HPP2=HPP.drop(columns=['Index'])\n",
        "HPP2.head(6)"
      ],
      "execution_count": null,
      "outputs": [
        {
          "output_type": "execute_result",
          "data": {
            "text/html": [
              "<div>\n",
              "<style scoped>\n",
              "    .dataframe tbody tr th:only-of-type {\n",
              "        vertical-align: middle;\n",
              "    }\n",
              "\n",
              "    .dataframe tbody tr th {\n",
              "        vertical-align: top;\n",
              "    }\n",
              "\n",
              "    .dataframe thead th {\n",
              "        text-align: right;\n",
              "    }\n",
              "</style>\n",
              "<table border=\"1\" class=\"dataframe\">\n",
              "  <thead>\n",
              "    <tr style=\"text-align: right;\">\n",
              "      <th></th>\n",
              "      <th>CloseUSD</th>\n",
              "    </tr>\n",
              "    <tr>\n",
              "      <th>Date</th>\n",
              "      <th></th>\n",
              "    </tr>\n",
              "  </thead>\n",
              "  <tbody>\n",
              "    <tr>\n",
              "      <th>2020-01-02</th>\n",
              "      <td>3710.657539</td>\n",
              "    </tr>\n",
              "    <tr>\n",
              "      <th>2020-01-03</th>\n",
              "      <td>3698.695000</td>\n",
              "    </tr>\n",
              "    <tr>\n",
              "      <th>2020-01-06</th>\n",
              "      <td>3669.404628</td>\n",
              "    </tr>\n",
              "    <tr>\n",
              "      <th>2020-01-07</th>\n",
              "      <td>3681.867872</td>\n",
              "    </tr>\n",
              "    <tr>\n",
              "      <th>2020-01-08</th>\n",
              "      <td>3651.429590</td>\n",
              "    </tr>\n",
              "    <tr>\n",
              "      <th>2020-01-09</th>\n",
              "      <td>3712.930000</td>\n",
              "    </tr>\n",
              "  </tbody>\n",
              "</table>\n",
              "</div>"
            ],
            "text/plain": [
              "               CloseUSD\n",
              "Date                   \n",
              "2020-01-02  3710.657539\n",
              "2020-01-03  3698.695000\n",
              "2020-01-06  3669.404628\n",
              "2020-01-07  3681.867872\n",
              "2020-01-08  3651.429590\n",
              "2020-01-09  3712.930000"
            ]
          },
          "metadata": {},
          "execution_count": 86
        }
      ]
    },
    {
      "cell_type": "code",
      "metadata": {
        "colab": {
          "base_uri": "https://localhost:8080/"
        },
        "id": "g7i6v7OAxBjk",
        "outputId": "6aa6f3b2-e94f-4642-9dd2-4b2a73b72153"
      },
      "source": [
        "adf_test(HPP2['CloseUSD'])"
      ],
      "execution_count": null,
      "outputs": [
        {
          "output_type": "stream",
          "name": "stdout",
          "text": [
            "Resultados de la prueba Dickey-Fuller:\n",
            "Test Statistic                     -1.467262\n",
            "p-valor                             0.549640\n",
            "#Lags Used                          2.000000\n",
            "Numero de observaciones usadas    325.000000\n",
            "Critical Value (1%)                -3.450632\n",
            "Critical Value (5%)                -2.870474\n",
            "Critical Value (10%)               -2.571530\n",
            "dtype: float64\n"
          ]
        }
      ]
    },
    {
      "cell_type": "markdown",
      "metadata": {
        "id": "NC08GJcCxHDL"
      },
      "source": [
        "#### Prueba de hipótesis\n",
        "H0: la serie no es estacionaria\n",
        "\n",
        "H1: la serie es estacionaria\n",
        "\n",
        "Criterio: Rechazamos H0 si p-valor<alfa(0.05)\n",
        "\n",
        "P-valor=0.549640>0.05, con un 95% de confianza no rechazamos H0\n",
        "\n",
        "**La serie es no estacionaria en varianza**\n",
        "\n",
        "## **Se tiene que corregir la serie para hacerse estacionaria**"
      ]
    },
    {
      "cell_type": "markdown",
      "metadata": {
        "id": "A9DGdRX7xVsK"
      },
      "source": [
        "### Correcciones"
      ]
    },
    {
      "cell_type": "code",
      "metadata": {
        "colab": {
          "base_uri": "https://localhost:8080/",
          "height": 294
        },
        "id": "1hwKGRLzxYQF",
        "outputId": "b1dc2624-0fb4-4a70-d380-5e89e32520c9"
      },
      "source": [
        "HPP2['CloseUSD_log'] = np.log(HPP2['CloseUSD'])\n",
        "HPP2['CloseUSD_log_diff'] = HPP2['CloseUSD_log'] - HPP2['CloseUSD_log'].shift(1)\n",
        "HPP2['CloseUSD_log_diff'].dropna().plot()"
      ],
      "execution_count": null,
      "outputs": [
        {
          "output_type": "execute_result",
          "data": {
            "text/plain": [
              "<matplotlib.axes._subplots.AxesSubplot at 0x7fc28ef9c790>"
            ]
          },
          "metadata": {},
          "execution_count": 88
        },
        {
          "output_type": "display_data",
          "data": {
            "image/png": "[encoded data removed]",
            "text/plain": [
              "<Figure size 432x288 with 1 Axes>"
            ]
          },
          "metadata": {
            "needs_background": "light"
          }
        }
      ]
    },
    {
      "cell_type": "markdown",
      "metadata": {
        "id": "GsMZMaDLxi7W"
      },
      "source": [
        "### Revisando estacionariedad en media"
      ]
    },
    {
      "cell_type": "code",
      "metadata": {
        "colab": {
          "base_uri": "https://localhost:8080/",
          "height": 417
        },
        "id": "MrD3eZnXxptH",
        "outputId": "59bc81f3-51cf-442c-83cc-9277685ff047"
      },
      "source": [
        "HPP2_c = HPP2.reset_index().drop([0], axis=0)\n",
        "HPP2_c"
      ],
      "execution_count": null,
      "outputs": [
        {
          "output_type": "execute_result",
          "data": {
            "text/html": [
              "<div>\n",
              "<style scoped>\n",
              "    .dataframe tbody tr th:only-of-type {\n",
              "        vertical-align: middle;\n",
              "    }\n",
              "\n",
              "    .dataframe tbody tr th {\n",
              "        vertical-align: top;\n",
              "    }\n",
              "\n",
              "    .dataframe thead th {\n",
              "        text-align: right;\n",
              "    }\n",
              "</style>\n",
              "<table border=\"1\" class=\"dataframe\">\n",
              "  <thead>\n",
              "    <tr style=\"text-align: right;\">\n",
              "      <th></th>\n",
              "      <th>Date</th>\n",
              "      <th>CloseUSD</th>\n",
              "      <th>CloseUSD_log</th>\n",
              "      <th>CloseUSD_log_diff</th>\n",
              "    </tr>\n",
              "  </thead>\n",
              "  <tbody>\n",
              "    <tr>\n",
              "      <th>1</th>\n",
              "      <td>2020-01-03</td>\n",
              "      <td>3698.695000</td>\n",
              "      <td>8.215735</td>\n",
              "      <td>-0.003229</td>\n",
              "    </tr>\n",
              "    <tr>\n",
              "      <th>2</th>\n",
              "      <td>2020-01-06</td>\n",
              "      <td>3669.404628</td>\n",
              "      <td>8.207785</td>\n",
              "      <td>-0.007951</td>\n",
              "    </tr>\n",
              "    <tr>\n",
              "      <th>3</th>\n",
              "      <td>2020-01-07</td>\n",
              "      <td>3681.867872</td>\n",
              "      <td>8.211175</td>\n",
              "      <td>0.003391</td>\n",
              "    </tr>\n",
              "    <tr>\n",
              "      <th>4</th>\n",
              "      <td>2020-01-08</td>\n",
              "      <td>3651.429590</td>\n",
              "      <td>8.202874</td>\n",
              "      <td>-0.008301</td>\n",
              "    </tr>\n",
              "    <tr>\n",
              "      <th>5</th>\n",
              "      <td>2020-01-09</td>\n",
              "      <td>3712.930000</td>\n",
              "      <td>8.219577</td>\n",
              "      <td>0.016703</td>\n",
              "    </tr>\n",
              "    <tr>\n",
              "      <th>...</th>\n",
              "      <td>...</td>\n",
              "      <td>...</td>\n",
              "      <td>...</td>\n",
              "      <td>...</td>\n",
              "    </tr>\n",
              "    <tr>\n",
              "      <th>323</th>\n",
              "      <td>2021-04-26</td>\n",
              "      <td>3763.867910</td>\n",
              "      <td>8.233202</td>\n",
              "      <td>-0.004340</td>\n",
              "    </tr>\n",
              "    <tr>\n",
              "      <th>324</th>\n",
              "      <td>2021-04-27</td>\n",
              "      <td>3762.400078</td>\n",
              "      <td>8.232812</td>\n",
              "      <td>-0.000390</td>\n",
              "    </tr>\n",
              "    <tr>\n",
              "      <th>325</th>\n",
              "      <td>2021-04-28</td>\n",
              "      <td>3779.274179</td>\n",
              "      <td>8.237287</td>\n",
              "      <td>0.004475</td>\n",
              "    </tr>\n",
              "    <tr>\n",
              "      <th>326</th>\n",
              "      <td>2021-04-29</td>\n",
              "      <td>3809.423770</td>\n",
              "      <td>8.245233</td>\n",
              "      <td>0.007946</td>\n",
              "    </tr>\n",
              "    <tr>\n",
              "      <th>327</th>\n",
              "      <td>2021-04-30</td>\n",
              "      <td>3734.234512</td>\n",
              "      <td>8.225298</td>\n",
              "      <td>-0.019935</td>\n",
              "    </tr>\n",
              "  </tbody>\n",
              "</table>\n",
              "<p>327 rows × 4 columns</p>\n",
              "</div>"
            ],
            "text/plain": [
              "          Date     CloseUSD  CloseUSD_log  CloseUSD_log_diff\n",
              "1   2020-01-03  3698.695000      8.215735          -0.003229\n",
              "2   2020-01-06  3669.404628      8.207785          -0.007951\n",
              "3   2020-01-07  3681.867872      8.211175           0.003391\n",
              "4   2020-01-08  3651.429590      8.202874          -0.008301\n",
              "5   2020-01-09  3712.930000      8.219577           0.016703\n",
              "..         ...          ...           ...                ...\n",
              "323 2021-04-26  3763.867910      8.233202          -0.004340\n",
              "324 2021-04-27  3762.400078      8.232812          -0.000390\n",
              "325 2021-04-28  3779.274179      8.237287           0.004475\n",
              "326 2021-04-29  3809.423770      8.245233           0.007946\n",
              "327 2021-04-30  3734.234512      8.225298          -0.019935\n",
              "\n",
              "[327 rows x 4 columns]"
            ]
          },
          "metadata": {},
          "execution_count": 89
        }
      ]
    },
    {
      "cell_type": "code",
      "metadata": {
        "colab": {
          "base_uri": "https://localhost:8080/"
        },
        "id": "LMXHA_yaxvVn",
        "outputId": "41c77405-2b48-4b1d-ea3a-7b6e9bf9a770"
      },
      "source": [
        "x = np.arange(HPP2_c['Date'].size)\n",
        "fit = np.polyfit(x,HPP2_c['CloseUSD_log_diff'], deg=1)\n",
        "print (\"Slope : \" + str(fit[0]))\n",
        "print (\"Intercept : \" + str(fit[1]))"
      ],
      "execution_count": null,
      "outputs": [
        {
          "output_type": "stream",
          "name": "stdout",
          "text": [
            "Slope : 1.0304674795264516e-05\n",
            "Intercept : -0.0016602927180104415\n"
          ]
        }
      ]
    },
    {
      "cell_type": "code",
      "metadata": {
        "colab": {
          "base_uri": "https://localhost:8080/",
          "height": 295
        },
        "id": "kviyUf_jx3Aw",
        "outputId": "848aca7d-29e5-4a1e-b8e3-1785e36941e2"
      },
      "source": [
        "fit_function = np.poly1d(fit)\n",
        "plt.plot(HPP2_c['Date'], fit_function(x))\n",
        "plt.plot(HPP2_c['Date'], HPP2_c['CloseUSD_log_diff'])\n",
        "\n",
        "plt.xlabel('Fecha')\n",
        "plt.ylabel('CloseUSD')\n",
        "plt.title('HSI')\n",
        "plt.show()"
      ],
      "execution_count": null,
      "outputs": [
        {
          "output_type": "display_data",
          "data": {
            "image/png": "[encoded data removed]",
            "text/plain": [
              "<Figure size 432x288 with 1 Axes>"
            ]
          },
          "metadata": {
            "needs_background": "light"
          }
        }
      ]
    },
    {
      "cell_type": "markdown",
      "metadata": {
        "id": "Ymrth-8xyCem"
      },
      "source": [
        "Visualmente parece que no se tiene tendencia"
      ]
    },
    {
      "cell_type": "code",
      "metadata": {
        "colab": {
          "base_uri": "https://localhost:8080/"
        },
        "id": "5ZnJdcz2yJwV",
        "outputId": "dab6b34b-92fd-4eb0-af16-f1ab1786d31d"
      },
      "source": [
        "X = np.arange(HPP2_c['Date'].size).reshape(-1, 1)\n",
        "y = HPP2_c['CloseUSD_log_diff']\n",
        "X2 = sm.add_constant(X)\n",
        "est = sm.OLS(y, X2)\n",
        "est2 = est.fit()\n",
        "print(est2.summary())"
      ],
      "execution_count": null,
      "outputs": [
        {
          "output_type": "stream",
          "name": "stdout",
          "text": [
            "                            OLS Regression Results                            \n",
            "==============================================================================\n",
            "Dep. Variable:      CloseUSD_log_diff   R-squared:                       0.005\n",
            "Model:                            OLS   Adj. R-squared:                  0.001\n",
            "Method:                 Least Squares   F-statistic:                     1.485\n",
            "Date:                Mon, 18 Oct 2021   Prob (F-statistic):              0.224\n",
            "Time:                        19:50:06   Log-Likelihood:                 922.86\n",
            "No. Observations:                 327   AIC:                            -1842.\n",
            "Df Residuals:                     325   BIC:                            -1834.\n",
            "Df Model:                           1                                         \n",
            "Covariance Type:            nonrobust                                         \n",
            "==============================================================================\n",
            "                 coef    std err          t      P>|t|      [0.025      0.975]\n",
            "------------------------------------------------------------------------------\n",
            "const         -0.0017      0.002     -1.042      0.298      -0.005       0.001\n",
            "x1           1.03e-05   8.46e-06      1.219      0.224   -6.33e-06    2.69e-05\n",
            "==============================================================================\n",
            "Omnibus:                       21.862   Durbin-Watson:                   2.227\n",
            "Prob(Omnibus):                  0.000   Jarque-Bera (JB):               43.427\n",
            "Skew:                          -0.363   Prob(JB):                     3.71e-10\n",
            "Kurtosis:                       4.631   Cond. No.                         376.\n",
            "==============================================================================\n",
            "\n",
            "Warnings:\n",
            "[1] Standard Errors assume that the covariance matrix of the errors is correctly specified.\n"
          ]
        }
      ]
    },
    {
      "cell_type": "markdown",
      "metadata": {
        "id": "jdARMl_ryTfj"
      },
      "source": [
        "#### Prueba de hipótesis\n",
        "\n",
        "H0: la serie no tiene tendencia\n",
        "\n",
        "H1: la serie tiene tendencia\n",
        "\n",
        "Criterio: Rechazamos H0 si p-valor<alfa(0.05)\n",
        "\n",
        "P-valor=0.224>0.05, con un 95% de confianza no rechazamos H0\n",
        "\n",
        "**La serie es estacionaria en media**\n"
      ]
    },
    {
      "cell_type": "markdown",
      "metadata": {
        "id": "d0BQ75NIyZG5"
      },
      "source": [
        "### Revisando estacionariedad en varianza con la Prueba Dickey-Fuller Aumentada\n",
        "\n"
      ]
    },
    {
      "cell_type": "code",
      "metadata": {
        "colab": {
          "base_uri": "https://localhost:8080/"
        },
        "id": "lHUDKugtybtE",
        "outputId": "cd58df9b-57be-486c-fc24-8f232709f092"
      },
      "source": [
        "adf_test(HPP2['CloseUSD_log_diff'].dropna())"
      ],
      "execution_count": null,
      "outputs": [
        {
          "output_type": "stream",
          "name": "stdout",
          "text": [
            "Resultados de la prueba Dickey-Fuller:\n",
            "Test Statistic                    -20.085589\n",
            "p-valor                             0.000000\n",
            "#Lags Used                          0.000000\n",
            "Numero de observaciones usadas    326.000000\n",
            "Critical Value (1%)                -3.450569\n",
            "Critical Value (5%)                -2.870447\n",
            "Critical Value (10%)               -2.571515\n",
            "dtype: float64\n"
          ]
        }
      ]
    },
    {
      "cell_type": "markdown",
      "metadata": {
        "id": "0igXIeChyiRx"
      },
      "source": [
        "#### Prueba de hipótesis\n",
        "H0: la serie no es estacionaria\n",
        "\n",
        "H1: la serie es estacionaria\n",
        "\n",
        "Criterio: Rechazamos H0 si p-valor<alfa(0.05)\n",
        "\n",
        "P-valor=0.000000<0.05, con un 95% de confianza rechazamos H0\n",
        "\n",
        "**La serie es estacionaria en media y varianza**"
      ]
    },
    {
      "cell_type": "markdown",
      "metadata": {
        "id": "29Iiq5ZEyo4L"
      },
      "source": [
        "## **Modelo ARIMA**"
      ]
    },
    {
      "cell_type": "code",
      "metadata": {
        "colab": {
          "base_uri": "https://localhost:8080/",
          "height": 660
        },
        "id": "6S6MG9MrytCy",
        "outputId": "72caefe7-60e2-4d94-908e-075ecd52ef9a"
      },
      "source": [
        "arima_model2 = arimamodel(HPP2['CloseUSD_log_diff'].dropna())\n",
        "arima_model2.summary()"
      ],
      "execution_count": null,
      "outputs": [
        {
          "output_type": "stream",
          "name": "stdout",
          "text": [
            "Performing stepwise search to minimize aic\n",
            " ARIMA(1,0,1)(0,0,0)[0] intercept   : AIC=-1841.188, Time=0.24 sec\n",
            " ARIMA(0,0,0)(0,0,0)[0] intercept   : AIC=-1840.235, Time=0.10 sec\n",
            " ARIMA(1,0,0)(0,0,0)[0] intercept   : AIC=-1842.331, Time=0.05 sec\n",
            " ARIMA(0,0,1)(0,0,0)[0] intercept   : AIC=-1841.791, Time=0.08 sec\n",
            " ARIMA(0,0,0)(0,0,0)[0]             : AIC=-1842.235, Time=0.03 sec\n",
            " ARIMA(2,0,0)(0,0,0)[0] intercept   : AIC=-1841.734, Time=0.28 sec\n",
            " ARIMA(2,0,1)(0,0,0)[0] intercept   : AIC=-1839.786, Time=0.12 sec\n",
            " ARIMA(1,0,0)(0,0,0)[0]             : AIC=-1844.330, Time=0.05 sec\n",
            " ARIMA(2,0,0)(0,0,0)[0]             : AIC=-1843.733, Time=0.04 sec\n",
            " ARIMA(1,0,1)(0,0,0)[0]             : AIC=-1843.181, Time=0.08 sec\n",
            " ARIMA(0,0,1)(0,0,0)[0]             : AIC=-1843.814, Time=0.08 sec\n",
            " ARIMA(2,0,1)(0,0,0)[0]             : AIC=-1841.785, Time=0.20 sec\n",
            "\n",
            "Best model:  ARIMA(1,0,0)(0,0,0)[0]          \n",
            "Total fit time: 1.386 seconds\n"
          ]
        },
        {
          "output_type": "execute_result",
          "data": {
            "text/html": [
              "<table class=\"simpletable\">\n",
              "<caption>Statespace Model Results</caption>\n",
              "<tr>\n",
              "  <th>Dep. Variable:</th>           <td>y</td>        <th>  No. Observations:  </th>    <td>327</td>   \n",
              "</tr>\n",
              "<tr>\n",
              "  <th>Model:</th>           <td>SARIMAX(1, 0, 0)</td> <th>  Log Likelihood     </th>  <td>924.165</td> \n",
              "</tr>\n",
              "<tr>\n",
              "  <th>Date:</th>            <td>Mon, 18 Oct 2021</td> <th>  AIC                </th> <td>-1844.330</td>\n",
              "</tr>\n",
              "<tr>\n",
              "  <th>Time:</th>                <td>19:50:14</td>     <th>  BIC                </th> <td>-1836.750</td>\n",
              "</tr>\n",
              "<tr>\n",
              "  <th>Sample:</th>                  <td>0</td>        <th>  HQIC               </th> <td>-1841.305</td>\n",
              "</tr>\n",
              "<tr>\n",
              "  <th></th>                      <td> - 327</td>      <th>                     </th>     <td> </td>    \n",
              "</tr>\n",
              "<tr>\n",
              "  <th>Covariance Type:</th>        <td>opg</td>       <th>                     </th>     <td> </td>    \n",
              "</tr>\n",
              "</table>\n",
              "<table class=\"simpletable\">\n",
              "<tr>\n",
              "     <td></td>       <th>coef</th>     <th>std err</th>      <th>z</th>      <th>P>|z|</th>  <th>[0.025</th>    <th>0.975]</th>  \n",
              "</tr>\n",
              "<tr>\n",
              "  <th>ar.L1</th>  <td>   -0.1120</td> <td>    0.042</td> <td>   -2.676</td> <td> 0.007</td> <td>   -0.194</td> <td>   -0.030</td>\n",
              "</tr>\n",
              "<tr>\n",
              "  <th>sigma2</th> <td>    0.0002</td> <td>  1.2e-05</td> <td>   17.164</td> <td> 0.000</td> <td>    0.000</td> <td>    0.000</td>\n",
              "</tr>\n",
              "</table>\n",
              "<table class=\"simpletable\">\n",
              "<tr>\n",
              "  <th>Ljung-Box (Q):</th>          <td>34.72</td> <th>  Jarque-Bera (JB):  </th> <td>45.87</td>\n",
              "</tr>\n",
              "<tr>\n",
              "  <th>Prob(Q):</th>                <td>0.71</td>  <th>  Prob(JB):          </th> <td>0.00</td> \n",
              "</tr>\n",
              "<tr>\n",
              "  <th>Heteroskedasticity (H):</th> <td>0.44</td>  <th>  Skew:              </th> <td>-0.44</td>\n",
              "</tr>\n",
              "<tr>\n",
              "  <th>Prob(H) (two-sided):</th>    <td>0.00</td>  <th>  Kurtosis:          </th> <td>4.61</td> \n",
              "</tr>\n",
              "</table><br/><br/>Warnings:<br/>[1] Covariance matrix calculated using the outer product of gradients (complex-step)."
            ],
            "text/plain": [
              "<class 'statsmodels.iolib.summary.Summary'>\n",
              "\"\"\"\n",
              "                           Statespace Model Results                           \n",
              "==============================================================================\n",
              "Dep. Variable:                      y   No. Observations:                  327\n",
              "Model:               SARIMAX(1, 0, 0)   Log Likelihood                 924.165\n",
              "Date:                Mon, 18 Oct 2021   AIC                          -1844.330\n",
              "Time:                        19:50:14   BIC                          -1836.750\n",
              "Sample:                             0   HQIC                         -1841.305\n",
              "                                - 327                                         \n",
              "Covariance Type:                  opg                                         \n",
              "==============================================================================\n",
              "                 coef    std err          z      P>|z|      [0.025      0.975]\n",
              "------------------------------------------------------------------------------\n",
              "ar.L1         -0.1120      0.042     -2.676      0.007      -0.194      -0.030\n",
              "sigma2         0.0002    1.2e-05     17.164      0.000       0.000       0.000\n",
              "===================================================================================\n",
              "Ljung-Box (Q):                       34.72   Jarque-Bera (JB):                45.87\n",
              "Prob(Q):                              0.71   Prob(JB):                         0.00\n",
              "Heteroskedasticity (H):               0.44   Skew:                            -0.44\n",
              "Prob(H) (two-sided):                  0.00   Kurtosis:                         4.61\n",
              "===================================================================================\n",
              "\n",
              "Warnings:\n",
              "[1] Covariance matrix calculated using the outer product of gradients (complex-step).\n",
              "\"\"\""
            ]
          },
          "metadata": {},
          "execution_count": 94
        }
      ]
    },
    {
      "cell_type": "markdown",
      "metadata": {
        "id": "_A40_SB1y-nW"
      },
      "source": [
        "En el resultado anterior, se obtuvo el valor AIC más bajo de -1844.330 para el modelo ARIMA (1, 0, 0)"
      ]
    },
    {
      "cell_type": "markdown",
      "metadata": {
        "id": "jb0bmxINzdL5"
      },
      "source": [
        "## **Supuestos de ruido blanco**\n"
      ]
    },
    {
      "cell_type": "code",
      "metadata": {
        "id": "iJtaXGKnzgp2"
      },
      "source": [
        "res2=arima_model2.resid()"
      ],
      "execution_count": null,
      "outputs": []
    },
    {
      "cell_type": "markdown",
      "metadata": {
        "id": "MRmFaAHjzxw7"
      },
      "source": [
        "### **Media**"
      ]
    },
    {
      "cell_type": "code",
      "metadata": {
        "colab": {
          "base_uri": "https://localhost:8080/"
        },
        "id": "tpvT1QmFzmmL",
        "outputId": "595ae287-bef8-4343-a3b1-1129e8620ed7"
      },
      "source": [
        "res2.mean()"
      ],
      "execution_count": null,
      "outputs": [
        {
          "output_type": "execute_result",
          "data": {
            "text/plain": [
              "2.837023890230776e-05"
            ]
          },
          "metadata": {},
          "execution_count": 96
        }
      ]
    },
    {
      "cell_type": "markdown",
      "metadata": {
        "id": "5HO3DOlbzrwr"
      },
      "source": [
        "Cumple con el supuesto de media cero"
      ]
    },
    {
      "cell_type": "markdown",
      "metadata": {
        "id": "jg36tPQbzvbY"
      },
      "source": [
        "### **Varianza**"
      ]
    },
    {
      "cell_type": "code",
      "metadata": {
        "colab": {
          "base_uri": "https://localhost:8080/",
          "height": 282
        },
        "id": "UkBrCMvIz1Et",
        "outputId": "ea131c5b-5a30-4823-938b-78ba89e7266b"
      },
      "source": [
        "plt.scatter(HPP2_c.Date,res2)\n",
        "plt.axhline(color=\"black\")"
      ],
      "execution_count": null,
      "outputs": [
        {
          "output_type": "execute_result",
          "data": {
            "text/plain": [
              "<matplotlib.lines.Line2D at 0x7fc28ef00150>"
            ]
          },
          "metadata": {},
          "execution_count": 97
        },
        {
          "output_type": "display_data",
          "data": {
            "image/png": "[encoded data removed]",
            "text/plain": [
              "<Figure size 432x288 with 1 Axes>"
            ]
          },
          "metadata": {
            "needs_background": "light"
          }
        }
      ]
    },
    {
      "cell_type": "markdown",
      "metadata": {
        "id": "Hcvtw8IKz9LJ"
      },
      "source": [
        "Sin patrones visibles en los residuales"
      ]
    },
    {
      "cell_type": "markdown",
      "metadata": {
        "id": "q7dNR3zE0AqQ"
      },
      "source": [
        "### **Independencia**"
      ]
    },
    {
      "cell_type": "code",
      "metadata": {
        "colab": {
          "base_uri": "https://localhost:8080/",
          "height": 612
        },
        "id": "zyP3Sz_F0DKb",
        "outputId": "a9ceedc9-9f96-49d5-d8ab-108b890f8ac1"
      },
      "source": [
        "pmd.plot_acf(res2)\n",
        "pmd.plot_pacf(res2)\n",
        "sm.stats.acorr_ljungbox(res2,lags=1,boxpierce=True)"
      ],
      "execution_count": null,
      "outputs": [
        {
          "output_type": "display_data",
          "data": {
            "image/png": "[encoded data removed]",
            "text/plain": [
              "<Figure size 432x288 with 1 Axes>"
            ]
          },
          "metadata": {
            "needs_background": "light"
          }
        },
        {
          "output_type": "display_data",
          "data": {
            "image/png": "[encoded data removed]",
            "text/plain": [
              "<Figure size 432x288 with 1 Axes>"
            ]
          },
          "metadata": {
            "needs_background": "light"
          }
        },
        {
          "output_type": "execute_result",
          "data": {
            "text/plain": [
              "(array([0.01768208]),\n",
              " array([0.89421394]),\n",
              " array([0.01752085]),\n",
              " array([0.89469453]))"
            ]
          },
          "metadata": {},
          "execution_count": 98
        }
      ]
    },
    {
      "cell_type": "markdown",
      "metadata": {
        "id": "PQYLoOet1Cy5"
      },
      "source": [
        "#### Prueba de hipótesis\n",
        "H0: residuales independientes\n",
        "\n",
        "H1: residuales relacionados\n",
        "\n",
        "Criterio: Rechazamos H0 si p-valor<alfa(0.05)\n",
        "\n",
        "P-valor=0.894695>0.05, con un 95% de confianza no rechazamos H0\n",
        "\n",
        "**Los residuales son independientes**\n",
        "\n",
        "**Hasta aquí cumple con Ruido blanco** "
      ]
    },
    {
      "cell_type": "markdown",
      "metadata": {
        "id": "NVFvpi5z0Y0j"
      },
      "source": [
        "### **Normalidad**"
      ]
    },
    {
      "cell_type": "code",
      "metadata": {
        "colab": {
          "base_uri": "https://localhost:8080/"
        },
        "id": "HXsAeUVF0bgB",
        "outputId": "bce6fc3c-d710-45b9-b2bb-8f6b4ad07afc"
      },
      "source": [
        "stats.shapiro(res2)"
      ],
      "execution_count": null,
      "outputs": [
        {
          "output_type": "execute_result",
          "data": {
            "text/plain": [
              "(0.9734405279159546, 9.97500592347933e-06)"
            ]
          },
          "metadata": {},
          "execution_count": 99
        }
      ]
    },
    {
      "cell_type": "markdown",
      "metadata": {
        "id": "5pse4Wvy0otd"
      },
      "source": [
        "#### Prueba de hipótesis\n",
        "H0: los residuales provienen de una distribución normal\n",
        "\n",
        "H1: los residuales provienen de alguna otra distribución\n",
        "\n",
        "Criterio: Rechazamos H0 si p-valor<alfa(0.05)\n",
        "\n",
        "P-valor=9.97500592347933e-06<0.05, con un 95% de confianza rechazamos H0\n",
        "\n",
        "**Los residuales no cumplen normalidad, Ruido blanco no gaussiano**"
      ]
    },
    {
      "cell_type": "markdown",
      "metadata": {
        "id": "O6NZFqw_1Qi0"
      },
      "source": [
        "## **Predicciones de HSI**"
      ]
    },
    {
      "cell_type": "code",
      "metadata": {
        "colab": {
          "base_uri": "https://localhost:8080/",
          "height": 722
        },
        "id": "9YX3n9US1VAw",
        "outputId": "e34d9770-659f-46fd-da3f-034123a5c986"
      },
      "source": [
        "from statsmodels.tsa.statespace.sarimax import SARIMAX\n",
        "modelo2=SARIMAX(HPP2[\"CloseUSD\"],order=(1,1,0))\n",
        "result2=modelo2.fit()\n",
        "forecast2 = result2.predict(start = len(HPP2),end = (len(HPP2)-1) + 3 * 7,typ = 'levels').rename('Predicciones HSI')\n",
        "\n",
        "#RPP2[\"CloseUSD\"].plot(figsize = (12, 5), legend = True)\n",
        "forecast2.plot(legend = True)\n",
        "forecast2"
      ],
      "execution_count": null,
      "outputs": [
        {
          "output_type": "stream",
          "name": "stderr",
          "text": [
            "/usr/local/lib/python3.7/dist-packages/statsmodels/tsa/base/tsa_model.py:219: ValueWarning: A date index has been provided, but it has no associated frequency information and so will be ignored when e.g. forecasting.\n",
            "  The location of the key\n",
            "/usr/local/lib/python3.7/dist-packages/statsmodels/tsa/base/tsa_model.py:576: ValueWarning: No supported index is available. Prediction results will be given with an integer index beginning at `start`.\n",
            "  \n"
          ]
        },
        {
          "output_type": "execute_result",
          "data": {
            "text/plain": [
              "328    3742.806845\n",
              "329    3741.829512\n",
              "330    3741.940938\n",
              "331    3741.928234\n",
              "332    3741.929683\n",
              "333    3741.929518\n",
              "334    3741.929536\n",
              "335    3741.929534\n",
              "336    3741.929534\n",
              "337    3741.929534\n",
              "338    3741.929534\n",
              "339    3741.929534\n",
              "340    3741.929534\n",
              "341    3741.929534\n",
              "342    3741.929534\n",
              "343    3741.929534\n",
              "344    3741.929534\n",
              "345    3741.929534\n",
              "346    3741.929534\n",
              "347    3741.929534\n",
              "348    3741.929534\n",
              "Name: Predicciones HSI, dtype: float64"
            ]
          },
          "metadata": {},
          "execution_count": 117
        },
        {
          "output_type": "display_data",
          "data": {
            "image/png": "[encoded data removed]",
            "text/plain": [
              "<Figure size 432x288 with 1 Axes>"
            ]
          },
          "metadata": {
            "needs_background": "light"
          }
        }
      ]
    },
    {
      "cell_type": "markdown",
      "metadata": {
        "id": "WRs6kqQO4Wba"
      },
      "source": [
        "## GSPTSE"
      ]
    },
    {
      "cell_type": "code",
      "metadata": {
        "colab": {
          "base_uri": "https://localhost:8080/",
          "height": 234
        },
        "id": "I10i7B4rna_6",
        "outputId": "052e1ece-f4d8-4b6e-ef8f-1b15d51f3bf4"
      },
      "source": [
        "NGSPTSE=NNIP[NNIP.Index==\"GSPTSE\"]\n",
        "NGSPTSE.head(5)"
      ],
      "execution_count": null,
      "outputs": [
        {
          "output_type": "execute_result",
          "data": {
            "text/html": [
              "<div>\n",
              "<style scoped>\n",
              "    .dataframe tbody tr th:only-of-type {\n",
              "        vertical-align: middle;\n",
              "    }\n",
              "\n",
              "    .dataframe tbody tr th {\n",
              "        vertical-align: top;\n",
              "    }\n",
              "\n",
              "    .dataframe thead th {\n",
              "        text-align: right;\n",
              "    }\n",
              "</style>\n",
              "<table border=\"1\" class=\"dataframe\">\n",
              "  <thead>\n",
              "    <tr style=\"text-align: right;\">\n",
              "      <th></th>\n",
              "      <th>Index</th>\n",
              "      <th>Open</th>\n",
              "      <th>High</th>\n",
              "      <th>Low</th>\n",
              "      <th>Close</th>\n",
              "      <th>Adj Close</th>\n",
              "      <th>Volume</th>\n",
              "      <th>CloseUSD</th>\n",
              "    </tr>\n",
              "    <tr>\n",
              "      <th>Date</th>\n",
              "      <th></th>\n",
              "      <th></th>\n",
              "      <th></th>\n",
              "      <th></th>\n",
              "      <th></th>\n",
              "      <th></th>\n",
              "      <th></th>\n",
              "      <th></th>\n",
              "    </tr>\n",
              "  </thead>\n",
              "  <tbody>\n",
              "    <tr>\n",
              "      <th>1979-06-29</th>\n",
              "      <td>GSPTSE</td>\n",
              "      <td>1614.699951</td>\n",
              "      <td>1619.800049</td>\n",
              "      <td>1614.699951</td>\n",
              "      <td>1618.400024</td>\n",
              "      <td>1614.290039</td>\n",
              "      <td>0.0</td>\n",
              "      <td>1343.272020</td>\n",
              "    </tr>\n",
              "    <tr>\n",
              "      <th>1979-07-03</th>\n",
              "      <td>GSPTSE</td>\n",
              "      <td>1613.599976</td>\n",
              "      <td>1613.599976</td>\n",
              "      <td>1601.699951</td>\n",
              "      <td>1602.800049</td>\n",
              "      <td>1598.729858</td>\n",
              "      <td>0.0</td>\n",
              "      <td>1330.324041</td>\n",
              "    </tr>\n",
              "    <tr>\n",
              "      <th>1979-07-04</th>\n",
              "      <td>GSPTSE</td>\n",
              "      <td>1601.500000</td>\n",
              "      <td>1601.500000</td>\n",
              "      <td>1589.500000</td>\n",
              "      <td>1591.400024</td>\n",
              "      <td>1587.358765</td>\n",
              "      <td>0.0</td>\n",
              "      <td>1320.862020</td>\n",
              "    </tr>\n",
              "    <tr>\n",
              "      <th>1979-07-05</th>\n",
              "      <td>GSPTSE</td>\n",
              "      <td>1590.000000</td>\n",
              "      <td>1590.000000</td>\n",
              "      <td>1582.500000</td>\n",
              "      <td>1583.900024</td>\n",
              "      <td>1579.877686</td>\n",
              "      <td>0.0</td>\n",
              "      <td>1314.637020</td>\n",
              "    </tr>\n",
              "    <tr>\n",
              "      <th>1979-07-06</th>\n",
              "      <td>GSPTSE</td>\n",
              "      <td>1583.900024</td>\n",
              "      <td>1586.599976</td>\n",
              "      <td>1578.300049</td>\n",
              "      <td>1586.599976</td>\n",
              "      <td>1582.570923</td>\n",
              "      <td>0.0</td>\n",
              "      <td>1316.877980</td>\n",
              "    </tr>\n",
              "  </tbody>\n",
              "</table>\n",
              "</div>"
            ],
            "text/plain": [
              "             Index         Open         High  ...    Adj Close  Volume     CloseUSD\n",
              "Date                                          ...                                  \n",
              "1979-06-29  GSPTSE  1614.699951  1619.800049  ...  1614.290039     0.0  1343.272020\n",
              "1979-07-03  GSPTSE  1613.599976  1613.599976  ...  1598.729858     0.0  1330.324041\n",
              "1979-07-04  GSPTSE  1601.500000  1601.500000  ...  1587.358765     0.0  1320.862020\n",
              "1979-07-05  GSPTSE  1590.000000  1590.000000  ...  1579.877686     0.0  1314.637020\n",
              "1979-07-06  GSPTSE  1583.900024  1586.599976  ...  1582.570923     0.0  1316.877980\n",
              "\n",
              "[5 rows x 8 columns]"
            ]
          },
          "metadata": {},
          "execution_count": 5
        }
      ]
    },
    {
      "cell_type": "code",
      "metadata": {
        "colab": {
          "base_uri": "https://localhost:8080/",
          "height": 265
        },
        "id": "ObChWpHBp79B",
        "outputId": "8470434f-679c-4985-b1e8-cd3e429f4599"
      },
      "source": [
        "EGSP=NGSPTSE.drop(columns=['Open','High','Low','Close','Adj Close','Volume'])\n",
        "EGSP.head(6)"
      ],
      "execution_count": null,
      "outputs": [
        {
          "output_type": "execute_result",
          "data": {
            "text/html": [
              "<div>\n",
              "<style scoped>\n",
              "    .dataframe tbody tr th:only-of-type {\n",
              "        vertical-align: middle;\n",
              "    }\n",
              "\n",
              "    .dataframe tbody tr th {\n",
              "        vertical-align: top;\n",
              "    }\n",
              "\n",
              "    .dataframe thead th {\n",
              "        text-align: right;\n",
              "    }\n",
              "</style>\n",
              "<table border=\"1\" class=\"dataframe\">\n",
              "  <thead>\n",
              "    <tr style=\"text-align: right;\">\n",
              "      <th></th>\n",
              "      <th>Index</th>\n",
              "      <th>CloseUSD</th>\n",
              "    </tr>\n",
              "    <tr>\n",
              "      <th>Date</th>\n",
              "      <th></th>\n",
              "      <th></th>\n",
              "    </tr>\n",
              "  </thead>\n",
              "  <tbody>\n",
              "    <tr>\n",
              "      <th>1979-06-29</th>\n",
              "      <td>GSPTSE</td>\n",
              "      <td>1343.272020</td>\n",
              "    </tr>\n",
              "    <tr>\n",
              "      <th>1979-07-03</th>\n",
              "      <td>GSPTSE</td>\n",
              "      <td>1330.324041</td>\n",
              "    </tr>\n",
              "    <tr>\n",
              "      <th>1979-07-04</th>\n",
              "      <td>GSPTSE</td>\n",
              "      <td>1320.862020</td>\n",
              "    </tr>\n",
              "    <tr>\n",
              "      <th>1979-07-05</th>\n",
              "      <td>GSPTSE</td>\n",
              "      <td>1314.637020</td>\n",
              "    </tr>\n",
              "    <tr>\n",
              "      <th>1979-07-06</th>\n",
              "      <td>GSPTSE</td>\n",
              "      <td>1316.877980</td>\n",
              "    </tr>\n",
              "    <tr>\n",
              "      <th>1979-07-09</th>\n",
              "      <td>GSPTSE</td>\n",
              "      <td>1316.629041</td>\n",
              "    </tr>\n",
              "  </tbody>\n",
              "</table>\n",
              "</div>"
            ],
            "text/plain": [
              "             Index     CloseUSD\n",
              "Date                           \n",
              "1979-06-29  GSPTSE  1343.272020\n",
              "1979-07-03  GSPTSE  1330.324041\n",
              "1979-07-04  GSPTSE  1320.862020\n",
              "1979-07-05  GSPTSE  1314.637020\n",
              "1979-07-06  GSPTSE  1316.877980\n",
              "1979-07-09  GSPTSE  1316.629041"
            ]
          },
          "metadata": {},
          "execution_count": 6
        }
      ]
    },
    {
      "cell_type": "code",
      "metadata": {
        "colab": {
          "base_uri": "https://localhost:8080/",
          "height": 234
        },
        "id": "nwLvXdgiq9sJ",
        "outputId": "5883a2c4-7c1e-4733-f838-2aab77c24a18"
      },
      "source": [
        "GSP = EGSP['2020-01-01':'2021-05-01']\n",
        "GSP.head()"
      ],
      "execution_count": null,
      "outputs": [
        {
          "output_type": "execute_result",
          "data": {
            "text/html": [
              "<div>\n",
              "<style scoped>\n",
              "    .dataframe tbody tr th:only-of-type {\n",
              "        vertical-align: middle;\n",
              "    }\n",
              "\n",
              "    .dataframe tbody tr th {\n",
              "        vertical-align: top;\n",
              "    }\n",
              "\n",
              "    .dataframe thead th {\n",
              "        text-align: right;\n",
              "    }\n",
              "</style>\n",
              "<table border=\"1\" class=\"dataframe\">\n",
              "  <thead>\n",
              "    <tr style=\"text-align: right;\">\n",
              "      <th></th>\n",
              "      <th>Index</th>\n",
              "      <th>CloseUSD</th>\n",
              "    </tr>\n",
              "    <tr>\n",
              "      <th>Date</th>\n",
              "      <th></th>\n",
              "      <th></th>\n",
              "    </tr>\n",
              "  </thead>\n",
              "  <tbody>\n",
              "    <tr>\n",
              "      <th>2020-01-02</th>\n",
              "      <td>GSPTSE</td>\n",
              "      <td>14193.000000</td>\n",
              "    </tr>\n",
              "    <tr>\n",
              "      <th>2020-01-03</th>\n",
              "      <td>GSPTSE</td>\n",
              "      <td>14164.862676</td>\n",
              "    </tr>\n",
              "    <tr>\n",
              "      <th>2020-01-06</th>\n",
              "      <td>GSPTSE</td>\n",
              "      <td>14197.565000</td>\n",
              "    </tr>\n",
              "    <tr>\n",
              "      <th>2020-01-07</th>\n",
              "      <td>GSPTSE</td>\n",
              "      <td>14249.522676</td>\n",
              "    </tr>\n",
              "    <tr>\n",
              "      <th>2020-01-08</th>\n",
              "      <td>GSPTSE</td>\n",
              "      <td>14249.274647</td>\n",
              "    </tr>\n",
              "  </tbody>\n",
              "</table>\n",
              "</div>"
            ],
            "text/plain": [
              "             Index      CloseUSD\n",
              "Date                            \n",
              "2020-01-02  GSPTSE  14193.000000\n",
              "2020-01-03  GSPTSE  14164.862676\n",
              "2020-01-06  GSPTSE  14197.565000\n",
              "2020-01-07  GSPTSE  14249.522676\n",
              "2020-01-08  GSPTSE  14249.274647"
            ]
          },
          "metadata": {},
          "execution_count": 8
        }
      ]
    },
    {
      "cell_type": "markdown",
      "metadata": {
        "id": "f_Py6u14qja9"
      },
      "source": [
        "### Revisando estacionariedad en media"
      ]
    },
    {
      "cell_type": "code",
      "metadata": {
        "colab": {
          "base_uri": "https://localhost:8080/"
        },
        "id": "1DvcJ1IwqcqH",
        "outputId": "164c41a4-2495-4503-ad89-6253faba8e86"
      },
      "source": [
        "import matplotlib.pyplot as plt\n",
        "x = np.arange(GSP.reset_index()['Date'].size)\n",
        "fit = np.polyfit(x, GSP['CloseUSD'], deg=1)\n",
        "print (\"Slope : \" + str(fit[0]))\n",
        "print (\"Intercept : \" + str(fit[1]))"
      ],
      "execution_count": null,
      "outputs": [
        {
          "output_type": "stream",
          "name": "stdout",
          "text": [
            "Slope : 8.824277834461913\n",
            "Intercept : 12329.723082211429\n"
          ]
        }
      ]
    },
    {
      "cell_type": "code",
      "metadata": {
        "colab": {
          "base_uri": "https://localhost:8080/",
          "height": 295
        },
        "id": "Ylk25YRprFbq",
        "outputId": "bad29ae6-f86a-420d-d485-cc15d0b4f603"
      },
      "source": [
        "fit_function = np.poly1d(fit)\n",
        "plt.plot(GSP.reset_index()['Date'], fit_function(x))\n",
        "plt.plot(GSP.reset_index()['Date'], GSP['CloseUSD'])\n",
        "\n",
        "plt.xlabel('Fecha')\n",
        "plt.ylabel('CloseUSD')\n",
        "plt.title('GSPTSE')\n",
        "plt.show()"
      ],
      "execution_count": null,
      "outputs": [
        {
          "output_type": "display_data",
          "data": {
            "image/png": "[encoded data removed]",
            "text/plain": [
              "<Figure size 432x288 with 1 Axes>"
            ]
          },
          "metadata": {
            "needs_background": "light"
          }
        }
      ]
    },
    {
      "cell_type": "markdown",
      "metadata": {
        "id": "KMuW0rL4rq2W"
      },
      "source": [
        "Visualmente parece que se tiene tendencia lineal"
      ]
    },
    {
      "cell_type": "code",
      "metadata": {
        "colab": {
          "base_uri": "https://localhost:8080/"
        },
        "id": "FgjMfOnXrrxe",
        "outputId": "72b8900c-6ee5-4642-aad5-2c1648a883c5"
      },
      "source": [
        "from sklearn import datasets, linear_model\n",
        "from sklearn.linear_model import LinearRegression\n",
        "import statsmodels.api as sm\n",
        "from scipy import stats\n",
        "\n",
        "X2 = np.arange(GSP.reset_index()['Date'].size).reshape(-1, 1)\n",
        "y2 = GSP['CloseUSD']\n",
        "X3 = sm.add_constant(X2)\n",
        "est2 = sm.OLS(y2, X3)\n",
        "est3 = est2.fit()\n",
        "print(est3.summary())"
      ],
      "execution_count": null,
      "outputs": [
        {
          "output_type": "stream",
          "name": "stderr",
          "text": [
            "/usr/local/lib/python3.7/dist-packages/statsmodels/tools/_testing.py:19: FutureWarning: pandas.util.testing is deprecated. Use the functions in the public API at pandas.testing instead.\n",
            "  import pandas.util.testing as tm\n"
          ]
        },
        {
          "output_type": "stream",
          "name": "stdout",
          "text": [
            "                            OLS Regression Results                            \n",
            "==============================================================================\n",
            "Dep. Variable:               CloseUSD   R-squared:                       0.407\n",
            "Model:                            OLS   Adj. R-squared:                  0.405\n",
            "Method:                 Least Squares   F-statistic:                     228.7\n",
            "Date:                Mon, 18 Oct 2021   Prob (F-statistic):           1.07e-39\n",
            "Time:                        18:35:09   Log-Likelihood:                -2799.3\n",
            "No. Observations:                 335   AIC:                             5603.\n",
            "Df Residuals:                     333   BIC:                             5610.\n",
            "Df Model:                           1                                         \n",
            "Covariance Type:            nonrobust                                         \n",
            "==============================================================================\n",
            "                 coef    std err          t      P>|t|      [0.025      0.975]\n",
            "------------------------------------------------------------------------------\n",
            "const       1.233e+04    112.607    109.493      0.000    1.21e+04    1.26e+04\n",
            "x1             8.8243      0.584     15.123      0.000       7.676       9.972\n",
            "==============================================================================\n",
            "Omnibus:                        6.903   Durbin-Watson:                   0.044\n",
            "Prob(Omnibus):                  0.032   Jarque-Bera (JB):                9.739\n",
            "Skew:                           0.123   Prob(JB):                      0.00768\n",
            "Kurtosis:                       3.798   Cond. No.                         385.\n",
            "==============================================================================\n",
            "\n",
            "Warnings:\n",
            "[1] Standard Errors assume that the covariance matrix of the errors is correctly specified.\n"
          ]
        }
      ]
    },
    {
      "cell_type": "markdown",
      "metadata": {
        "id": "HdZrHeiCr7Bv"
      },
      "source": [
        "#### **Prueba de hipótesis**\n",
        "\n",
        "**H0**: la serie no tiene tendencia\n",
        "\n",
        "**H1**: la serie tiene tendencia\n",
        "\n",
        "Criterio: Rechazamos H0 si p-valor<alfa(0.05)\n",
        "\n",
        "**P-valor=0.000<0.05**, con un 95% de confianza rechazamos H0\n",
        "\n",
        "**La serie es no estacionaria en media**"
      ]
    },
    {
      "cell_type": "markdown",
      "metadata": {
        "id": "d0gyzcWWspX9"
      },
      "source": [
        "### Revisando estacionariedad en varianza con la Prueba Dickey-Fuller Aumentada"
      ]
    },
    {
      "cell_type": "code",
      "metadata": {
        "colab": {
          "base_uri": "https://localhost:8080/",
          "height": 265
        },
        "id": "DTPDMqq9srEr",
        "outputId": "c529b37a-e86d-4058-83dc-e5d9797d5f2f"
      },
      "source": [
        "GSP2=GSP.drop(columns=['Index'])\n",
        "GSP2.head(6)"
      ],
      "execution_count": null,
      "outputs": [
        {
          "output_type": "execute_result",
          "data": {
            "text/html": [
              "<div>\n",
              "<style scoped>\n",
              "    .dataframe tbody tr th:only-of-type {\n",
              "        vertical-align: middle;\n",
              "    }\n",
              "\n",
              "    .dataframe tbody tr th {\n",
              "        vertical-align: top;\n",
              "    }\n",
              "\n",
              "    .dataframe thead th {\n",
              "        text-align: right;\n",
              "    }\n",
              "</style>\n",
              "<table border=\"1\" class=\"dataframe\">\n",
              "  <thead>\n",
              "    <tr style=\"text-align: right;\">\n",
              "      <th></th>\n",
              "      <th>CloseUSD</th>\n",
              "    </tr>\n",
              "    <tr>\n",
              "      <th>Date</th>\n",
              "      <th></th>\n",
              "    </tr>\n",
              "  </thead>\n",
              "  <tbody>\n",
              "    <tr>\n",
              "      <th>2020-01-02</th>\n",
              "      <td>14193.000000</td>\n",
              "    </tr>\n",
              "    <tr>\n",
              "      <th>2020-01-03</th>\n",
              "      <td>14164.862676</td>\n",
              "    </tr>\n",
              "    <tr>\n",
              "      <th>2020-01-06</th>\n",
              "      <td>14197.565000</td>\n",
              "    </tr>\n",
              "    <tr>\n",
              "      <th>2020-01-07</th>\n",
              "      <td>14249.522676</td>\n",
              "    </tr>\n",
              "    <tr>\n",
              "      <th>2020-01-08</th>\n",
              "      <td>14249.274647</td>\n",
              "    </tr>\n",
              "    <tr>\n",
              "      <th>2020-01-09</th>\n",
              "      <td>14305.547676</td>\n",
              "    </tr>\n",
              "  </tbody>\n",
              "</table>\n",
              "</div>"
            ],
            "text/plain": [
              "                CloseUSD\n",
              "Date                    \n",
              "2020-01-02  14193.000000\n",
              "2020-01-03  14164.862676\n",
              "2020-01-06  14197.565000\n",
              "2020-01-07  14249.522676\n",
              "2020-01-08  14249.274647\n",
              "2020-01-09  14305.547676"
            ]
          },
          "metadata": {},
          "execution_count": 14
        }
      ]
    },
    {
      "cell_type": "code",
      "metadata": {
        "colab": {
          "base_uri": "https://localhost:8080/"
        },
        "id": "lnrkNVRbuM-B",
        "outputId": "7c483a45-81ca-46af-9aa0-0a5b5cbd94c2"
      },
      "source": [
        "adf_test(GSP2['CloseUSD'])"
      ],
      "execution_count": null,
      "outputs": [
        {
          "output_type": "stream",
          "name": "stdout",
          "text": [
            "Resultados de la prueba Dickey-Fuller:\n",
            "Test Statistic                     -1.732057\n",
            "p-valor                             0.414676\n",
            "#Lags Used                          9.000000\n",
            "Numero de observaciones usadas    325.000000\n",
            "Critical Value (1%)                -3.450632\n",
            "Critical Value (5%)                -2.870474\n",
            "Critical Value (10%)               -2.571530\n",
            "dtype: float64\n"
          ]
        }
      ]
    },
    {
      "cell_type": "markdown",
      "metadata": {
        "id": "syuVhPGUwKRC"
      },
      "source": [
        "#### **Prueba de hipótesis**\n",
        "**H0**: la serie no es estacionaria\n",
        "\n",
        "**H1**: la serie es estacionaria\n",
        "\n",
        "Criterio: Rechazamos H0 si p-valor<alfa(0.05)\n",
        "\n",
        "**P-valor=0.414676>0.05**, con un 95% de confianza no rechazamos H0\n",
        "\n",
        "**La serie es no estacionaria en varianza**\n"
      ]
    },
    {
      "cell_type": "markdown",
      "metadata": {
        "id": "TIaY_Kv9wrrX"
      },
      "source": [
        "## **Se tiene que corregir la serie para hacerse estacionaria**"
      ]
    },
    {
      "cell_type": "markdown",
      "metadata": {
        "id": "1PgzwPrEwvFT"
      },
      "source": [
        "### Correcciones"
      ]
    },
    {
      "cell_type": "code",
      "metadata": {
        "colab": {
          "base_uri": "https://localhost:8080/",
          "height": 294
        },
        "id": "zqq6ay3twyXP",
        "outputId": "9c078e31-68cb-4df3-b68c-e8212e3a1cf8"
      },
      "source": [
        "GSP2['CloseUSD_log'] = np.log(GSP2['CloseUSD'])\n",
        "GSP2['CloseUSD_log_diff'] = GSP2['CloseUSD_log'] - GSP2['CloseUSD_log'].shift(1)\n",
        "GSP2['CloseUSD_log_diff'].dropna().plot()\n"
      ],
      "execution_count": null,
      "outputs": [
        {
          "output_type": "execute_result",
          "data": {
            "text/plain": [
              "<matplotlib.axes._subplots.AxesSubplot at 0x7fc293ea7a50>"
            ]
          },
          "metadata": {},
          "execution_count": 42
        },
        {
          "output_type": "display_data",
          "data": {
            "image/png": "[encoded data removed]",
            "text/plain": [
              "<Figure size 432x288 with 1 Axes>"
            ]
          },
          "metadata": {
            "needs_background": "light"
          }
        }
      ]
    },
    {
      "cell_type": "markdown",
      "metadata": {
        "id": "-7AvAx-0ydEv"
      },
      "source": [
        "### Revisando estacionariedad en media"
      ]
    },
    {
      "cell_type": "code",
      "metadata": {
        "colab": {
          "base_uri": "https://localhost:8080/",
          "height": 417
        },
        "id": "9FE-XB88yf39",
        "outputId": "be669c62-c2bb-4100-8b20-98ed87ce8272"
      },
      "source": [
        "GSP2_c = GSP2.reset_index().drop([0], axis=0)\n",
        "GSP2_c"
      ],
      "execution_count": null,
      "outputs": [
        {
          "output_type": "execute_result",
          "data": {
            "text/html": [
              "<div>\n",
              "<style scoped>\n",
              "    .dataframe tbody tr th:only-of-type {\n",
              "        vertical-align: middle;\n",
              "    }\n",
              "\n",
              "    .dataframe tbody tr th {\n",
              "        vertical-align: top;\n",
              "    }\n",
              "\n",
              "    .dataframe thead th {\n",
              "        text-align: right;\n",
              "    }\n",
              "</style>\n",
              "<table border=\"1\" class=\"dataframe\">\n",
              "  <thead>\n",
              "    <tr style=\"text-align: right;\">\n",
              "      <th></th>\n",
              "      <th>Date</th>\n",
              "      <th>CloseUSD</th>\n",
              "      <th>CloseUSD_log</th>\n",
              "      <th>CloseUSD_log_diff</th>\n",
              "    </tr>\n",
              "  </thead>\n",
              "  <tbody>\n",
              "    <tr>\n",
              "      <th>1</th>\n",
              "      <td>2020-01-03</td>\n",
              "      <td>14164.862676</td>\n",
              "      <td>9.558520</td>\n",
              "      <td>-0.001984</td>\n",
              "    </tr>\n",
              "    <tr>\n",
              "      <th>2</th>\n",
              "      <td>2020-01-06</td>\n",
              "      <td>14197.565000</td>\n",
              "      <td>9.560826</td>\n",
              "      <td>0.002306</td>\n",
              "    </tr>\n",
              "    <tr>\n",
              "      <th>3</th>\n",
              "      <td>2020-01-07</td>\n",
              "      <td>14249.522676</td>\n",
              "      <td>9.564479</td>\n",
              "      <td>0.003653</td>\n",
              "    </tr>\n",
              "    <tr>\n",
              "      <th>4</th>\n",
              "      <td>2020-01-08</td>\n",
              "      <td>14249.274647</td>\n",
              "      <td>9.564461</td>\n",
              "      <td>-0.000017</td>\n",
              "    </tr>\n",
              "    <tr>\n",
              "      <th>5</th>\n",
              "      <td>2020-01-09</td>\n",
              "      <td>14305.547676</td>\n",
              "      <td>9.568403</td>\n",
              "      <td>0.003941</td>\n",
              "    </tr>\n",
              "    <tr>\n",
              "      <th>...</th>\n",
              "      <td>...</td>\n",
              "      <td>...</td>\n",
              "      <td>...</td>\n",
              "      <td>...</td>\n",
              "    </tr>\n",
              "    <tr>\n",
              "      <th>330</th>\n",
              "      <td>2021-04-26</td>\n",
              "      <td>15911.597676</td>\n",
              "      <td>9.674804</td>\n",
              "      <td>0.003569</td>\n",
              "    </tr>\n",
              "    <tr>\n",
              "      <th>331</th>\n",
              "      <td>2021-04-27</td>\n",
              "      <td>15915.332676</td>\n",
              "      <td>9.675038</td>\n",
              "      <td>0.000235</td>\n",
              "    </tr>\n",
              "    <tr>\n",
              "      <th>332</th>\n",
              "      <td>2021-04-28</td>\n",
              "      <td>16066.310000</td>\n",
              "      <td>9.684480</td>\n",
              "      <td>0.009442</td>\n",
              "    </tr>\n",
              "    <tr>\n",
              "      <th>333</th>\n",
              "      <td>2021-04-29</td>\n",
              "      <td>15982.397324</td>\n",
              "      <td>9.679243</td>\n",
              "      <td>-0.005237</td>\n",
              "    </tr>\n",
              "    <tr>\n",
              "      <th>334</th>\n",
              "      <td>2021-04-30</td>\n",
              "      <td>15859.889647</td>\n",
              "      <td>9.671549</td>\n",
              "      <td>-0.007695</td>\n",
              "    </tr>\n",
              "  </tbody>\n",
              "</table>\n",
              "<p>334 rows × 4 columns</p>\n",
              "</div>"
            ],
            "text/plain": [
              "          Date      CloseUSD  CloseUSD_log  CloseUSD_log_diff\n",
              "1   2020-01-03  14164.862676      9.558520          -0.001984\n",
              "2   2020-01-06  14197.565000      9.560826           0.002306\n",
              "3   2020-01-07  14249.522676      9.564479           0.003653\n",
              "4   2020-01-08  14249.274647      9.564461          -0.000017\n",
              "5   2020-01-09  14305.547676      9.568403           0.003941\n",
              "..         ...           ...           ...                ...\n",
              "330 2021-04-26  15911.597676      9.674804           0.003569\n",
              "331 2021-04-27  15915.332676      9.675038           0.000235\n",
              "332 2021-04-28  16066.310000      9.684480           0.009442\n",
              "333 2021-04-29  15982.397324      9.679243          -0.005237\n",
              "334 2021-04-30  15859.889647      9.671549          -0.007695\n",
              "\n",
              "[334 rows x 4 columns]"
            ]
          },
          "metadata": {},
          "execution_count": 43
        }
      ]
    },
    {
      "cell_type": "code",
      "metadata": {
        "colab": {
          "base_uri": "https://localhost:8080/"
        },
        "id": "4oHOTgtvyoVG",
        "outputId": "cc89db64-7ac6-431f-bd1d-9abfcc49afd5"
      },
      "source": [
        "x = np.arange(GSP2_c['Date'].size)\n",
        "fit = np.polyfit(x,GSP2_c['CloseUSD_log_diff'], deg=1)\n",
        "print (\"Slope : \" + str(fit[0]))\n",
        "print (\"Intercept : \" + str(fit[1]))"
      ],
      "execution_count": null,
      "outputs": [
        {
          "output_type": "stream",
          "name": "stdout",
          "text": [
            "Slope : 9.529748894303975e-06\n",
            "Intercept : -0.0012542350084283158\n"
          ]
        }
      ]
    },
    {
      "cell_type": "code",
      "metadata": {
        "colab": {
          "base_uri": "https://localhost:8080/",
          "height": 295
        },
        "id": "xHRUK6bmyy2z",
        "outputId": "640936af-16de-4316-9e88-3f8cbd841340"
      },
      "source": [
        "fit_function = np.poly1d(fit)\n",
        "plt.plot(GSP2_c['Date'], fit_function(x))\n",
        "plt.plot(GSP2_c['Date'], GSP2_c['CloseUSD_log_diff'])\n",
        "\n",
        "plt.xlabel('Fecha')\n",
        "plt.ylabel('CloseUSD')\n",
        "plt.title('GSPTSE')\n",
        "plt.show()"
      ],
      "execution_count": null,
      "outputs": [
        {
          "output_type": "display_data",
          "data": {
            "image/png": "[encoded data removed]",
            "text/plain": [
              "<Figure size 432x288 with 1 Axes>"
            ]
          },
          "metadata": {
            "needs_background": "light"
          }
        }
      ]
    },
    {
      "cell_type": "markdown",
      "metadata": {
        "id": "43dTXkfmy9SP"
      },
      "source": [
        "Visualmente parece que no se tiene tendencia"
      ]
    },
    {
      "cell_type": "code",
      "metadata": {
        "colab": {
          "base_uri": "https://localhost:8080/"
        },
        "id": "Wr7i1jnAzHCj",
        "outputId": "f704033e-bae0-4495-8143-346d88166007"
      },
      "source": [
        "X = np.arange(GSP2_c['Date'].size).reshape(-1, 1)\n",
        "y = GSP2_c['CloseUSD_log_diff']\n",
        "X2 = sm.add_constant(X)\n",
        "est = sm.OLS(y, X2)\n",
        "est2 = est.fit()\n",
        "print(est2.summary())\n"
      ],
      "execution_count": null,
      "outputs": [
        {
          "output_type": "stream",
          "name": "stdout",
          "text": [
            "                            OLS Regression Results                            \n",
            "==============================================================================\n",
            "Dep. Variable:      CloseUSD_log_diff   R-squared:                       0.002\n",
            "Model:                            OLS   Adj. R-squared:                 -0.001\n",
            "Method:                 Least Squares   F-statistic:                    0.8128\n",
            "Date:                Mon, 18 Oct 2021   Prob (F-statistic):              0.368\n",
            "Time:                        19:07:00   Log-Likelihood:                 857.46\n",
            "No. Observations:                 334   AIC:                            -1711.\n",
            "Df Residuals:                     332   BIC:                            -1703.\n",
            "Df Model:                           1                                         \n",
            "Covariance Type:            nonrobust                                         \n",
            "==============================================================================\n",
            "                 coef    std err          t      P>|t|      [0.025      0.975]\n",
            "------------------------------------------------------------------------------\n",
            "const         -0.0013      0.002     -0.617      0.538      -0.005       0.003\n",
            "x1           9.53e-06   1.06e-05      0.902      0.368   -1.13e-05    3.03e-05\n",
            "==============================================================================\n",
            "Omnibus:                      164.489   Durbin-Watson:                   2.530\n",
            "Prob(Omnibus):                  0.000   Jarque-Bera (JB):             5098.931\n",
            "Skew:                          -1.397   Prob(JB):                         0.00\n",
            "Kurtosis:                      21.936   Cond. No.                         384.\n",
            "==============================================================================\n",
            "\n",
            "Warnings:\n",
            "[1] Standard Errors assume that the covariance matrix of the errors is correctly specified.\n"
          ]
        }
      ]
    },
    {
      "cell_type": "markdown",
      "metadata": {
        "id": "-Zx6n8q8zQHb"
      },
      "source": [
        "#### **Prueba de hipótesis**\n",
        "\n",
        "**H0**: la serie no tiene tendencia\n",
        "\n",
        "**H1**: la serie tiene tendencia\n",
        "\n",
        "Criterio: Rechazamos H0 si p-valor<alfa(0.05)\n",
        "\n",
        "**P-valor=0.368>0.05**, con un 95% de confianza no rechazamos H0\n",
        "\n",
        "**La serie es estacionaria en media**"
      ]
    },
    {
      "cell_type": "markdown",
      "metadata": {
        "id": "0CP5VSr1zykM"
      },
      "source": [
        "### Revisando estacionariedad en varianza con la Prueba Dickey-Fuller Aumentada"
      ]
    },
    {
      "cell_type": "code",
      "metadata": {
        "colab": {
          "base_uri": "https://localhost:8080/"
        },
        "id": "v0Q7X4gqz1rE",
        "outputId": "b43b8a7b-cc71-4d17-ae28-be625c68600a"
      },
      "source": [
        "adf_test(GSP2['CloseUSD_log_diff'].dropna())"
      ],
      "execution_count": null,
      "outputs": [
        {
          "output_type": "stream",
          "name": "stdout",
          "text": [
            "Resultados de la prueba Dickey-Fuller:\n",
            "Test Statistic                     -5.570475\n",
            "p-valor                             0.000001\n",
            "#Lags Used                          6.000000\n",
            "Numero de observaciones usadas    327.000000\n",
            "Critical Value (1%)                -3.450507\n",
            "Critical Value (5%)                -2.870420\n",
            "Critical Value (10%)               -2.571501\n",
            "dtype: float64\n"
          ]
        }
      ]
    },
    {
      "cell_type": "markdown",
      "metadata": {
        "id": "k7OZDXe10YRB"
      },
      "source": [
        "\n",
        "#### **Prueba de hipótesis**\n",
        "**H0**: la serie no es estacionaria\n",
        "\n",
        "**H1**: la serie es estacionaria\n",
        "\n",
        "Criterio: Rechazamos H0 si p-valor<alfa(0.05)\n",
        "\n",
        "**P-valor=0.000001<0.05**, con un 95% de confianza rechazamos H0\n",
        "\n",
        "**La serie es estacionaria en media y varianza**\n"
      ]
    },
    {
      "cell_type": "markdown",
      "metadata": {
        "id": "L5HAJUag0yzz"
      },
      "source": [
        "## **Modelo ARIMA**"
      ]
    },
    {
      "cell_type": "code",
      "metadata": {
        "colab": {
          "base_uri": "https://localhost:8080/",
          "height": 1000
        },
        "id": "X6d6B1UI05_m",
        "outputId": "4788451d-9730-45d3-a486-fc190adc7563"
      },
      "source": [
        "arima_model3 = arimamodel(GSP2['CloseUSD_log_diff'].dropna())\n",
        "arima_model3.summary()"
      ],
      "execution_count": null,
      "outputs": [
        {
          "output_type": "stream",
          "name": "stdout",
          "text": [
            "Performing stepwise search to minimize aic\n",
            " ARIMA(1,0,1)(0,0,0)[0] intercept   : AIC=-1731.309, Time=0.25 sec\n",
            " ARIMA(0,0,0)(0,0,0)[0] intercept   : AIC=-1710.106, Time=0.08 sec\n",
            " ARIMA(1,0,0)(0,0,0)[0] intercept   : AIC=-1731.812, Time=0.11 sec\n",
            " ARIMA(0,0,1)(0,0,0)[0] intercept   : AIC=-1726.288, Time=0.19 sec\n",
            " ARIMA(0,0,0)(0,0,0)[0]             : AIC=-1711.999, Time=0.03 sec\n",
            " ARIMA(2,0,0)(0,0,0)[0] intercept   : AIC=-1732.918, Time=0.07 sec\n",
            " ARIMA(3,0,0)(0,0,0)[0] intercept   : AIC=-1737.305, Time=0.12 sec\n",
            " ARIMA(4,0,0)(0,0,0)[0] intercept   : AIC=-1736.774, Time=0.12 sec\n",
            " ARIMA(3,0,1)(0,0,0)[0] intercept   : AIC=-1737.768, Time=0.78 sec\n",
            " ARIMA(2,0,1)(0,0,0)[0] intercept   : AIC=-1738.342, Time=0.61 sec\n",
            " ARIMA(2,0,2)(0,0,0)[0] intercept   : AIC=-1735.963, Time=0.66 sec\n",
            " ARIMA(1,0,2)(0,0,0)[0] intercept   : AIC=-1739.339, Time=0.13 sec\n",
            " ARIMA(0,0,2)(0,0,0)[0] intercept   : AIC=-1737.463, Time=0.14 sec\n",
            " ARIMA(1,0,3)(0,0,0)[0] intercept   : AIC=-1741.518, Time=0.82 sec\n",
            " ARIMA(0,0,3)(0,0,0)[0] intercept   : AIC=-1740.349, Time=0.56 sec\n",
            " ARIMA(2,0,3)(0,0,0)[0] intercept   : AIC=-1736.832, Time=0.89 sec\n",
            " ARIMA(1,0,4)(0,0,0)[0] intercept   : AIC=-1746.903, Time=0.95 sec\n",
            " ARIMA(0,0,4)(0,0,0)[0] intercept   : AIC=-1739.259, Time=0.85 sec\n",
            " ARIMA(2,0,4)(0,0,0)[0] intercept   : AIC=-1746.548, Time=1.12 sec\n",
            " ARIMA(1,0,5)(0,0,0)[0] intercept   : AIC=-1751.701, Time=1.14 sec\n",
            " ARIMA(0,0,5)(0,0,0)[0] intercept   : AIC=-1738.764, Time=1.15 sec\n",
            " ARIMA(2,0,5)(0,0,0)[0] intercept   : AIC=-1762.475, Time=1.35 sec\n",
            " ARIMA(3,0,5)(0,0,0)[0] intercept   : AIC=-1763.669, Time=1.61 sec\n",
            " ARIMA(3,0,4)(0,0,0)[0] intercept   : AIC=-1753.138, Time=1.21 sec\n",
            " ARIMA(4,0,5)(0,0,0)[0] intercept   : AIC=-1766.987, Time=1.71 sec\n",
            " ARIMA(4,0,4)(0,0,0)[0] intercept   : AIC=-1758.394, Time=1.47 sec\n",
            " ARIMA(5,0,5)(0,0,0)[0] intercept   : AIC=-1766.915, Time=1.89 sec\n",
            " ARIMA(5,0,4)(0,0,0)[0] intercept   : AIC=-1769.962, Time=1.47 sec\n",
            " ARIMA(5,0,3)(0,0,0)[0] intercept   : AIC=-1729.642, Time=1.44 sec\n",
            " ARIMA(4,0,3)(0,0,0)[0] intercept   : AIC=-1732.225, Time=1.19 sec\n",
            " ARIMA(5,0,4)(0,0,0)[0]             : AIC=-1771.729, Time=0.84 sec\n",
            " ARIMA(4,0,4)(0,0,0)[0]             : AIC=-1759.655, Time=0.67 sec\n",
            " ARIMA(5,0,3)(0,0,0)[0]             : AIC=-1732.343, Time=0.75 sec\n",
            " ARIMA(5,0,5)(0,0,0)[0]             : AIC=-1769.112, Time=1.12 sec\n",
            " ARIMA(4,0,3)(0,0,0)[0]             : AIC=-1735.409, Time=0.60 sec\n",
            " ARIMA(4,0,5)(0,0,0)[0]             : AIC=-1768.869, Time=0.82 sec\n",
            "\n",
            "Best model:  ARIMA(5,0,4)(0,0,0)[0]          \n",
            "Total fit time: 28.969 seconds\n"
          ]
        },
        {
          "output_type": "execute_result",
          "data": {
            "text/html": [
              "<table class=\"simpletable\">\n",
              "<caption>Statespace Model Results</caption>\n",
              "<tr>\n",
              "  <th>Dep. Variable:</th>           <td>y</td>        <th>  No. Observations:  </th>    <td>334</td>   \n",
              "</tr>\n",
              "<tr>\n",
              "  <th>Model:</th>           <td>SARIMAX(5, 0, 4)</td> <th>  Log Likelihood     </th>  <td>895.864</td> \n",
              "</tr>\n",
              "<tr>\n",
              "  <th>Date:</th>            <td>Mon, 18 Oct 2021</td> <th>  AIC                </th> <td>-1771.729</td>\n",
              "</tr>\n",
              "<tr>\n",
              "  <th>Time:</th>                <td>19:26:51</td>     <th>  BIC                </th> <td>-1733.618</td>\n",
              "</tr>\n",
              "<tr>\n",
              "  <th>Sample:</th>                  <td>0</td>        <th>  HQIC               </th> <td>-1756.533</td>\n",
              "</tr>\n",
              "<tr>\n",
              "  <th></th>                      <td> - 334</td>      <th>                     </th>     <td> </td>    \n",
              "</tr>\n",
              "<tr>\n",
              "  <th>Covariance Type:</th>        <td>opg</td>       <th>                     </th>     <td> </td>    \n",
              "</tr>\n",
              "</table>\n",
              "<table class=\"simpletable\">\n",
              "<tr>\n",
              "     <td></td>       <th>coef</th>     <th>std err</th>      <th>z</th>      <th>P>|z|</th>  <th>[0.025</th>    <th>0.975]</th>  \n",
              "</tr>\n",
              "<tr>\n",
              "  <th>ar.L1</th>  <td>   -1.3880</td> <td>    0.082</td> <td>  -17.003</td> <td> 0.000</td> <td>   -1.548</td> <td>   -1.228</td>\n",
              "</tr>\n",
              "<tr>\n",
              "  <th>ar.L2</th>  <td>   -0.9147</td> <td>    0.176</td> <td>   -5.186</td> <td> 0.000</td> <td>   -1.260</td> <td>   -0.569</td>\n",
              "</tr>\n",
              "<tr>\n",
              "  <th>ar.L3</th>  <td>   -0.1934</td> <td>    0.216</td> <td>   -0.896</td> <td> 0.370</td> <td>   -0.616</td> <td>    0.229</td>\n",
              "</tr>\n",
              "<tr>\n",
              "  <th>ar.L4</th>  <td>    0.3199</td> <td>    0.142</td> <td>    2.257</td> <td> 0.024</td> <td>    0.042</td> <td>    0.598</td>\n",
              "</tr>\n",
              "<tr>\n",
              "  <th>ar.L5</th>  <td>    0.3522</td> <td>    0.036</td> <td>    9.778</td> <td> 0.000</td> <td>    0.282</td> <td>    0.423</td>\n",
              "</tr>\n",
              "<tr>\n",
              "  <th>ma.L1</th>  <td>    1.2114</td> <td>    0.101</td> <td>   11.979</td> <td> 0.000</td> <td>    1.013</td> <td>    1.410</td>\n",
              "</tr>\n",
              "<tr>\n",
              "  <th>ma.L2</th>  <td>    0.7957</td> <td>    0.204</td> <td>    3.894</td> <td> 0.000</td> <td>    0.395</td> <td>    1.196</td>\n",
              "</tr>\n",
              "<tr>\n",
              "  <th>ma.L3</th>  <td>    0.3262</td> <td>    0.240</td> <td>    1.358</td> <td> 0.174</td> <td>   -0.144</td> <td>    0.797</td>\n",
              "</tr>\n",
              "<tr>\n",
              "  <th>ma.L4</th>  <td>   -0.0241</td> <td>    0.133</td> <td>   -0.181</td> <td> 0.856</td> <td>   -0.285</td> <td>    0.237</td>\n",
              "</tr>\n",
              "<tr>\n",
              "  <th>sigma2</th> <td>    0.0003</td> <td> 8.14e-06</td> <td>   33.516</td> <td> 0.000</td> <td>    0.000</td> <td>    0.000</td>\n",
              "</tr>\n",
              "</table>\n",
              "<table class=\"simpletable\">\n",
              "<tr>\n",
              "  <th>Ljung-Box (Q):</th>          <td>29.13</td> <th>  Jarque-Bera (JB):  </th> <td>5569.99</td>\n",
              "</tr>\n",
              "<tr>\n",
              "  <th>Prob(Q):</th>                <td>0.90</td>  <th>  Prob(JB):          </th>  <td>0.00</td>  \n",
              "</tr>\n",
              "<tr>\n",
              "  <th>Heteroskedasticity (H):</th> <td>0.08</td>  <th>  Skew:              </th>  <td>-1.35</td> \n",
              "</tr>\n",
              "<tr>\n",
              "  <th>Prob(H) (two-sided):</th>    <td>0.00</td>  <th>  Kurtosis:          </th>  <td>22.82</td> \n",
              "</tr>\n",
              "</table><br/><br/>Warnings:<br/>[1] Covariance matrix calculated using the outer product of gradients (complex-step)."
            ],
            "text/plain": [
              "<class 'statsmodels.iolib.summary.Summary'>\n",
              "\"\"\"\n",
              "                           Statespace Model Results                           \n",
              "==============================================================================\n",
              "Dep. Variable:                      y   No. Observations:                  334\n",
              "Model:               SARIMAX(5, 0, 4)   Log Likelihood                 895.864\n",
              "Date:                Mon, 18 Oct 2021   AIC                          -1771.729\n",
              "Time:                        19:26:51   BIC                          -1733.618\n",
              "Sample:                             0   HQIC                         -1756.533\n",
              "                                - 334                                         \n",
              "Covariance Type:                  opg                                         \n",
              "==============================================================================\n",
              "                 coef    std err          z      P>|z|      [0.025      0.975]\n",
              "------------------------------------------------------------------------------\n",
              "ar.L1         -1.3880      0.082    -17.003      0.000      -1.548      -1.228\n",
              "ar.L2         -0.9147      0.176     -5.186      0.000      -1.260      -0.569\n",
              "ar.L3         -0.1934      0.216     -0.896      0.370      -0.616       0.229\n",
              "ar.L4          0.3199      0.142      2.257      0.024       0.042       0.598\n",
              "ar.L5          0.3522      0.036      9.778      0.000       0.282       0.423\n",
              "ma.L1          1.2114      0.101     11.979      0.000       1.013       1.410\n",
              "ma.L2          0.7957      0.204      3.894      0.000       0.395       1.196\n",
              "ma.L3          0.3262      0.240      1.358      0.174      -0.144       0.797\n",
              "ma.L4         -0.0241      0.133     -0.181      0.856      -0.285       0.237\n",
              "sigma2         0.0003   8.14e-06     33.516      0.000       0.000       0.000\n",
              "===================================================================================\n",
              "Ljung-Box (Q):                       29.13   Jarque-Bera (JB):              5569.99\n",
              "Prob(Q):                              0.90   Prob(JB):                         0.00\n",
              "Heteroskedasticity (H):               0.08   Skew:                            -1.35\n",
              "Prob(H) (two-sided):                  0.00   Kurtosis:                        22.82\n",
              "===================================================================================\n",
              "\n",
              "Warnings:\n",
              "[1] Covariance matrix calculated using the outer product of gradients (complex-step).\n",
              "\"\"\""
            ]
          },
          "metadata": {},
          "execution_count": 55
        }
      ]
    },
    {
      "cell_type": "markdown",
      "metadata": {
        "id": "bg62mQjd1rge"
      },
      "source": [
        "Se obtuvo que el mejor modelo es un ARIMA(5,0,4), debido a que su AIC fue el más bajo con -1771.729"
      ]
    },
    {
      "cell_type": "markdown",
      "metadata": {
        "id": "m7i1aW8l39XP"
      },
      "source": [
        "## **Supuestos de ruido blanco**"
      ]
    },
    {
      "cell_type": "code",
      "metadata": {
        "id": "HQDBZJjV4A14"
      },
      "source": [
        "res3=arima_model3.resid()"
      ],
      "execution_count": null,
      "outputs": []
    },
    {
      "cell_type": "markdown",
      "metadata": {
        "id": "xpEPWZkf4G5S"
      },
      "source": [
        "### **Media**"
      ]
    },
    {
      "cell_type": "code",
      "metadata": {
        "colab": {
          "base_uri": "https://localhost:8080/"
        },
        "id": "lrpdOVyh4KjK",
        "outputId": "d8712c76-b68a-46b0-d327-5f5ab36b9d78"
      },
      "source": [
        "res3.mean()"
      ],
      "execution_count": null,
      "outputs": [
        {
          "output_type": "execute_result",
          "data": {
            "text/plain": [
              "0.0002782099523244686"
            ]
          },
          "metadata": {},
          "execution_count": 57
        }
      ]
    },
    {
      "cell_type": "markdown",
      "metadata": {
        "id": "CD-Gmnml4O7L"
      },
      "source": [
        "Cumple con el supuesto de media cero"
      ]
    },
    {
      "cell_type": "markdown",
      "metadata": {
        "id": "MHnuMzlW4SE6"
      },
      "source": [
        "### **Varianza**"
      ]
    },
    {
      "cell_type": "code",
      "metadata": {
        "colab": {
          "base_uri": "https://localhost:8080/",
          "height": 282
        },
        "id": "nidEIguj4Xu7",
        "outputId": "cb334d7e-6ab7-4f58-db74-2c69c12f96d5"
      },
      "source": [
        "plt.scatter(GSP2_c.Date,res3)\n",
        "plt.axhline(color=\"black\")"
      ],
      "execution_count": null,
      "outputs": [
        {
          "output_type": "execute_result",
          "data": {
            "text/plain": [
              "<matplotlib.lines.Line2D at 0x7fc28f96d990>"
            ]
          },
          "metadata": {},
          "execution_count": 58
        },
        {
          "output_type": "display_data",
          "data": {
            "image/png": "[encoded data removed]",
            "text/plain": [
              "<Figure size 432x288 with 1 Axes>"
            ]
          },
          "metadata": {
            "needs_background": "light"
          }
        }
      ]
    },
    {
      "cell_type": "markdown",
      "metadata": {
        "id": "NZBN-4J_4gAi"
      },
      "source": [
        "Sin patrones visibles en los residuales"
      ]
    },
    {
      "cell_type": "markdown",
      "metadata": {
        "id": "eM3zEotI4jR3"
      },
      "source": [
        "### **Independencia**"
      ]
    },
    {
      "cell_type": "code",
      "metadata": {
        "colab": {
          "base_uri": "https://localhost:8080/",
          "height": 612
        },
        "id": "O5GFQXME4m3r",
        "outputId": "836ef639-1dca-49de-d945-6cb7e3e27fd0"
      },
      "source": [
        "pmd.plot_acf(res3)\n",
        "pmd.plot_pacf(res3)\n",
        "sm.stats.acorr_ljungbox(res3,lags=1,boxpierce=True)"
      ],
      "execution_count": null,
      "outputs": [
        {
          "output_type": "display_data",
          "data": {
            "image/png": "[encoded data removed]",
            "text/plain": [
              "<Figure size 432x288 with 1 Axes>"
            ]
          },
          "metadata": {
            "needs_background": "light"
          }
        },
        {
          "output_type": "display_data",
          "data": {
            "image/png": "[encoded data removed]",
            "text/plain": [
              "<Figure size 432x288 with 1 Axes>"
            ]
          },
          "metadata": {
            "needs_background": "light"
          }
        },
        {
          "output_type": "execute_result",
          "data": {
            "text/plain": [
              "(array([0.01578342]),\n",
              " array([0.90002316]),\n",
              " array([0.0156425]),\n",
              " array([0.90046815]))"
            ]
          },
          "metadata": {},
          "execution_count": 60
        }
      ]
    },
    {
      "cell_type": "markdown",
      "metadata": {
        "id": "ph5TZS1e41y2"
      },
      "source": [
        "#### **Prueba de hipótesis**\n",
        "**H0**: residuales independientes\n",
        "\n",
        "**H1**: residuales relacionados\n",
        "\n",
        "Criterio: Rechazamos H0 si p-valor<alfa(0.05)\n",
        "\n",
        "**P-valor=0.90002316>0.05**, con un 95% de confianza no rechazamos H0\n",
        "\n",
        "**Los residuales son independientes**\n",
        "\n",
        "**Hasta aquí cumple con Ruido blanco** \n"
      ]
    },
    {
      "cell_type": "markdown",
      "metadata": {
        "id": "U4ZDcJgZ5pq2"
      },
      "source": [
        "### **Normalidad**"
      ]
    },
    {
      "cell_type": "code",
      "metadata": {
        "colab": {
          "base_uri": "https://localhost:8080/"
        },
        "id": "uOsydNv15xPf",
        "outputId": "84c472a8-48b9-40d2-9031-8abb2e119003"
      },
      "source": [
        "stats.shapiro(res3)"
      ],
      "execution_count": null,
      "outputs": [
        {
          "output_type": "execute_result",
          "data": {
            "text/plain": [
              "(0.7533789277076721, 5.238632158423141e-22)"
            ]
          },
          "metadata": {},
          "execution_count": 61
        }
      ]
    },
    {
      "cell_type": "markdown",
      "metadata": {
        "id": "uq2nLrT452-m"
      },
      "source": [
        "#### **Prueba de hipótesis**\n",
        "**H0**: los residuales provienen de una distribución normal\n",
        "\n",
        "**H1**: los residuales provienen de alguna otra distribución\n",
        "\n",
        "Criterio: Rechazamos H0 si p-valor<alfa(0.05)\n",
        "\n",
        "**P-valor=5.238632158423141e-22**<0.05, con un 95% de confianza rechazamos H0\n",
        "\n",
        "**Los residuales no cumplen normalidad, Ruido blanco no gaussiano**\n"
      ]
    },
    {
      "cell_type": "markdown",
      "metadata": {
        "id": "Sb5sqBzE6cs-"
      },
      "source": [
        "## **Predicciones de GSPTSE**"
      ]
    },
    {
      "cell_type": "code",
      "metadata": {
        "colab": {
          "base_uri": "https://localhost:8080/",
          "height": 789
        },
        "id": "vmrT1X5I6gqu",
        "outputId": "ba67d827-1fef-4669-d64f-1ed7c7596ab5"
      },
      "source": [
        "from statsmodels.tsa.statespace.sarimax import SARIMAX\n",
        "modelo3=SARIMAX(GSP2[\"CloseUSD\"],order=(5,1,4))\n",
        "result3=modelo3.fit()\n",
        "forecast3 = result3.predict(start = len(GSP2),end = (len(GSP2)-1) + 3 * 7,typ = 'levels').rename('Predicciones GSPTSE')\n",
        "\n",
        "#RPP2[\"CloseUSD\"].plot(figsize = (12, 5), legend = True)\n",
        "forecast3.plot(legend = True)\n",
        "forecast3"
      ],
      "execution_count": null,
      "outputs": [
        {
          "output_type": "stream",
          "name": "stderr",
          "text": [
            "/usr/local/lib/python3.7/dist-packages/statsmodels/tsa/base/tsa_model.py:219: ValueWarning: A date index has been provided, but it has no associated frequency information and so will be ignored when e.g. forecasting.\n",
            "  The location of the key\n",
            "/usr/local/lib/python3.7/dist-packages/statsmodels/tsa/statespace/sarimax.py:961: UserWarning: Non-invertible starting MA parameters found. Using zeros as starting parameters.\n",
            "  self.k_ar > 0 and\n",
            "/usr/local/lib/python3.7/dist-packages/statsmodels/base/model.py:512: ConvergenceWarning: Maximum Likelihood optimization failed to converge. Check mle_retvals\n",
            "  \n",
            "/usr/local/lib/python3.7/dist-packages/statsmodels/tsa/base/tsa_model.py:576: ValueWarning: No supported index is available. Prediction results will be given with an integer index beginning at `start`.\n",
            "  \n"
          ]
        },
        {
          "output_type": "execute_result",
          "data": {
            "text/plain": [
              "335    15866.132474\n",
              "336    15856.838679\n",
              "337    15835.400063\n",
              "338    15805.520978\n",
              "339    15832.119717\n",
              "340    15828.566823\n",
              "341    15814.159869\n",
              "342    15818.263622\n",
              "343    15821.254947\n",
              "344    15824.978904\n",
              "345    15813.396084\n",
              "346    15821.250437\n",
              "347    15821.025845\n",
              "348    15819.486162\n",
              "349    15818.853398\n",
              "350    15818.901004\n",
              "351    15821.967564\n",
              "352    15817.793044\n",
              "353    15820.210027\n",
              "354    15819.443574\n",
              "355    15820.089627\n",
              "Name: Predicciones GSPTSE, dtype: float64"
            ]
          },
          "metadata": {},
          "execution_count": 65
        },
        {
          "output_type": "display_data",
          "data": {
            "image/png": "[encoded data removed]",
            "text/plain": [
              "<Figure size 432x288 with 1 Axes>"
            ]
          },
          "metadata": {
            "needs_background": "light"
          }
        }
      ]
    },
    {
      "cell_type": "markdown",
      "metadata": {
        "id": "ZAtyqU6Q4iaY"
      },
      "source": [
        "## Comparación de las predicciones "
      ]
    },
    {
      "cell_type": "code",
      "metadata": {
        "colab": {
          "base_uri": "https://localhost:8080/",
          "height": 282
        },
        "id": "DMXjHY1M5BgD",
        "outputId": "c72ffdff-a562-4628-856c-497289dec87d"
      },
      "source": [
        "subplot(1,5,1,adjustable='datalim')\n",
        "forecast.plot(legend = True)\n",
        "subplot(1,5,3,adjustable='datalim')\n",
        "forecast2.plot(legend = True)\n",
        "subplot(1,5,5,adjustable='datalim')\n",
        "forecast3.plot(legend=True)"
      ],
      "execution_count": null,
      "outputs": [
        {
          "output_type": "execute_result",
          "data": {
            "text/plain": [
              "<matplotlib.axes._subplots.AxesSubplot at 0x7fc292bdfbd0>"
            ]
          },
          "metadata": {},
          "execution_count": 121
        },
        {
          "output_type": "display_data",
          "data": {
            "image/png": "[encoded data removed]",
            "text/plain": [
              "<Figure size 432x288 with 3 Axes>"
            ]
          },
          "metadata": {
            "needs_background": "light"
          }
        }
      ]
    },
    {
      "cell_type": "markdown",
      "metadata": {
        "id": "INEE_I2x4szj"
      },
      "source": [
        "# **Conclusión Final**\n",
        "\n",
        "Se obtuvieron las predicciones de 20 días después del 30 de Abril de 2021 para los índices. \n",
        "\n",
        "Los futuros de índices son la principal forma de operar sobre índices bursátiles. Sin un activo físico de por medio, la mayoría de las operaciones sobre índices ocurre a través de estos productos derivados llamados \"futuros\".\n",
        "\n",
        "Los futuros de índices se negocian de la misma forma que todos los demás contratos de futuros. Al adquirir futuros de índices, estarás negociando un contrato a plazo, es decir, pactando en el presente la cantidad específica y el precio de compra o venta que entrará en efecto en un fecha también preestablecida.\n",
        "\n",
        "**Posición larga**\n",
        "\n",
        "Al elegir una posición larga, estarás comprando el índice a un precio fijo ahora, para que venza en una fecha fijada en el futuro. Harías esto si esperas que el precio del índice suba entre el momento actual y la fecha de caducidad, para así beneficiarte al vender por un precio superior al pagado.\n",
        "\n",
        "El índice NYA fluctúa casi diariamente entre un rango de 16140 a 16220. Un inversionista en posición larga podría comprar el NYA a un precio moderado y esperar a que en sus constantes fluctuaciones tenga la oportunidad de vender a un precio alto.\n",
        "\n",
        "**Posición corta**\n",
        "\n",
        "Esto significaría que ahora estás vendiendo el índice a un precio fijo, para que venza en una fecha fijada en el futuro. Harías esto si pensaras que el precio del índice va a caer entre el momento actual y la fecha de caducidad, para beneficiarte al comprar a un precio inferior.\n",
        "\n",
        "Podemos observar que en los índices HSI y GSPTSE se predice que tendrán una caída en su precio en los siguientes días, el HSI se mantendrá estable días después, mientras que el GSPTSE intentará recuperarse pero su precio seguirá fluctuando. \n",
        "\n",
        "Desde una posición corta, convendría vender ya sea el índice HSI o GSPTSE dadas sus expectativas bajistas. "
      ]
    },
    {
      "cell_type": "markdown",
      "metadata": {
        "id": "LIjF-BWM4zMm"
      },
      "source": [
        "## Trabajo a futuro\n",
        "\n",
        "Nos gustaría la oportunidad de mejorar la parte final del trabajo, de manera que los resultados sean visualmente más entendibles y presentables. En caso de lograr esto, otra mejora que le podríamos dar a futuro es agregarle a la base de datos más registros que lleguen hasta el presente y obtener las predicciones a futuro."
      ]
    }
  ]
}