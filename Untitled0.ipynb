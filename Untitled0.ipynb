{
  "nbformat": 4,
  "nbformat_minor": 0,
  "metadata": {
    "colab": {
      "name": "Untitled0.ipynb",
      "provenance": [],
      "collapsed_sections": []
    },
    "kernelspec": {
      "name": "python3",
      "display_name": "Python 3"
    },
    "language_info": {
      "name": "python"
    }
  },
  "cells": [
    {
      "cell_type": "code",
      "metadata": {
        "id": "ep4Ok-j1V7Lo"
      },
      "source": [
        "Tarea 1 Mineria de Datos "
      ],
      "execution_count": null,
      "outputs": []
    },
    {
      "cell_type": "markdown",
      "metadata": {
        "id": "HGdfLMDrWBSE"
      },
      "source": [
        "tublas \n",
        "\n",
        "a) Crear una variable flotante, integer, boleana y compleja e imprimir el tipo de variable que es"
      ]
    },
    {
      "cell_type": "code",
      "metadata": {
        "id": "OQECcbt2WOaO",
        "colab": {
          "base_uri": "https://localhost:8080/",
          "height": 134
        },
        "outputId": "a0f1eab6-b773-448b-d10d-37f9b07bb845"
      },
      "source": [
        " var_flot = 3.14\n",
        "type(var_flot)\n",
        "<class 'float'>\n",
        ">>> var_ent = 22\n",
        ">>> type(var_ent)\n",
        "<class 'int'>\n",
        ">>> var_bol = 4<5\n",
        ">>> type(var_bol)\n",
        "<class 'bool'>\n",
        ">>> 4<5\n",
        "True\n",
        ">>> var_comp = 4+5j\n",
        ">>> type(var_comp)\n",
        "<class 'complex'>"
      ],
      "execution_count": null,
      "outputs": [
        {
          "output_type": "error",
          "ename": "SyntaxError",
          "evalue": "ignored",
          "traceback": [
            "\u001b[0;36m  File \u001b[0;32m\"<ipython-input-8-c324d7d4343b>\"\u001b[0;36m, line \u001b[0;32m3\u001b[0m\n\u001b[0;31m    <class 'float'>\u001b[0m\n\u001b[0m    ^\u001b[0m\n\u001b[0;31mSyntaxError\u001b[0m\u001b[0;31m:\u001b[0m invalid syntax\n"
          ]
        }
      ]
    },
    {
      "cell_type": "markdown",
      "metadata": {
        "id": "-WFENjrZXXzU"
      },
      "source": [
        "b) Crear una tupla con valores enteros imprimir el primer y ultimo valor"
      ]
    },
    {
      "cell_type": "code",
      "metadata": {
        "id": "ZNdqh9HzXeHc",
        "colab": {
          "base_uri": "https://localhost:8080/",
          "height": 134
        },
        "outputId": "c913321e-b0b1-4cd8-e950-2e79d672847f"
      },
      "source": [
        ">>> tup = (1,5.3,7,9,12.7,15)\n",
        ">>> type(tup)\n",
        "<class 'tuple'>\n",
        ">>> #primer elemento: 1\n",
        ">>> #ultimo elemento: 15\n",
        ">>> p_e = tup[0}\n",
        "  File \"<stdin>\", line 1\n",
        "    p_e = tup[0}\n",
        ">>> u_e = tup[-1]\n",
        ">>> print (p_e)\n",
        "1\n",
        ">>> print(u_e)\n",
        "15\n",
        ">>>"
      ],
      "execution_count": null,
      "outputs": [
        {
          "output_type": "error",
          "ename": "SyntaxError",
          "evalue": "ignored",
          "traceback": [
            "\u001b[0;36m  File \u001b[0;32m\"<ipython-input-5-02a88fff857b>\"\u001b[0;36m, line \u001b[0;32m3\u001b[0m\n\u001b[0;31m    <class 'tuple'>\u001b[0m\n\u001b[0m    ^\u001b[0m\n\u001b[0;31mSyntaxError\u001b[0m\u001b[0;31m:\u001b[0m invalid syntax\n"
          ]
        }
      ]
    },
    {
      "cell_type": "markdown",
      "metadata": {
        "id": "7RJc8E47c87z"
      },
      "source": [
        "c)Añadir 3 valores de string a la tupla"
      ]
    },
    {
      "cell_type": "code",
      "metadata": {
        "id": "Pf5QHtoRc-aF"
      },
      "source": [
        ">>> tup = (1,\"gato\",5.3,\"perro\",7,\"pajaro\",10.8)\n"
      ],
      "execution_count": null,
      "outputs": []
    },
    {
      "cell_type": "markdown",
      "metadata": {
        "id": "wfAii6KMfzig"
      },
      "source": [
        "d)Verificar si una variable existe dentro de la tupla"
      ]
    },
    {
      "cell_type": "code",
      "metadata": {
        "id": "WMfK-H61f2kW"
      },
      "source": [
        ">>> #buscar gato\n",
        ">>> print (tup.index(\"gato\"))\n",
        "1\n",
        ">>> #\"gato\" esta en la posicion 1, se verifico que existe "
      ],
      "execution_count": null,
      "outputs": []
    },
    {
      "cell_type": "markdown",
      "metadata": {
        "id": "63TrKMALhWiM"
      },
      "source": [
        "listas \n",
        "\n",
        "a)Crear una lista con 40 elementos aleatorios enteros."
      ]
    },
    {
      "cell_type": "code",
      "metadata": {
        "id": "nnyNJKLThej9"
      },
      "source": [
        "#pendiente "
      ],
      "execution_count": null,
      "outputs": []
    },
    {
      "cell_type": "markdown",
      "metadata": {
        "id": "aS2En6v1hhLR"
      },
      "source": [
        "b) Con una funcion (def) crear dos listas nuevas a partir de la lista creada por numeros aleatorios, en la cual en una esten los elementos pares, y en la otra los elementos impares"
      ]
    },
    {
      "cell_type": "code",
      "metadata": {
        "id": "wTy2_TnAhnBe"
      },
      "source": [
        "#pendiente "
      ],
      "execution_count": null,
      "outputs": []
    },
    {
      "cell_type": "markdown",
      "metadata": {
        "id": "jMX-ZBdVho8H"
      },
      "source": [
        "c) Crear dos variables con la longitud de ambas listas nuevas e imprimir las variables."
      ]
    },
    {
      "cell_type": "code",
      "metadata": {
        "id": "ohp6Lwm1htB5"
      },
      "source": [
        "#pendiente "
      ],
      "execution_count": null,
      "outputs": []
    },
    {
      "cell_type": "markdown",
      "metadata": {
        "id": "k7E0rDmWhu1m"
      },
      "source": [
        "d) Ordenar los elementos de la lista par de mayor a menor, y los de la lista impar de menor a mayor."
      ]
    },
    {
      "cell_type": "code",
      "metadata": {
        "id": "RSiQyL9hhz3O"
      },
      "source": [
        "#pendiente "
      ],
      "execution_count": null,
      "outputs": []
    },
    {
      "cell_type": "markdown",
      "metadata": {
        "id": "ZYudpVLHh4PX"
      },
      "source": [
        "e) Utilizar al menos cuatro de las funciones de listas en python en la lista original de 40 elementos."
      ]
    },
    {
      "cell_type": "code",
      "metadata": {
        "id": "-8GjCSROh7Dt"
      },
      "source": [
        "#pendiente "
      ],
      "execution_count": null,
      "outputs": []
    },
    {
      "cell_type": "markdown",
      "metadata": {
        "id": "9kMKnay6h8nl"
      },
      "source": [
        "Diccionarios \n",
        "\n",
        "a)Crear un diccionario de 6 personas que conozcas con su primer nombre y su edad"
      ]
    },
    {
      "cell_type": "code",
      "metadata": {
        "id": "16vMATEciDKL"
      },
      "source": [
        " #Diccionario\n",
        ">>> diccionario = {\"Gerardo\" : \"20\" , \"Silvia\" : \"49\" , \"Debany\" : \"19\" , \"Margarita\" : \"23\" , \"Victor\" : \"58\" , \"Melisa\" : \"13\"}\n",
        ">>> print(diccionario)\n",
        "{'Gerardo': '20', 'Silvia': '49', 'Debany': '19', 'Margarita': '23', 'Victor': '58', 'Melisa': '13'}"
      ],
      "execution_count": null,
      "outputs": []
    },
    {
      "cell_type": "markdown",
      "metadata": {
        "id": "d1Lvv_JAjdOM"
      },
      "source": [
        "b) Crear una lista con los valores de la edad y reacomodar la lista de menor a mayor valor"
      ]
    },
    {
      "cell_type": "code",
      "metadata": {
        "id": "csZV_WiKjigc"
      },
      "source": [
        ">>> lista = [\"20\" , \"49\" , \"19\" , \"23\" , \"58\" , \"13\"]\n",
        ">>> print(lista)\n",
        "['20', '49', '19', '23', '58', '13']\n",
        ">>> lista.sort()\n",
        ">>> print(lista)\n",
        "['13', '19', '20', '23', '49', '58']"
      ],
      "execution_count": null,
      "outputs": []
    },
    {
      "cell_type": "markdown",
      "metadata": {
        "id": "7pg2jHDTs2S5"
      },
      "source": [
        "d)Usando el diccionario y un loop, imprimir solo los nombres"
      ]
    },
    {
      "cell_type": "code",
      "metadata": {
        "id": "DoGydAyWs9PO"
      },
      "source": [
        "diccionario.keys()\n",
        "dict_keys(['Gerardo', 'Silvia', 'Debany', 'Margarita', 'Victor', 'Melisa'])\n",
        "for key in diccionario.items():\n",
        "... print(key)"
      ],
      "execution_count": null,
      "outputs": []
    },
    {
      "cell_type": "markdown",
      "metadata": {
        "id": "MzgVXynFuoo1"
      },
      "source": [
        "e)Añadir dos personas nuevas a tu diccionario, incluyendo edad"
      ]
    },
    {
      "cell_type": "code",
      "metadata": {
        "id": "KklcvBL8uuRC"
      },
      "source": [
        " diccionario[\"cecilia\"] = 22\n",
        ">>> diccionario[\"jose\"] = 70\n",
        ">>> print(diccionario)\n",
        "{'Gerardo': '20', 'Silvia': '49', 'Debany': '19', 'Margarita': '23', 'Victor': '58', 'Melisa': '13', 'cecilia': 22, 'jose': 70}"
      ],
      "execution_count": null,
      "outputs": []
    },
    {
      "cell_type": "markdown",
      "metadata": {
        "id": "d6LUpC1zeclL"
      },
      "source": [
        "sets\n",
        "\n",
        "a)Crea un set con 100 numeros aleatorios enteros del 1 al 25"
      ]
    },
    {
      "cell_type": "code",
      "metadata": {
        "id": "ujVyuS37ekrm"
      },
      "source": [
        " set100={1}\n",
        ">>> i=1\n",
        ">>> set100.remove(1)\n",
        ">>> while i<=100:\n",
        "... set100.add(random.randint(1,25))\n",
        "  File \"<stdin>\", line 2\n",
        "    set100.add(random.randint(1,25)) \n",
        "    i=i+1"
      ],
      "execution_count": null,
      "outputs": []
    },
    {
      "cell_type": "markdown",
      "metadata": {
        "id": "cGSKcCCle8aw"
      },
      "source": [
        "c) Comprueba la longitud de tu set"
      ]
    },
    {
      "cell_type": "code",
      "metadata": {
        "id": "unaYqtlufCCT"
      },
      "source": [
        "len(set100)\n"
      ],
      "execution_count": null,
      "outputs": []
    },
    {
      "cell_type": "markdown",
      "metadata": {
        "id": "Q1cez69UfQZu"
      },
      "source": [
        "Crea una lista de 5 numeros aleatorios del 1 al 10 y comprueba si cada valor aparece en el set inicial"
      ]
    },
    {
      "cell_type": "code",
      "metadata": {
        "id": "3p4uA_MlfWiL"
      },
      "source": [
        ">>> lista=[]\n",
        ">>> i=1\n",
        ">>> while i<=5:\n",
        "... lista.append(random.randint(1,10)\n",
        ">>> i=i+1\n",
        ">>> i=0\n",
        ">>> while 1<=4:\n",
        "    print(\"\\nNumero\" ,lista[i], \"esta en el set de 100 num?\")\n",
        "    \n",
        ">>> print(lista[i] in set100)\n",
        ">>> i=i+1"
      ],
      "execution_count": null,
      "outputs": []
    }
  ]
}